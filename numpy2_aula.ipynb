{
  "cells": [
    {
      "cell_type": "markdown",
      "metadata": {
        "id": "NsFq6x2Ea7mN"
      },
      "source": [
        "<center><h1> </h1></center>\n",
        "<center><h1>Aprendendo Matemática com Python</h1></center>\n",
        "<center><h2>Curso de Extensão</h2></center>\n",
        "<center><h3>Fernando Deeke Sasse</h3></center>\n",
        "<center><h3>CCT - UDESC</h3></center>\n",
        "<center><h2>NumPy: Raízes, Derivadas e Integrais</h2></center>"
      ]
    },
    {
      "cell_type": "markdown",
      "metadata": {
        "id": "Jfor6Jzfa7mO"
      },
      "source": [
        "### 1. Introdução\n",
        "\n",
        "Apresentaremos neste *notebook* aplicações da biblioteca NumPy a problemas envolvendo o estudo de funções a solução de problemas práticos de engenharia. Normalmente tais tópicos seriam mais apropriados para um curso de cálculo numérico. No entanto, nosso objetivo é mostrar que muitos problemas desse tipo podem ser resulvidos com simples operações com *1-arrays*.\n",
        "Após o estudo deste notebook você será capaz de:\n",
        "\n",
        "- Usar NumPy para fazer gráficos de funções de uma variável.\n",
        "- Usar NumPy para determinar raízes reais, calcular derivadas numéricas e determinar extremos relativos de funções definidas analiticamente e numericamente.\n",
        "- Usar Numpy para realizar integração numérica de funções.\n",
        "- Resolver problemas práticos que envolvem a determinação de raízes, derivadas e integrais de funções."
      ]
    },
    {
      "cell_type": "markdown",
      "metadata": {
        "id": "JWe8S0V8a7mP"
      },
      "source": [
        "### 2. Encontrando raízes de uma função"
      ]
    },
    {
      "cell_type": "markdown",
      "metadata": {
        "id": "YbD5QA-Xa7mP"
      },
      "source": [
        "Consideremos o problema que consiste em estudar o comportamento de uma função definida por $y=y(x)$ num dado intervalo,  determinando o gráfico de $y(x)$, suas raízes e seus extremos relativos. Como exemplo, tomaremos a função:\n",
        "$$\n",
        "y(x) = x^4-3x^3-2x^2+5x+4\\,,\\qquad (1)\n",
        "$$\n",
        "no intervalo $[-10,10]$.\n",
        "Tal função não é muito complicada, mas tem o propósito de servir como teste para um método que pode ser aplicado a funções muito mais complicadas.\n",
        "\n",
        "Para encontrar raízes reais da função (1) é interessante antes conhecer qualitativamente seu comportamento no intervalo de interesse graficamente. Passemos à tarefa inicial de definir a função e construir seu gráfico.\n",
        "Devemos inicialmente carregar os módulos Numpy e Matplotlib:"
      ]
    },
    {
      "cell_type": "code",
      "execution_count": null,
      "metadata": {
        "colab": {
          "base_uri": "https://localhost:8080/"
        },
        "id": "rSnxVpx-a7mP",
        "outputId": "c79acc36-418b-4e92-f212-3d3fb61559d5"
      },
      "outputs": [
        {
          "name": "stdout",
          "output_type": "stream",
          "text": [
            "Mounted at /content/drive\n"
          ]
        }
      ],
      "source": [
        "import numpy as np\n",
        "import matplotlib.pyplot as plt\n",
        "from google.colab import drive\n",
        "drive.mount('/content/drive')"
      ]
    },
    {
      "cell_type": "markdown",
      "metadata": {
        "id": "9CRjsOSWa7mQ"
      },
      "source": [
        "Para fazer um gráfico devemos definir os valores de $x$ nos quais $y(x)$ será calculada.\n",
        "Como o intervalo $[-10,10]$ já foi prescrito, devemos estabelecer o número de pontos nesse intervalo. É uma boa prática usar o menor número possível de pontos para que resulte num bom gráfico. No presente caso, 100 pontos já geram um bom gráfico:"
      ]
    },
    {
      "cell_type": "markdown",
      "metadata": {
        "id": "abhinlRIa7mR"
      },
      "source": [
        "O gráfico obtido acima mostra que temos 4 raízes reais no intervalo $[-2,3.5]$. Em vez de usar as técnicas clássicas de cálculo numérico para determinar as raízes reais de $y(x)$, usaremos Numpy para determinar em que pontos $x$ a função troca de sinal. Para isso devemos determinar produto de cada par de termos vizinhos de $y$ e verificar quando este é negativo. Geramos um array booleano da forma:"
      ]
    },
    {
      "cell_type": "markdown",
      "metadata": {
        "id": "Sx-nEtiQa7mR"
      },
      "source": [
        "Se usarmos tal array booleano como índice, somente os valores de x com índice True, que correspondem às raízes, são selecionados:"
      ]
    },
    {
      "cell_type": "markdown",
      "metadata": {
        "id": "wHJsZc5na7mR"
      },
      "source": [
        "Tais resultados estão de acordo com uma inspeção do gráfico de $y(x)$.\n",
        "Verifiquemos a acurácia do resultado. Para isso é interessante definirmos a função $f(x)=y(x)$:"
      ]
    },
    {
      "cell_type": "markdown",
      "metadata": {
        "id": "FXa4EAl2a7mS"
      },
      "source": [
        "de modo que agora podemos avaliar $f(x)$ facilmente:"
      ]
    },
    {
      "cell_type": "markdown",
      "metadata": {
        "id": "_47G1_Bpa7mS"
      },
      "source": [
        "Com um array de 100 elementos a acurácia não é muito boa. Um resultado melhor pode de ser obtido com um array de $10^6$ elementos:"
      ]
    },
    {
      "cell_type": "markdown",
      "metadata": {
        "id": "XRKl3uLua7mS"
      },
      "source": [
        "Verifiquemos novamente a acurácia do resultado:"
      ]
    },
    {
      "cell_type": "markdown",
      "metadata": {
        "id": "fwLZqlSea7mS"
      },
      "source": [
        "Agora temos um resultado  razoável. Podemos definir uma função que tem como entrada os arrays `y` e `x`\n",
        " e como saída as raízes no intervalo definido pelo array `x`:"
      ]
    },
    {
      "cell_type": "markdown",
      "metadata": {
        "id": "CLUwwBZYa7mS"
      },
      "source": [
        "Por exemplo, para encontrar a raiz que está entre -2 e -1 basta usar a função raizes do seguinte modo:"
      ]
    },
    {
      "cell_type": "markdown",
      "metadata": {
        "id": "ovtAbD0Fa7mT"
      },
      "source": [
        "### 3. Estudo de funções definidas algébricamente\n",
        "Extremos relativos de uma função ocorrem em pontos $x^{*}$ do intervalo onde $y'(x^{*})=0$. Veremos com determinar  $y'(x)$ numericamente no intervalo $[1,10]$, usando Numpy, supondo que a relação $y=y(x)$ é definida algebricamente, como na sub\n",
        "\n",
        "seção anterior. Em seguida determinaremos os pontos onde a função possui um extremo relativo. Utilizaremos aqui da idéia fundamental da derivada como o limite de uma diferença finita calculada na vizinhança de um ponto, ou seja,\n",
        "$$\n",
        "    y'(x)=\\lim_{h\\rightarrow 0}\\frac{y(x+h)-f(x)}{h}\\,.\n",
        "$$\n",
        "A chamada \\emph{aproximação de primeira ordem avançada para a primeira derivada} consiste em tornar a expressão acima uma igualdade para $h=\\Delta x$ suficientemente pequeno:\n",
        "$$\n",
        "    y'(x)\\approx \\frac{y(x+h)-f(x)}{h}\\,.\n",
        "$$\n",
        "Essa é uma aproximação de primeira ordem, pois o erro cometido é proporcional a $h$.\n",
        "Um modo elementar de realizar tal operação em Python é o seguinte:"
      ]
    },
    {
      "cell_type": "markdown",
      "metadata": {
        "id": "vZJiT6yza7mT"
      },
      "source": [
        "Podemos, com isso, calcular a derivada em um $x$ qualquer.\n",
        "\n",
        "#### Exemplo 3.1\n",
        "(i) Seja\n",
        "\n",
        "$$\n",
        "f(x)=x^4-3x^3-2x^2+5x+1\\,.\n",
        "$$\n",
        "\n",
        "Calcule $f'(2)$."
      ]
    },
    {
      "cell_type": "markdown",
      "metadata": {
        "id": "VqvMOOI9a7mT"
      },
      "source": [
        "Definimos a função:"
      ]
    },
    {
      "cell_type": "markdown",
      "metadata": {
        "id": "u4lvUiKda7mT"
      },
      "source": [
        "Aplicando nossa função `derivada1`, com $h=10^{-5}$, temos:"
      ]
    },
    {
      "cell_type": "markdown",
      "metadata": {
        "id": "FznY5NXra7mT"
      },
      "source": [
        "(ii) Determine o gráfico da derivada.\n",
        "\n",
        "Podemos usar tal função para construir o gráfico da derivada no intervalo $[-1,3]$. Para isso basta aplicar a função derivada1 a todos os elementos dos arrays $x$ e $y=f(x)$ e gerar o gráfico de $y'(x)$:"
      ]
    },
    {
      "cell_type": "markdown",
      "metadata": {
        "id": "ze7bUsMga7mU"
      },
      "source": [
        "(iii) Determine os extermos relativos de $f(x)$.\n",
        "\n",
        "O gráfico acima mostra que temos 3 extremos relativos. Podemos agora encontrar os extremos determinando as raízes de $y'(x)$ no intervalo $[-1,3]$. Para ter boa acurácia, usaremos arrays com $10^6$ pontos, com $h =10^{-6}$ e redefinimos o array $x$ no intervalo $[-1,3]$, que contém todos os extremos relativos. É interessante que o leitor faça seus próprios experimentos e use os parâmetros que demandem o menor custo computacional possível para obter uma acurácia desejada. A implementação em Python é a seguinte:"
      ]
    },
    {
      "cell_type": "markdown",
      "metadata": {
        "id": "n-sME7JRa7mU"
      },
      "source": [
        "Tais resultados estão compatíveis com aquele esperado a partir de uma isnpeção do gráfico. Alternativamente podemos usar o comando `np.gradient` para determinar o array de derivadas:"
      ]
    },
    {
      "cell_type": "markdown",
      "metadata": {
        "id": "l2UDtulaa7mU"
      },
      "source": [
        "de modo que o resultado é similar."
      ]
    },
    {
      "cell_type": "markdown",
      "metadata": {
        "id": "B2aEoQvaa7mU"
      },
      "source": [
        "#### Exemplo 3.2\n",
        "Seja $y=\\mathrm{e}^{-x/14}\\cos x$. Utilize $10^4$ intervalos no domínio $[0,10]$.\n",
        "\n",
        "(i) Faça o gráfico de $y(x)$.<br>\n",
        "(ii) Determine a média e o desvio-padrão de $y$ para valores de $x$ no intervalo $[4,7]$.<br>\n",
        "(iii) Determine $y_{80}$ de modo que $80\\%$ dos valores de $y$ estejam abaixo de $y_m$, no intervalor $[4,7]$.<br>\n",
        "(iv) Faça o gráfico de $dy/dx$. <br>\n",
        "(v) Determine os extremos relativos de $y(x)$."
      ]
    },
    {
      "cell_type": "markdown",
      "metadata": {
        "id": "ojtiuntEa7mb"
      },
      "source": [
        "Notemos que há $N+1$ termos especificados em `linspace`, pois 0 e 10 estão incluídos no intervalo. De fato,"
      ]
    },
    {
      "cell_type": "markdown",
      "metadata": {
        "id": "0HcVagkta7mb"
      },
      "source": [
        "Façamos um gráfico simples:"
      ]
    },
    {
      "cell_type": "markdown",
      "metadata": {
        "id": "uiNi-bSEa7mb"
      },
      "source": [
        "(ii) Determine a média e o desvio-padrão de $y$ para valores de $x$ no intervalo $[4,7]$"
      ]
    },
    {
      "cell_type": "markdown",
      "metadata": {
        "id": "2ggBdF0Ra7mb"
      },
      "source": [
        "Notemos que"
      ]
    },
    {
      "cell_type": "markdown",
      "metadata": {
        "id": "dZgXRxLfa7mc"
      },
      "source": [
        "Portanto,"
      ]
    },
    {
      "cell_type": "markdown",
      "metadata": {
        "id": "OXJguGoTa7mc"
      },
      "source": [
        "De modo equivalente,"
      ]
    },
    {
      "cell_type": "markdown",
      "metadata": {
        "id": "WeFpVwkha7mc"
      },
      "source": [
        "(iii) Determine $y_{80}$ de modo que $80\\%$ dos valores de $y$ estejam abaixo de $y_{80}$, no intervalor $[4,7]$."
      ]
    },
    {
      "cell_type": "markdown",
      "metadata": {
        "id": "CtBAcRz4a7md"
      },
      "source": [
        "(iv) Faça o gráfico de $dy/dx$."
      ]
    },
    {
      "cell_type": "markdown",
      "metadata": {
        "id": "-3zRLfaGa7md"
      },
      "source": [
        "(v) Determine os extremos relativos de $y(x)$."
      ]
    },
    {
      "cell_type": "markdown",
      "metadata": {
        "id": "4616tX35a7md"
      },
      "source": [
        "Formamos o array das derivadas:"
      ]
    },
    {
      "cell_type": "markdown",
      "metadata": {
        "id": "GVjS3ilRa7md"
      },
      "source": [
        "Determinamos os zeros do array `dydx`:"
      ]
    },
    {
      "cell_type": "markdown",
      "metadata": {
        "id": "rlroHevsa7md"
      },
      "source": [
        "### 4. Estudo de funções definidas numericamente"
      ]
    },
    {
      "cell_type": "markdown",
      "metadata": {
        "id": "N5_xG_DNa7md"
      },
      "source": [
        "Nem sempre em um problema prático temos uma função definida algebricamente. Em muitos casos a função é definida por meio de dados observacionais ou experimentais. Nesse caso, os arrays $x$ e $y(x)$ são dados previamente, de modo que podemos usar a aproximação da diferença finita avançada e atrasada, dadas respectivamente por:\n",
        "\\begin{align}\n",
        "&y'_{+}(x_i)\\approx \\frac{y(x_{i+1})-y(x_i)}{\\Delta x}\\,,\\\\\n",
        "&y'_{-}(x_i)\\approx  \\frac{y(x_{i})-y(x_{i-1})}{\\Delta x}\\,,\n",
        "\\end{align}\n",
        "sendo $\\Delta x_i = x_{i+1}-x_i= x_1-x_0$, supondo que os elementos do array $x$ estão todos igualmente espaçados. Podemos implementar tais fórmulas em Python do seguinte modo:"
      ]
    },
    {
      "cell_type": "markdown",
      "metadata": {
        "id": "xDq8oj6oa7md"
      },
      "source": [
        "Notemos que y[1:]  é o array formado pelos elementos de `y`, do segundo ao último e y[:-1] é o array formado por elementos de `y` do primeiro ao penúltimo.\n",
        "\n",
        "#### Exemplo 4.1\n",
        "Para testar a função `derivada2` definida acima vamos gerar 100 pontos a partir da função\n",
        "\n",
        "$$\n",
        "f(x)=x^4-3x^3-2x^2+5x+1\\,.\n",
        "$$\n",
        "\n",
        "no intervalo $[-2,3]$:"
      ]
    },
    {
      "cell_type": "markdown",
      "metadata": {
        "id": "zjrsX9q3a7me"
      },
      "source": [
        "Os extremos nesse intervalo são dados por"
      ]
    },
    {
      "cell_type": "code",
      "execution_count": null,
      "metadata": {
        "id": "DHaZeIPya7me",
        "outputId": "ab78e4eb-5804-48bb-9195-911375e97594"
      },
      "outputs": [
        {
          "data": {
            "text/plain": [
              "array([-0.83838384,  0.62626263,  2.44444444])"
            ]
          },
          "execution_count": 191,
          "metadata": {},
          "output_type": "execute_result"
        }
      ],
      "source": [
        "E2 = x[1:][dydx3[1:]*dydx3[:-1]<0]\n",
        "E2"
      ]
    },
    {
      "cell_type": "markdown",
      "metadata": {
        "id": "wlH-BsFNa7me"
      },
      "source": [
        "Podemos novamente usar o comando `gradient`:"
      ]
    },
    {
      "cell_type": "markdown",
      "metadata": {
        "id": "aaH7t5pRa7me"
      },
      "source": [
        "Notemos que este último resultado não é tão bom quanto aquele fornecido por `derivada2`."
      ]
    },
    {
      "cell_type": "markdown",
      "metadata": {
        "id": "74FM_QBMa7me"
      },
      "source": [
        "### 5. Aplicações"
      ]
    },
    {
      "cell_type": "markdown",
      "metadata": {
        "id": "6mlSkTHja7me"
      },
      "source": [
        "#### Exemplo 5.1:  Circuito RCL em paralelo\n",
        "\n",
        "Um circuito com um resistor de resistência $R$, um indutor de indutâncial $L$ e um capacitor de capacitância $C$, quando conectados em paralelo, apresenta uma indutância dada por\n",
        "\n",
        "$$\n",
        "\\frac{1}{Z} = \\sqrt{\\frac{1}{R^2}+\\left(\\omega C-\\frac{1}{\\omega L}\\right)^2}\\,.\n",
        "$$\n",
        "\n",
        "Determinemos a frequência $\\omega$ quando $Z=70\\,\\Omega$, $R=1\\,k\\Omega$, $L=0.8\\,H$ e $C=10\\,\\mu F$.\n",
        "\n",
        "Inicialmente definimos a função em Python e os valores dos parâmetros:"
      ]
    },
    {
      "cell_type": "markdown",
      "metadata": {
        "id": "2vFlqfeva7me"
      },
      "source": [
        "Se não temos experiência prévia sobre possíveis valores de $\\omega$ devemos fazer uma exploração gráfica sobre a localização da raiz. Poucas tentativas nos conduzem ao gráfico:"
      ]
    },
    {
      "cell_type": "markdown",
      "metadata": {
        "id": "yF6HDyQ_a7mf"
      },
      "source": [
        "Portanto, a frequência que buscamos deve estar próxima a $\\omega = 81\\, s^{-1}$. Para maior eficiência redefinimos a malha em torno da raiz:"
      ]
    },
    {
      "cell_type": "markdown",
      "metadata": {
        "id": "RZsS3bUUa7mf"
      },
      "source": [
        "Podemos agora encontrar a raiz usando nosso método descrito anteriormente:"
      ]
    },
    {
      "cell_type": "markdown",
      "metadata": {
        "id": "t02zX_X1a7mf"
      },
      "source": [
        "Ou seja, $\\omega = 82,89\\,s^{-1}$.\n",
        "Para uma aplicação, uma acurácia de 3 dígitos já seria suficiente. No entanto, para verificar a eficiência do método calculamos:"
      ]
    },
    {
      "cell_type": "markdown",
      "metadata": {
        "id": "RrK6lMTja7mf"
      },
      "source": [
        "o que é bastante razoável, dada a simplicidade do procedimento."
      ]
    },
    {
      "cell_type": "markdown",
      "metadata": {
        "id": "Db8cArs1a7mf"
      },
      "source": [
        "#### Exemplo 5.2: Ruído em um sinal"
      ]
    },
    {
      "cell_type": "markdown",
      "metadata": {
        "id": "vkmSDddna7mf"
      },
      "source": [
        "Suponhamos que temos 1000 amostras de um sinal dependente do tempo, quase periódico, com ruído e queremos caracterizar tal sinal, no que diz respeito ao ruído, pelo número de extremos relativos que ocorrem num dado intervalo de tempo. Simularemos tal sinal por meio da função"
      ]
    },
    {
      "cell_type": "markdown",
      "metadata": {
        "id": "_PlunKw_a7mf"
      },
      "source": [
        "O gráfico de $y(t)$ é mostrado a seguir:"
      ]
    },
    {
      "cell_type": "markdown",
      "metadata": {
        "id": "gSIs3GJha7mg"
      },
      "source": [
        "Uma possível medida de ruído desse sinal pode ser feita por meio da contagem dos seus extremos relativos. Em Python:"
      ]
    },
    {
      "cell_type": "markdown",
      "metadata": {
        "id": "dSP1y6VXa7mg"
      },
      "source": [
        "#### Exemplo 5.3: Equação de Kepler"
      ]
    },
    {
      "cell_type": "markdown",
      "metadata": {
        "id": "Wsj-RFlOa7mg"
      },
      "source": [
        "1. A [equação de Kepler](https://en.wikipedia.org/wiki/Kepler%27s_equation) descreve o movimento de corpos celestes no plano, sendo dada por\n",
        "\n",
        "$$\n",
        "x= y-\\epsilon \\sin y\\,.\n",
        "$$\n",
        "\n",
        "A variável $x$ denota a anomalia média de um planeta, $y$ é a anomalia excêntrica e $\\epsilon$ é a excetricidade da órbita. Tomando $\\epsilon=0.95$, construa uma tabela Para valores de $y$ e $x$, construa uma tabela de 10 valores igualmente espaçados de $0\\leq x \\leq \\pi$."
      ]
    },
    {
      "cell_type": "markdown",
      "metadata": {
        "id": "meoCP03va7mg"
      },
      "source": [
        "Suponhamos que $x=\\pi/2$:"
      ]
    },
    {
      "cell_type": "markdown",
      "metadata": {
        "id": "3kjV4LgKa7mg"
      },
      "source": [
        "Temos que encontrar o zero da função $F = y-\\epsilon \\sin y -x$."
      ]
    },
    {
      "cell_type": "markdown",
      "metadata": {
        "id": "AkggJC_aa7mg"
      },
      "source": [
        "Devemos repetir tal procedimento para 10 valores de $x$ tais que $x \\in [0,\\pi]$. Inicialmente definimos os parâmetros do problema:"
      ]
    },
    {
      "cell_type": "markdown",
      "metadata": {
        "id": "QJ9C7kNQa7mh"
      },
      "source": [
        "Definimos os valores de $x$ igualmente espaçados de 0 a $\\pi$:"
      ]
    },
    {
      "cell_type": "markdown",
      "metadata": {
        "id": "YtMYDdm8a7mh"
      },
      "source": [
        "Definimos o array `y` cujo tamanho define a acurácia da solução:"
      ]
    },
    {
      "cell_type": "markdown",
      "metadata": {
        "id": "8gDYuuGua7mh"
      },
      "source": [
        "Criamos uma lista inicialmente vazia onde resultados serão guardados:"
      ]
    },
    {
      "cell_type": "markdown",
      "metadata": {
        "id": "-79upuoGa7mh"
      },
      "source": [
        "Devemos resolver a equação de Kepler para cada valor de $x$:"
      ]
    },
    {
      "cell_type": "markdown",
      "metadata": {
        "id": "Nd9G28G9a7mh"
      },
      "source": [
        "Podemos agora ver a lista de pares de resultados:"
      ]
    },
    {
      "cell_type": "markdown",
      "metadata": {
        "id": "0naZr6rBa7mh"
      },
      "source": [
        "Embora não tenhamos introduzido a biblioteca Pandas, usaremos aqui um recurso simples que permite a construção de uma tabela (DataFrame) com formato de melhor estética:"
      ]
    },
    {
      "cell_type": "code",
      "execution_count": null,
      "metadata": {
        "id": "JbVruozRa7mh"
      },
      "outputs": [],
      "source": [
        "import pandas as pd"
      ]
    },
    {
      "cell_type": "markdown",
      "metadata": {
        "id": "MhHbWZbOa7mk"
      },
      "source": [
        "Façamos um gráfico dos resultados:"
      ]
    },
    {
      "cell_type": "markdown",
      "metadata": {
        "id": "NJmyWDJma7mk"
      },
      "source": [
        "#### Exemplo 5.4: Lançamento de um projétil"
      ]
    },
    {
      "cell_type": "markdown",
      "metadata": {
        "id": "OB4IumvLa7mk"
      },
      "source": [
        "A posição vertical $y$ de um projétil, desprezando a resistência do ar é dada por\n",
        "\n",
        "$$\n",
        "y = y_0+x\\tan\\theta - \\frac{g}{2v_0^2\\,\\cos^2\\theta}\\,x^2\\,,\n",
        "$$\n",
        "\n",
        "sendo $y_0$ a altura inicial, $\\theta$ o ângulo de lançamento (relativamente à direção horizontal), $g=9.807 \\,m/s^2$ é a aceleração da gravidade e $x$ é o deslocamento horizontal.\n",
        "\n",
        "Suponhamos que $v_0$ e $y_0$ são dados e temos um alvo a uma distância $x=r$, que está numa elevação $y=0$. Queremos determinar $\\theta$. Devemos resolver a equação\n",
        "\n",
        "$$\n",
        "f(\\theta) = y_0+x\\tan\\theta - \\frac{g}{2v_0^2\\cos^2\\theta}\\,x^2=0\\,.\n",
        "$$"
      ]
    },
    {
      "cell_type": "markdown",
      "metadata": {
        "id": "Jvqk6gMea7mk"
      },
      "source": [
        "Definimos o array com os valores de $\\theta$ a serem examinados:"
      ]
    },
    {
      "cell_type": "markdown",
      "metadata": {
        "id": "0IKfSBiZa7mk"
      },
      "source": [
        "Definimos os parâmetros do problema:"
      ]
    },
    {
      "cell_type": "markdown",
      "metadata": {
        "id": "Z9A_83F9a7ml"
      },
      "source": [
        "É interessante visualizar o gráfico de $f(\\theta)$:"
      ]
    },
    {
      "cell_type": "markdown",
      "metadata": {
        "id": "CY4OzfG8a7ml"
      },
      "source": [
        "Vemos que há dois valores de $\\theta$ que resolvem a equação. Determinemos as soluções analiticamente:"
      ]
    },
    {
      "cell_type": "markdown",
      "metadata": {
        "id": "AX5UinLma7ml"
      },
      "source": [
        "Podemos converter para graus:"
      ]
    },
    {
      "cell_type": "markdown",
      "metadata": {
        "id": "XbTgAKsXa7ml"
      },
      "source": [
        "ou"
      ]
    },
    {
      "cell_type": "markdown",
      "metadata": {
        "id": "0CufhUhYa7ml"
      },
      "source": [
        "Podemos definir uma função:"
      ]
    },
    {
      "cell_type": "markdown",
      "metadata": {
        "id": "wbzHYzyBa7mm"
      },
      "source": [
        "Para uma saída mais elegante e prática, podemos usar réguas deslizantes com a biblioteca `widgets`."
      ]
    },
    {
      "cell_type": "markdown",
      "metadata": {
        "id": "CHlbBQtYa7mm"
      },
      "source": [
        "### 6. Exercícios"
      ]
    },
    {
      "cell_type": "markdown",
      "metadata": {
        "id": "73SJy15Ga7mm"
      },
      "source": [
        "**1.** Determine as raízes reais da equação\n",
        "\n",
        "$$\n",
        "\\mbox{e}^x-2x-3=0\\,,\n",
        "$$\n",
        "\n",
        "com uma acurácia (relativa ao valor da função na raiz) de $10^{-5}$, ao menos.  \n",
        "\n",
        "**Sugestão:** faça antes o gráfico da função definida pelo lado esquerdo da equação acima para saber a localização das raízes. Com tal informação, use o menor número possível de subintervalos para alcançar a acurácia desejada."
      ]
    },
    {
      "cell_type": "markdown",
      "metadata": {
        "id": "_EAG7B7Oa7mm"
      },
      "source": [
        "**2.** Seja a função definida por\n",
        "   \n",
        "   $$\n",
        "   f(x) = \\cos(x^2)-\\frac{x}{3}-\\frac{1}{8}\\,.\n",
        "   $$\n",
        "\n",
        "(i) Determine todos os zeros de $f$ no intervalo $[-4,4]$, com acurácia de $10^{-3}$ ao menos. Tal acurácia é relativa ao valor de $f$ nas raízes determinadas.\n",
        "(ii) Determine todos os extremos relativos  no intervalo $[-4,4]$ e classifique cada um como máximo ou mínimo (use um procedimento numérico ou inspecione o gráfico)."
      ]
    },
    {
      "cell_type": "markdown",
      "metadata": {
        "id": "339b5c5qa7mm"
      },
      "source": [
        "**3.** Refaça o problema do  Exemplo 1 (circuito RCL em paralel) e construa réguas deslizantes para os parâmetros $Z$, $R$, $C$ e $L$, tendo como saída a frequência angular $\\omega$."
      ]
    },
    {
      "cell_type": "markdown",
      "metadata": {
        "id": "8EfD1j1Sa7mm"
      },
      "source": [
        "**4.**\n",
        "Considere um tanque para armazenar líquidos que consiste de cilindro horizontal de raio $R$ e comprimento $h$, com extremidades hemisféricas. Isso é ilustrado na Figura 1.  Suponhamos que as extremidades hemisféricas podem ser unidas para formar uma esfera de raio $R$. Suponhamos que temos dentro do tanque líquido a uma altura $h$. O volume $V_e$ na parte esférica é dado por (veja *David E. Clough, Steven C. Chapra. Introduction to Engineering and Scientific Computing with Python CRC Press*, 2023  p. 243}):\n",
        "\n",
        "$$\n",
        "V_e = \\pi h^2\\left(\\frac{3R-h}{3}\\right)\\,.\n",
        "$$\n",
        "\n",
        "O volume $V_c$  na parte cilíndrica é dado por\n",
        "\n",
        "$$\n",
        "V_c = \\left[R^2 \\arccos\\left(\\frac{R-h}{R}\\right)-(R-h)\\sqrt{2Rh-h^2}\\right]L\\,,\n",
        "$$\n",
        "\n",
        "de modo que o volume total é $V=V_e+V_c$.\n",
        "\n",
        "<center>\n",
        "<figure>\n",
        "    <img src=\"tanque_cilindrico.png\" width=\"400\" height=\"300\" alt=\"Tanque cilíndrico\" />\n",
        "    <figcaption>Figure 1: Tanque cilíndrico.</figcaption>\n",
        "</figure>\n",
        "</center>\n",
        "\n",
        "\n",
        "(a) Supondo que $L = 5\\,m$ e $R = 2.5\\,m$, faça uma tabela com 25 valores de $V\\,(m^3)$ igualmente espaçados $(1, 7, 13, \\ldots, 145)$ e os correspondentes valores de $h$. Faça também o gráfico correspondente.\n",
        "\n",
        "(b) Construa réguas deslizantes para os valores de $L$, $R$, e $V$ mostrando como saída os respectivos valores de $h$.\n"
      ]
    },
    {
      "cell_type": "code",
      "execution_count": null,
      "metadata": {
        "id": "4CB4YbHfi1g5"
      },
      "outputs": [],
      "source": []
    }
  ],
  "metadata": {
    "colab": {
      "provenance": []
    },
    "kernelspec": {
      "display_name": "Python 3 (ipykernel)",
      "language": "python",
      "name": "python3"
    },
    "language_info": {
      "codemirror_mode": {
        "name": "ipython",
        "version": 3
      },
      "file_extension": ".py",
      "mimetype": "text/x-python",
      "name": "python",
      "nbconvert_exporter": "python",
      "pygments_lexer": "ipython3",
      "version": "3.9.13"
    }
  },
  "nbformat": 4,
  "nbformat_minor": 0
}
