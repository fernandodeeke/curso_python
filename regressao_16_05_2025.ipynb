{
  "nbformat": 4,
  "nbformat_minor": 0,
  "metadata": {
    "colab": {
      "provenance": [],
      "authorship_tag": "ABX9TyNqcbd8D3XgiucVEOClqqw8",
      "include_colab_link": true
    },
    "kernelspec": {
      "name": "python3",
      "display_name": "Python 3"
    },
    "language_info": {
      "name": "python"
    }
  },
  "cells": [
    {
      "cell_type": "markdown",
      "metadata": {
        "id": "view-in-github",
        "colab_type": "text"
      },
      "source": [
        "<a href=\"https://colab.research.google.com/github/fernandodeeke/curso_python/blob/main/regressao_16_05_2025.ipynb\" target=\"_parent\"><img src=\"https://colab.research.google.com/assets/colab-badge.svg\" alt=\"Open In Colab\"/></a>"
      ]
    },
    {
      "cell_type": "markdown",
      "source": [
        "<center><h1></h1></center>\n",
        "<center><h1>Aprendendo Matemática com Python</h1></center>\n",
        "<center><h2>2025/1</h2></center>\n",
        "<center><h3>Técnicas de Regressão Univariada</h3></center>\n",
        "<center><h5> Fernando D. Sasse e Sidnei Furtado <br>\n",
        " CCT UDESC\n",
        "</h5></center>\n"
      ],
      "metadata": {
        "id": "Jtg68dtgs-ZQ"
      }
    },
    {
      "cell_type": "markdown",
      "source": [
        "## 1. Introdução\n",
        "\n",
        "Dados podem fornecer uma  informação razoável de que a função $x(t)$ é linear e que o fato dos pontos não estarem exatamente sobre uma linha reta é devido a erros experimentais. Um vez feita tal suposição podemos nos perguntar como podemos determinar os coeficientes $a$ e $b$ reta\n",
        "$$\n",
        "                           x = at + b\n",
        "$$  \n",
        "que melhor se ajusta a esses dados. Vejamos um exemplo:"
      ],
      "metadata": {
        "id": "8Xk84JCstj2h"
      }
    },
    {
      "cell_type": "code",
      "source": [
        "# Exemplo\n",
        "import matplotlib.pyplot as plt\n",
        "import numpy as np"
      ],
      "metadata": {
        "id": "IMonRDqBtqXa"
      },
      "execution_count": null,
      "outputs": []
    },
    {
      "cell_type": "code",
      "source": [
        "# x = x(t)\n",
        "T=np.array([1,2,3,4,5,6,7,8,9,10])\n",
        "X=np.array([2.5, 3.8, 4.2, 5.9, 6.3, 7.5, 8.1, 9.9, 10.2, 11.5])"
      ],
      "metadata": {
        "id": "3ygISvynD3A7"
      },
      "execution_count": null,
      "outputs": []
    },
    {
      "cell_type": "code",
      "source": [
        "plt.plot(T,X,'ro')\n",
        "plt.xlabel('t')\n",
        "plt.ylabel('x')"
      ],
      "metadata": {
        "colab": {
          "base_uri": "https://localhost:8080/",
          "height": 466
        },
        "id": "6cIo4t_1D3KH",
        "outputId": "aca774af-2a49-4d78-da8d-907d300d4741"
      },
      "execution_count": null,
      "outputs": [
        {
          "output_type": "execute_result",
          "data": {
            "text/plain": [
              "Text(0, 0.5, 'x')"
            ]
          },
          "metadata": {},
          "execution_count": 6
        },
        {
          "output_type": "display_data",
          "data": {
            "text/plain": [
              "<Figure size 640x480 with 1 Axes>"
            ],
            "image/png": "[encoded data removed]"
          },
          "metadata": {}
        }
      ]
    },
    {
      "cell_type": "markdown",
      "source": [
        "De acordo com o gráfico acima é razoável supor que é possível ajustar uma reta a esses pontos. Na prática tal hipótese pode se originar na teoria sobre a qual as medidas são realizadas.\n",
        "Veremos como resolver este problema usando dois métodos:\n",
        "\n",
        "(i) Método dos mínimos quadrados: quando o número de dados não é excessivamente grande.\n",
        "\n",
        "(ii) Método dos gradientes descendentes: apropriado em qualquer caso, especialmente se o números de dados for muito grande.\n",
        "\n",
        "Para um estudo completo sugerimos as referências [1] e [2]."
      ],
      "metadata": {
        "id": "zflRRFdRSvS1"
      }
    },
    {
      "cell_type": "markdown",
      "source": [
        "## 2. Método dos Mínimos Quadrados\n",
        "Suponhamos que uma suposição é feita sobre os valores de $a$ e $b$. Em geral,um ponto $(T_k,X_k)$ não estará exatamente sobre a reta, ou seja,\n",
        "\n",
        "$$\n",
        "aT_k+b-X_k \\neq 0\n",
        "$$\n",
        "\n",
        "Podemos definir um erro absoluto associado a este ponto, que depende de $a$ e $b$, dado por\n",
        "\n",
        "$$\n",
        "                 E_k(a,b)=|aT_k+b-X_k|\n",
        "$$\n",
        "Definimos um erro total da seguinte forma:\n",
        "\n",
        "$$\n",
        "\\phi = E(a,b)=\\sum_{i=1}^{n} (aT_k+b-X_k)^2\n",
        "$$\n",
        "\n",
        "\n",
        "A próxima tarefa consiste em encontrar o ponto $(a,b)$ que minimiza esta função.\n",
        "\n",
        "Este problema é um exemplo de uma  aproximação $L_1$ e que pode ser resolvido por meio de técnicas de programação linear. Dependendo do número de pontos a complexidade deste problema em termos de número de operações pode ser muito custosa. O métodos do cálculo diferencial não podem ser aplicados, pois esta função não é diferenciável.\n",
        "\n",
        "Em particular,\n",
        "\n",
        "$$\n",
        "\\frac{\\partial \\phi}{\\partial a}=\\sum_{i=1}^{n} 2T_k(aT_k+b-X_k)=0\n",
        "$$\n",
        "\n",
        "e\n",
        "\n",
        "$$\n",
        "\\frac{\\partial \\phi}{\\partial b}=\\sum_{i=1}^{n} 2(aT_k+b-X_k)=0\\,.\n",
        "$$\n",
        "\n",
        "Estas equações, chamadas *normais* podem ser também escritas como\n",
        "\n",
        "$$\n",
        "\\left(\\sum_{k=1}^n T_k^2\\right)a+\\left(\\sum_{k=1}^n T_k\\right)b= \\sum_{k=1}^n T_k X_k,\n",
        "$$\n",
        "\n",
        "\n",
        "$$\n",
        "\\left(\\sum_{k=1}^n T_k\\right)a+nb= \\left(\\sum_{k=1}^n X_k\\right)\n",
        "$$\n",
        "\n",
        "Definindo\n",
        "\n",
        "$$\n",
        "p = \\sum_{k=1}^n T_k\\,,\\quad q=\\sum_{k=1}^n X_k\\,,\\quad\n",
        "r=\\sum_{k=1}^n T_k X_k\\,,\\quad s=\\sum_{k=1}^n T_k^2\\,,\n",
        "$$\n",
        "\n",
        "temos, de forma matricial,\n",
        "\n",
        "$$\n",
        "\\begin{bmatrix}\n",
        "s&p\\\\p&n\n",
        "\\end{bmatrix}=\n",
        "\\begin{bmatrix}\n",
        "a\\\\b\n",
        "\\end{bmatrix}=\\begin{bmatrix}\n",
        "r\\\\q\n",
        "\\end{bmatrix}\\,.\n",
        "$$\n",
        "\n",
        "Definindo\n",
        "\n",
        "$$\n",
        "\\Delta = det \\begin{bmatrix}\n",
        "s&p\\\\p&n\n",
        "\\end{bmatrix} = ns-p^2\\,,\n",
        "$$\n",
        "\n",
        "temos, usando a regra de Cramer,\n",
        "\n",
        "$$\n",
        "a = \\frac{1}{\\Delta}det\\begin{bmatrix}\n",
        "r&p\\\\q&n\n",
        "\\end{bmatrix}=\\frac{1}{d}(rn-pq)\\,,\n",
        "$$\n",
        "\n",
        "$$\n",
        "b = \\frac{1}{\\Delta}det\\begin{bmatrix}\n",
        "s&r\\\\p&q\n",
        "\\end{bmatrix}=\\frac{1}{d}(sq-pr)\\,.\n",
        "$$\n",
        "\n",
        "Voltemos ao nosso problema e implementemos as fórmulas acima:"
      ],
      "metadata": {
        "id": "2pbogQDpttbV"
      }
    },
    {
      "cell_type": "code",
      "source": [
        "p = np.sum(T)\n",
        "q = np.sum(X)\n",
        "r = np.sum(T*X)\n",
        "s = np.sum(T**2)"
      ],
      "metadata": {
        "id": "_E5j469xuNQu"
      },
      "execution_count": null,
      "outputs": []
    },
    {
      "cell_type": "code",
      "source": [
        "d = s*n - p**2"
      ],
      "metadata": {
        "id": "-es11WhCHNh5"
      },
      "execution_count": null,
      "outputs": []
    },
    {
      "cell_type": "code",
      "source": [
        "#Coeficiente angular\n",
        "a = (r*n - p*q)/d\n",
        "a"
      ],
      "metadata": {
        "colab": {
          "base_uri": "https://localhost:8080/"
        },
        "id": "NAkWHoHbHdWd",
        "outputId": "3e03e66d-2b36-4abe-e819-7e08a17b8a26"
      },
      "execution_count": null,
      "outputs": [
        {
          "output_type": "execute_result",
          "data": {
            "text/plain": [
              "np.float64(0.9824242424242419)"
            ]
          },
          "metadata": {},
          "execution_count": 12
        }
      ]
    },
    {
      "cell_type": "code",
      "source": [
        "#Coeficiente linear\n",
        "b = (q*s - p*r)/d\n",
        "b"
      ],
      "metadata": {
        "colab": {
          "base_uri": "https://localhost:8080/"
        },
        "id": "fncy_tSpHdgU",
        "outputId": "2fd8bcbb-514f-470b-d760-80f5bda47e09"
      },
      "execution_count": null,
      "outputs": [
        {
          "output_type": "execute_result",
          "data": {
            "text/plain": [
              "np.float64(1.586666666666671)"
            ]
          },
          "metadata": {},
          "execution_count": 14
        }
      ]
    },
    {
      "cell_type": "code",
      "source": [
        "# Gráfico da reta ajustada e os pontos dados\n",
        "t = np.linspace(0,12,100)\n",
        "plt.plot(T,X,'ro')\n",
        "plt.plot(t,a*t+b,'b')\n",
        "plt.xlabel('t')\n",
        "plt.ylabel('x')"
      ],
      "metadata": {
        "colab": {
          "base_uri": "https://localhost:8080/",
          "height": 466
        },
        "id": "oSEPE_x-HdjZ",
        "outputId": "6c42e8bf-3f37-4d71-99c6-ca3485e961d3"
      },
      "execution_count": null,
      "outputs": [
        {
          "output_type": "execute_result",
          "data": {
            "text/plain": [
              "Text(0, 0.5, 'x')"
            ]
          },
          "metadata": {},
          "execution_count": 15
        },
        {
          "output_type": "display_data",
          "data": {
            "text/plain": [
              "<Figure size 640x480 with 1 Axes>"
            ],
            "image/png": "[encoded data removed]"
          },
          "metadata": {}
        }
      ]
    },
    {
      "cell_type": "code",
      "source": [
        "# Usando os comandos do sistema\n",
        "from scipy.optimize import curve_fit"
      ],
      "metadata": {
        "id": "3rRT5IikHdnC"
      },
      "execution_count": null,
      "outputs": []
    },
    {
      "cell_type": "code",
      "source": [
        "def g(t,a,b):\n",
        "    return a*t+b"
      ],
      "metadata": {
        "id": "zpN3JhhCHdqt"
      },
      "execution_count": null,
      "outputs": []
    },
    {
      "cell_type": "code",
      "source": [
        "param, pcov = curve_fit(g,T,X)"
      ],
      "metadata": {
        "id": "hGTkU2K0IimS"
      },
      "execution_count": null,
      "outputs": []
    },
    {
      "cell_type": "code",
      "source": [
        "param"
      ],
      "metadata": {
        "colab": {
          "base_uri": "https://localhost:8080/"
        },
        "id": "tHN_C67kIipp",
        "outputId": "05337073-360c-46b3-e799-8bb06127d307"
      },
      "execution_count": null,
      "outputs": [
        {
          "output_type": "execute_result",
          "data": {
            "text/plain": [
              "array([0.98242424, 1.58666668])"
            ]
          },
          "metadata": {},
          "execution_count": 19
        }
      ]
    },
    {
      "cell_type": "code",
      "source": [
        "# Gráfico\n",
        "t = np.linspace(0,12,100)\n",
        "plt.plot(T,X,'ro')\n",
        "plt.plot(t,param[0]*t+param[1],'b')\n",
        "plt.xlabel('t')\n",
        "plt.ylabel('x')"
      ],
      "metadata": {
        "colab": {
          "base_uri": "https://localhost:8080/",
          "height": 466
        },
        "id": "Xlz1tF6gIiuW",
        "outputId": "ed33a640-cf80-4a4a-aa49-e65971f3244b"
      },
      "execution_count": null,
      "outputs": [
        {
          "output_type": "execute_result",
          "data": {
            "text/plain": [
              "Text(0, 0.5, 'x')"
            ]
          },
          "metadata": {},
          "execution_count": 20
        },
        {
          "output_type": "display_data",
          "data": {
            "text/plain": [
              "<Figure size 640x480 with 1 Axes>"
            ],
            "image/png": "[encoded data removed]"
          },
          "metadata": {}
        }
      ]
    },
    {
      "cell_type": "code",
      "source": [
        "# Outro modo\n",
        "plt.plot(T,X,'ro', t, g(t, *param),'g-')\n",
        "plt.xlabel('t')\n",
        "plt.ylabel('x')"
      ],
      "metadata": {
        "colab": {
          "base_uri": "https://localhost:8080/",
          "height": 466
        },
        "id": "4lmqufN6I80c",
        "outputId": "22160709-bce1-485c-f6c4-3e544c43ca80"
      },
      "execution_count": null,
      "outputs": [
        {
          "output_type": "execute_result",
          "data": {
            "text/plain": [
              "Text(0, 0.5, 'x')"
            ]
          },
          "metadata": {},
          "execution_count": 22
        },
        {
          "output_type": "display_data",
          "data": {
            "text/plain": [
              "<Figure size 640x480 with 1 Axes>"
            ],
            "image/png": "[encoded data removed]"
          },
          "metadata": {}
        }
      ]
    },
    {
      "cell_type": "code",
      "source": [
        "# Erro quadrático médio\n",
        "F = g(T,*param)\n",
        "F"
      ],
      "metadata": {
        "colab": {
          "base_uri": "https://localhost:8080/"
        },
        "id": "xwLH24JHJoNa",
        "outputId": "230c8e81-61aa-483f-a116-eaab9c9f92dc"
      },
      "execution_count": null,
      "outputs": [
        {
          "output_type": "execute_result",
          "data": {
            "text/plain": [
              "array([ 2.56909092,  3.55151516,  4.5339394 ,  5.51636364,  6.49878788,\n",
              "        7.48121213,  8.46363637,  9.44606061, 10.42848485, 11.41090909])"
            ]
          },
          "metadata": {},
          "execution_count": 23
        }
      ]
    },
    {
      "cell_type": "code",
      "source": [
        "np.sum((F-X)**2)/len(T)"
      ],
      "metadata": {
        "colab": {
          "base_uri": "https://localhost:8080/"
        },
        "id": "kPfVFDA9JoRW",
        "outputId": "889460d8-0d4a-43da-9939-5c7d5f910d25"
      },
      "execution_count": null,
      "outputs": [
        {
          "output_type": "execute_result",
          "data": {
            "text/plain": [
              "np.float64(0.07635151515151531)"
            ]
          },
          "metadata": {},
          "execution_count": 24
        }
      ]
    },
    {
      "cell_type": "markdown",
      "source": [
        "### Ajuste de uma função qualquer"
      ],
      "metadata": {
        "id": "s-E9BPZGKaLI"
      }
    },
    {
      "cell_type": "code",
      "source": [
        "x = np.array([0,1,2,3,4,5,6,7,8,9])\n",
        "y = np.array([1,2.1,3.1,5.4,4.1,2.9,2.1,1.8,1.1,0.3])"
      ],
      "metadata": {
        "id": "rfJ-3zHJJoVw"
      },
      "execution_count": null,
      "outputs": []
    },
    {
      "cell_type": "code",
      "source": [
        "n = len(y)"
      ],
      "metadata": {
        "id": "CjQSC94LKxnW"
      },
      "execution_count": null,
      "outputs": []
    },
    {
      "cell_type": "code",
      "source": [
        "plt.plot(x,y,'ro')\n",
        "plt.xlabel('x')\n",
        "plt.ylabel('y')"
      ],
      "metadata": {
        "colab": {
          "base_uri": "https://localhost:8080/",
          "height": 466
        },
        "id": "-0hS1LijKZJm",
        "outputId": "9706e8c7-3e1c-4d6c-c615-61efba284263"
      },
      "execution_count": null,
      "outputs": [
        {
          "output_type": "execute_result",
          "data": {
            "text/plain": [
              "Text(0, 0.5, 'y')"
            ]
          },
          "metadata": {},
          "execution_count": 34
        },
        {
          "output_type": "display_data",
          "data": {
            "text/plain": [
              "<Figure size 640x480 with 1 Axes>"
            ],
            "image/png": "[encoded data removed]"
          },
          "metadata": {}
        }
      ]
    },
    {
      "cell_type": "markdown",
      "source": [
        "Ajustemos uma curva aos dados da forma\n",
        "\n",
        "$$\n",
        "f(x) = a +bx+cx^2 +dx^3+k \\cos(\\omega x)\n",
        "$$"
      ],
      "metadata": {
        "id": "0dE-WdtNLWM2"
      }
    },
    {
      "cell_type": "markdown",
      "source": [
        "Note que nas equações acima os parâmetros $k$ e $\\omega$ aparecem de forma não linear, de modo que se fossemos usar o método dos mínimos quadrados, o sistema de equações resultante seria não linear."
      ],
      "metadata": {
        "id": "m8GPDx6qUVOZ"
      }
    },
    {
      "cell_type": "code",
      "source": [
        "def f(x,a,b,c,d,k,w):\n",
        "    return a + b*x + c*x**2 + d*x**3  +k*np.cos(w*x)"
      ],
      "metadata": {
        "id": "PO3NEAUPKZPw"
      },
      "execution_count": null,
      "outputs": []
    },
    {
      "cell_type": "code",
      "source": [
        "param, pcov = curve_fit(f,x,y)"
      ],
      "metadata": {
        "id": "t3-uc6Z4L1J1"
      },
      "execution_count": null,
      "outputs": []
    },
    {
      "cell_type": "code",
      "source": [
        "param"
      ],
      "metadata": {
        "colab": {
          "base_uri": "https://localhost:8080/"
        },
        "id": "vSXlIannL1Rr",
        "outputId": "e0c4cf7b-ca74-4cc5-9519-c136b5dc110c"
      },
      "execution_count": null,
      "outputs": [
        {
          "output_type": "execute_result",
          "data": {
            "text/plain": [
              "array([ 2.27921332,  0.29061349,  0.08083678, -0.01716657, -1.28731212,\n",
              "        1.02447045])"
            ]
          },
          "metadata": {},
          "execution_count": 55
        }
      ]
    },
    {
      "cell_type": "code",
      "source": [
        "t = np.linspace(0,10,100)\n",
        "plt.plot(x,y,'ro')\n",
        "plt.plot(t,f(t,*param),'b')\n",
        "plt.xlabel('x')\n",
        "plt.ylabel('y')"
      ],
      "metadata": {
        "colab": {
          "base_uri": "https://localhost:8080/",
          "height": 466
        },
        "id": "z03td_rGKZT5",
        "outputId": "e6f48bcf-6c2c-40ec-e8de-1659ac72823d"
      },
      "execution_count": null,
      "outputs": [
        {
          "output_type": "execute_result",
          "data": {
            "text/plain": [
              "Text(0, 0.5, 'y')"
            ]
          },
          "metadata": {},
          "execution_count": 56
        },
        {
          "output_type": "display_data",
          "data": {
            "text/plain": [
              "<Figure size 640x480 with 1 Axes>"
            ],
            "image/png": "[encoded data removed]"
          },
          "metadata": {}
        }
      ]
    },
    {
      "cell_type": "markdown",
      "source": [
        "### Coeficiente de determinação e coeficiente de correlação\n",
        "\n",
        "Na regressão linear, o objetivo é encontrar um modelo que explique a relação entre uma variável dependente $y$ e uma ou mais variáveis ​​independentes $x$. O **método dos mínimos quadrados** é uma abordagem padrão que minimiza a soma dos quadrados dos resíduos:\n",
        "\n",
        "$$\n",
        "\\text{SSE} = \\sum_{i=1}^n(\\hat{y}_i-y_i)^2\n",
        "$$\n",
        "\n",
        "sendo $\\hat{y}_i$ são os valores previstos pelo modelo de regressão e $y_i$ são os valores observados (tabelados).\n",
        "\n",
        "O **coeficiente de determinação**, denotado por $r^2$, é uma medida de quão bem o modelo de regressão explica a variabilidade dos dados de resposta em torno de sua média. É definido como:\n",
        "\n",
        "$$\n",
        "r^2 = 1 - \\frac{\\text{SSE}}{\\text{SST}}\n",
        "$$\n",
        "\n",
        "Significado das siglas:\n",
        "\n",
        "- $\\text{SSE}$ (*sum of squared estimate of errors*)  é a **soma dos erros quadrados** $\\sum (y_i - \\hat{y}_i)^2$\n",
        "- $\\text{SST}$ (*sum of squares total*) é a **soma total dos quadrados**: $\\sum (\\hat{y}_i - \\bar{y})^2$\n",
        "\n",
        "\n",
        "Alternativamente, $r^2$ pode ser expresso como:\n",
        "\n",
        "$$\n",
        "r^2 = \\frac{\\text{SSR}}{\\text{SST}}\n",
        "$$\n",
        "\n",
        "onde $\\text{SSR}$ é a **soma dos quadrados da regressão**, medindo a variância explicada pelo modelo:\n",
        "\n",
        "$$\n",
        "\\text{SSR} = \\sum (\\hat{y}_i - \\bar{y})^2\n",
        "$$\n",
        "\n",
        "Notemos que:\n",
        "\n",
        "- $r^2 = 1$: o modelo explica toda a variabilidade nos dados de resposta.\n",
        "- $r^2 = 0$: o modelo não explica nenhuma variabilidade; não é melhor do que prever a média.\n",
        "- $0 < r^2 < 1$: a proporção da variabilidade explicada pelo modelo.\n",
        "\n",
        "\n",
        "Na regressão linear simples (um preditor), $r^2$ também é o quadrado do coeficiente de correlação de Pearson entre $x$ e $y$. A quantidade $r$ é denominada *coefficiente de correlação*."
      ],
      "metadata": {
        "id": "UMQiehD9unDy"
      }
    },
    {
      "cell_type": "code",
      "source": [
        "x"
      ],
      "metadata": {
        "colab": {
          "base_uri": "https://localhost:8080/"
        },
        "id": "zpnA7PxBPXk0",
        "outputId": "39841540-be2a-48f7-90c4-8af3feb5c938"
      },
      "execution_count": null,
      "outputs": [
        {
          "output_type": "execute_result",
          "data": {
            "text/plain": [
              "array([0, 1, 2, 3, 4, 5, 6, 7, 8, 9])"
            ]
          },
          "metadata": {},
          "execution_count": 57
        }
      ]
    },
    {
      "cell_type": "code",
      "source": [
        "y"
      ],
      "metadata": {
        "colab": {
          "base_uri": "https://localhost:8080/"
        },
        "id": "VETXH506PXop",
        "outputId": "bc04da98-6c91-41db-85a3-b755d90b209e"
      },
      "execution_count": null,
      "outputs": [
        {
          "output_type": "execute_result",
          "data": {
            "text/plain": [
              "array([1. , 2.1, 3.1, 5.4, 4.1, 2.9, 2.1, 1.8, 1.1, 0.3])"
            ]
          },
          "metadata": {},
          "execution_count": 58
        }
      ]
    },
    {
      "cell_type": "code",
      "source": [
        "param"
      ],
      "metadata": {
        "colab": {
          "base_uri": "https://localhost:8080/"
        },
        "id": "7XC4CTwrPXtW",
        "outputId": "21f07f9e-d1ac-4d49-b1d6-7bd9f9cd9f3a"
      },
      "execution_count": null,
      "outputs": [
        {
          "output_type": "execute_result",
          "data": {
            "text/plain": [
              "array([ 2.27921332,  0.29061349,  0.08083678, -0.01716657, -1.28731212,\n",
              "        1.02447045])"
            ]
          },
          "metadata": {},
          "execution_count": 59
        }
      ]
    },
    {
      "cell_type": "code",
      "source": [
        "# Coeficiente de deteminação\n",
        "y_pred = f(x,*param)\n",
        "y_mean = np.mean(y)\n",
        "SSE = np.sum((y_pred - y)**2)\n",
        "SST = np.sum((y - y_mean)**2)\n",
        "r2 =  1 - SSE/SST\n",
        "r2\n"
      ],
      "metadata": {
        "id": "mAhPfwayuuoG",
        "colab": {
          "base_uri": "https://localhost:8080/"
        },
        "outputId": "1f966ac2-e399-4ef5-8b58-fab07f6d0321"
      },
      "execution_count": null,
      "outputs": [
        {
          "output_type": "execute_result",
          "data": {
            "text/plain": [
              "np.float64(0.9480351760817698)"
            ]
          },
          "metadata": {},
          "execution_count": 60
        }
      ]
    },
    {
      "cell_type": "markdown",
      "source": [
        "Isso significa que aproximadamente 94,8% da incerteza original foi explicada pelo modelo.\n"
      ],
      "metadata": {
        "id": "KXrfTO4mQe5Y"
      }
    },
    {
      "cell_type": "code",
      "source": [
        " # Predição para x = 4.5\n",
        "print(round(f(4.5,*param),2))"
      ],
      "metadata": {
        "colab": {
          "base_uri": "https://localhost:8080/"
        },
        "id": "0Dqt_Y6MQZx0",
        "outputId": "77cb3260-b75b-4e97-d6e6-187f190236c6"
      },
      "execution_count": null,
      "outputs": [
        {
          "output_type": "execute_result",
          "data": {
            "text/plain": [
              "np.float64(3.79)"
            ]
          },
          "metadata": {},
          "execution_count": 62
        }
      ]
    },
    {
      "cell_type": "markdown",
      "source": [
        "## 2. Método dos gradientes descendentes\n",
        "\n",
        "O método descrito anteriormente funciona bem para funções de uma variável e quando o número de pontos não é muito grande. Descreveremos agora um método mais apropriado para lidar com ajuste de funções de uma ou mais variável, que funciona bem com um número muito grande de pontos. Nosso objetivo é modelar a relação entre uma variável dependente escalar $y$ e uma variável independente $x$ como:\n",
        "\n",
        "$$\n",
        "y \\approx \\hat{y} = \\theta_0 + \\theta_1 x\\,.\n",
        "$$\n",
        "\n",
        "Devemos encontrar os parâmetros $\\theta_0$ e $\\theta_1$ que minimizem a discrepância entre os valores previstos $\\hat{y}$ e os valores observados $y$. Essa discrepância é quantificada pela função de custo (Erro Quadrático Médio):\n",
        "\n",
        "$$\n",
        "J(\\theta_0, \\theta_1) = \\frac{1}{2m} \\sum_{i=1}^{m} \\left( \\hat{y}^{(i)} - y^{(i)} \\right)^2 = \\frac{1}{2m} \\sum_{i=1}^{m} \\left( \\theta_0 + \\theta_1 x^{(i)} - y^{(i)} \\right)^2\n",
        "$$\n",
        "\n",
        "O método dos gradientes descendentes é um algoritmo de otimização iterativa para minimizar a função de custo $J(\\theta_0, \\theta_1)$. Os parâmetros são atualizados da seguinte forma:\n",
        "\n",
        "$$\n",
        "\\theta_j := \\theta_j - \\alpha \\frac{\\partial J}{\\partial \\theta_j}\n",
        "$$\n",
        "\n",
        "para $j = 0, 1$, onde $\\alpha$ é a taxa de aprendizado (tomando como positivo, pois buscamos um mínimo).\n",
        "\n",
        "As derivadas parciais são:\n",
        "\n",
        "$$\n",
        "\\frac{\\partial J}{\\partial \\theta_0} = \\frac{1}{m} \\sum_{i=1}^{m} \\left( \\hat{y}^{(i)} - y^{(i)} \\right)\n",
        "$$\n",
        "\n",
        "$$\n",
        "\\frac{\\partial J}{\\partial \\theta_1} = \\frac{1}{m} \\sum_{i=1}^{m} \\left( \\hat{y}^{(i)} - y^{(i)} \\right)x^{(i)}\n",
        "$$\n",
        "\n",
        "De modo mais compacto, para fins computacionais,  podemos reescrever:\n",
        "\n",
        "$$J(\\theta) = \\frac{1}{2m} \\sum_{i=1}^m (h_\\theta(x^{(i)}) - y^{(i)} )^2$$\n",
        "\n",
        "onde $y^{(i)}$ são os valores observados e $h_{\\theta}(x)$ é a hipótese, dada pelo modelo linear.\n",
        "\n",
        "$$h_{\\theta}(x) = \\theta^T\\mathbf{x} = \\theta_0 + \\theta_1x_1$$\n",
        "\n",
        "sendo\n",
        "\n",
        "$$\n",
        "\\theta^T = [\\theta_0 \\,\\,\\theta_1]\\,,\\qquad \\mathbf{x}^T = [ 1,x_1]\\,.\n",
        "$$"
      ],
      "metadata": {
        "id": "u3VIqsvYuzrf"
      }
    },
    {
      "cell_type": "code",
      "source": [
        "import numpy as np\n",
        "import matplotlib.pyplot as plt"
      ],
      "metadata": {
        "id": "Rjrg4MacYyDF"
      },
      "execution_count": null,
      "outputs": []
    },
    {
      "cell_type": "code",
      "source": [
        "# Gera dados sintéticos\n",
        "np.random.seed(0)\n",
        "x = 2 * np.random.rand(100, 1)\n",
        "y = 4 + 3 * x + np.random.randn(100, 1)"
      ],
      "metadata": {
        "id": "CT3DRncwRMN8"
      },
      "execution_count": null,
      "outputs": []
    },
    {
      "cell_type": "code",
      "source": [
        "# Gráfico\n",
        "plt.plot(x,y,'ro')\n",
        "plt.xlabel('x')\n",
        "plt.ylabel('y')\n",
        "plt.grid(True)"
      ],
      "metadata": {
        "colab": {
          "base_uri": "https://localhost:8080/",
          "height": 449
        },
        "id": "3I4ftx8TVGFG",
        "outputId": "60afe0c4-34fa-4879-c6ab-cba4da1401e4"
      },
      "execution_count": null,
      "outputs": [
        {
          "output_type": "display_data",
          "data": {
            "text/plain": [
              "<Figure size 640x480 with 1 Axes>"
            ],
            "image/png": "[encoded data removed]"
          },
          "metadata": {}
        }
      ]
    },
    {
      "cell_type": "code",
      "source": [
        "# Vetor de dados:\n",
        "X = np.c_[np.ones((100, 1)), x]"
      ],
      "metadata": {
        "id": "-SBrx4F1VG6j"
      },
      "execution_count": null,
      "outputs": []
    },
    {
      "cell_type": "code",
      "source": [
        "np.shape(X)"
      ],
      "metadata": {
        "colab": {
          "base_uri": "https://localhost:8080/"
        },
        "id": "pb4P8YqEWAQI",
        "outputId": "514ed29a-233d-489a-b625-1826249d68d5"
      },
      "execution_count": null,
      "outputs": [
        {
          "output_type": "execute_result",
          "data": {
            "text/plain": [
              "(100, 2)"
            ]
          },
          "metadata": {},
          "execution_count": 9
        }
      ]
    },
    {
      "cell_type": "code",
      "source": [
        "# Parâmetros\n",
        "alpha =0.1\n",
        "n_it=1000\n",
        "m = len(x)\n",
        "theta = np.zeros((2,1))"
      ],
      "metadata": {
        "id": "GXI8_mHbWCLT"
      },
      "execution_count": null,
      "outputs": []
    },
    {
      "cell_type": "code",
      "source": [
        "for _ in range(n_it):\n",
        "  gradJ = 1/m*X.T@(X@theta -y)\n",
        "  theta = theta -alpha*gradJ\n",
        "theta"
      ],
      "metadata": {
        "colab": {
          "base_uri": "https://localhost:8080/"
        },
        "id": "GxCwbpanWqz0",
        "outputId": "61c6da82-083f-4527-8839-e726e7d1df82"
      },
      "execution_count": null,
      "outputs": [
        {
          "output_type": "execute_result",
          "data": {
            "text/plain": [
              "array([[4.222151  ],\n",
              "       [2.96846758]])"
            ]
          },
          "metadata": {},
          "execution_count": 11
        }
      ]
    },
    {
      "cell_type": "code",
      "source": [
        "# Gráficos\n",
        "t = np.linspace(0,2,100)\n",
        "plt.plot(x,y,'ro')\n",
        "plt.plot(t,theta[0]+theta[1]*t,'b')\n",
        "plt.xlabel('x')\n",
        "plt.ylabel('y')"
      ],
      "metadata": {
        "colab": {
          "base_uri": "https://localhost:8080/",
          "height": 466
        },
        "id": "uM5-2wQFXnZ9",
        "outputId": "552ab6cf-6f90-46c4-95bd-33053a1446e8"
      },
      "execution_count": null,
      "outputs": [
        {
          "output_type": "execute_result",
          "data": {
            "text/plain": [
              "Text(0, 0.5, 'y')"
            ]
          },
          "metadata": {},
          "execution_count": 12
        },
        {
          "output_type": "display_data",
          "data": {
            "text/plain": [
              "<Figure size 640x480 with 1 Axes>"
            ],
            "image/png": "[encoded data removed]"
          },
          "metadata": {}
        }
      ]
    },
    {
      "cell_type": "markdown",
      "source": [
        "Podemos prever valore de $y$ a partir do modelo. Por exemplo, determinemos $y(2.5)$:"
      ],
      "metadata": {
        "id": "G9V3anXUYMes"
      }
    },
    {
      "cell_type": "code",
      "source": [
        "x1 = np.array([1,1.5])\n",
        "x1@theta"
      ],
      "metadata": {
        "colab": {
          "base_uri": "https://localhost:8080/"
        },
        "id": "ydO3hsIJYM06",
        "outputId": "3ccc955a-dd6d-4d56-d81e-5d7e71c57a2f"
      },
      "execution_count": null,
      "outputs": [
        {
          "output_type": "execute_result",
          "data": {
            "text/plain": [
              "array([8.67485237])"
            ]
          },
          "metadata": {},
          "execution_count": 21
        }
      ]
    },
    {
      "cell_type": "markdown",
      "source": [
        "ou"
      ],
      "metadata": {
        "id": "p6x3yrqDY7Ta"
      }
    },
    {
      "cell_type": "code",
      "source": [
        "print(round((x1@theta)[0],4))"
      ],
      "metadata": {
        "colab": {
          "base_uri": "https://localhost:8080/"
        },
        "id": "UtwAHA8rY7fC",
        "outputId": "eb24a282-4f32-4ea8-ece5-26bbd690b231"
      },
      "execution_count": null,
      "outputs": [
        {
          "output_type": "stream",
          "name": "stdout",
          "text": [
            "8.6749\n"
          ]
        }
      ]
    },
    {
      "cell_type": "markdown",
      "source": [
        "Determinemos o coeficiente de determinação do ajuste. Usaremos o módulo sklearn:"
      ],
      "metadata": {
        "id": "CA4WlYTSbgNB"
      }
    },
    {
      "cell_type": "code",
      "source": [
        "from sklearn.metrics import r2_score"
      ],
      "metadata": {
        "id": "5UapqbBmbdgD"
      },
      "execution_count": null,
      "outputs": []
    },
    {
      "cell_type": "code",
      "source": [
        "# Valores de y previstos pelo modelo\n",
        "y_pred = X @ theta\n",
        "# Coeficiente de determinação\n",
        "r2 = r2_score(y, y_pred)\n",
        "print(f\"Coeficiente de Determinação (r²): {r2:.4f}\")"
      ],
      "metadata": {
        "colab": {
          "base_uri": "https://localhost:8080/"
        },
        "id": "LDRd20Ghbdmf",
        "outputId": "ffa67ddb-767b-4a4a-ca45-b01f86a0eae9"
      },
      "execution_count": null,
      "outputs": [
        {
          "output_type": "stream",
          "name": "stdout",
          "text": [
            "Coeficiente de Determinação (r²): 0.7470\n"
          ]
        }
      ]
    },
    {
      "cell_type": "markdown",
      "source": [
        "Isso significa que aproximadamente 74,7% da incerteza original foi explicada pelo modelo."
      ],
      "metadata": {
        "id": "sPFhRAkKcS86"
      }
    },
    {
      "cell_type": "markdown",
      "source": [
        "## Bibliografia\n",
        "\n",
        "**1.** Snehan Kekre, Linear Regression with NumPy and Python, Coursera Project Network, https://www.coursera.org/projects/linear-regression-numpy-python\n",
        "\n",
        "**2.** Gareth James, Daniela Witten, Trevor Hastie, Robert Tibshirani. An Introduction to Statistical Learning, 2nd ed., Springer, 2021.  https://www.statlearning.com/resources-second-edition"
      ],
      "metadata": {
        "id": "TxVN_qtzU8Qa"
      }
    }
  ]
}