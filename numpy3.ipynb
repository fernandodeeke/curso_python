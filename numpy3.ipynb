{
  "cells": [
    {
      "cell_type": "markdown",
      "metadata": {
        "id": "view-in-github",
        "colab_type": "text"
      },
      "source": [
        "<a href=\"https://colab.research.google.com/github/fernandodeeke/curso_python/blob/main/numpy3.ipynb\" target=\"_parent\"><img src=\"https://colab.research.google.com/assets/colab-badge.svg\" alt=\"Open In Colab\"/></a>"
      ]
    },
    {
      "cell_type": "markdown",
      "id": "120c13a0",
      "metadata": {
        "id": "120c13a0"
      },
      "source": [
        "<center><h1>Aprendendo Matemática com Python</h1></center>\n",
        "<center><h2>Curso de Extensão</h2></center>\n",
        "<center><h3>Fernando Deeke Sasse</h3></center>\n",
        "<center><h3>CCT - UDESC</h3></center>\n",
        "<center><h2>NumPy: Vetores, Matrizes e Sistemas Lineares</h2></center>"
      ]
    },
    {
      "cell_type": "markdown",
      "id": "8ecdb50f",
      "metadata": {
        "id": "8ecdb50f"
      },
      "source": [
        "### 1. Introdução\n",
        "\n",
        "Veremos neste notebook como realizar operações algébricas envolvendo vetores e matrizes."
      ]
    },
    {
      "cell_type": "markdown",
      "id": "375f99ad",
      "metadata": {
        "id": "375f99ad"
      },
      "source": [
        "### 2. Operações com 3-vetores espaciais\n",
        "\n",
        "As operações mais básicas entre vetores espaciais, com aplicações em geometria analítica e mecânica são aquelas envolvendo o produto escalar e vetorial entre vetores.  Mostraremos a seguir como essas operações podem ser feitas em Numpy.\n",
        "\n",
        "Consideremos os vetores $\\mathbf{u}=(3,1,2)$ e $\\mathbf{v}=(-1,2,-1)$. O produto escalar $\\mathbf{u}\\cdot \\mathbf{v}$ pode ser feito da seguinte forma:"
      ]
    },
    {
      "cell_type": "code",
      "execution_count": 1,
      "id": "8ed64d87",
      "metadata": {
        "colab": {
          "base_uri": "https://localhost:8080/"
        },
        "id": "8ed64d87",
        "outputId": "dc344c5c-4981-476f-b02c-63ec6ac57879"
      },
      "outputs": [
        {
          "output_type": "execute_result",
          "data": {
            "text/plain": [
              "-3"
            ]
          },
          "metadata": {},
          "execution_count": 1
        }
      ],
      "source": [
        "import numpy as np\n",
        "u = np.array([3,1,2])\n",
        "v = np.array([-1,2,-1])\n",
        "np.dot(u,v)"
      ]
    },
    {
      "cell_type": "markdown",
      "id": "73efd02c",
      "metadata": {
        "id": "73efd02c"
      },
      "source": [
        "Por outro lado, o produto vetorial $\\mathbf{u} \\times \\mathbf{v}$ é dado por"
      ]
    },
    {
      "cell_type": "code",
      "execution_count": 2,
      "id": "bd24f0dc",
      "metadata": {
        "colab": {
          "base_uri": "https://localhost:8080/"
        },
        "id": "bd24f0dc",
        "outputId": "06b2ecfc-2ef7-4e1b-c99c-b2b3087e0d83"
      },
      "outputs": [
        {
          "output_type": "execute_result",
          "data": {
            "text/plain": [
              "array([-5,  1,  7])"
            ]
          },
          "metadata": {},
          "execution_count": 2
        }
      ],
      "source": [
        "np.cross(u,v)"
      ]
    },
    {
      "cell_type": "markdown",
      "id": "5e878035",
      "metadata": {
        "id": "5e878035"
      },
      "source": [
        "Definiremos normas de um vetor de modo geral mais adiante. Por hora utiizaremos  a norma euclidiana de um vetor  $\\mathbf{u}=(u_1,u_2, u_3)$ da forma usual,\n",
        "\n",
        "$$\n",
        "|\\mathbf{u}|= \\sqrt{\\Sigma_{i=1}^3|u_i|^2}\\,,\n",
        "$$\n",
        "\n",
        "que é simplesmente o comprimento espacial do vetor.\n",
        "\n",
        "No Python:"
      ]
    },
    {
      "cell_type": "code",
      "execution_count": 3,
      "id": "7fe504ae",
      "metadata": {
        "colab": {
          "base_uri": "https://localhost:8080/"
        },
        "id": "7fe504ae",
        "outputId": "9aa03844-986c-463a-cfff-21c2788696fb"
      },
      "outputs": [
        {
          "output_type": "execute_result",
          "data": {
            "text/plain": [
              "7.280109889280518"
            ]
          },
          "metadata": {},
          "execution_count": 3
        }
      ],
      "source": [
        "u = np.array([4,-6,1])\n",
        "NE = np.linalg.norm(u)\n",
        "NE"
      ]
    },
    {
      "cell_type": "markdown",
      "id": "5a889053",
      "metadata": {
        "id": "5a889053"
      },
      "source": [
        "De fato,"
      ]
    },
    {
      "cell_type": "code",
      "execution_count": 4,
      "id": "500fd19d",
      "metadata": {
        "colab": {
          "base_uri": "https://localhost:8080/"
        },
        "id": "500fd19d",
        "outputId": "a976a3e5-37fe-4f6b-f9f4-f8e3d02688f0"
      },
      "outputs": [
        {
          "output_type": "execute_result",
          "data": {
            "text/plain": [
              "7.280109889280518"
            ]
          },
          "metadata": {},
          "execution_count": 4
        }
      ],
      "source": [
        "np.sqrt(np.sum(u**2))"
      ]
    },
    {
      "cell_type": "markdown",
      "id": "11d097c3",
      "metadata": {
        "id": "11d097c3"
      },
      "source": [
        "Um cálculo frequentemente utilizado em dinâmica de partículas é o da projeção de um vetor na direção de outro. Sejam os vetores $\\mathbf{u}=(1,4,-1)$ e $\\mathbf{v}=(1,3,-5)$.\n",
        "\n",
        "(i) Calculemos a projeção do vetor $\\mathbf{u}$ na direção de $\\mathbf{v}$.\n",
        "\n",
        "Devemos calcular a expressão\n",
        "$$\n",
        "\\mathbf{u}_{\\mathbf{v}}=\\left(\\frac{\\mathbf{u}\\cdot\\mathbf{v}}{|\\mathbf{v}|^2}\\right)\\mathbf{v}\n",
        "$$\n",
        "\n",
        "No Python,"
      ]
    },
    {
      "cell_type": "code",
      "execution_count": 6,
      "id": "c9e2f415",
      "metadata": {
        "colab": {
          "base_uri": "https://localhost:8080/"
        },
        "id": "c9e2f415",
        "outputId": "7d503ed3-ada5-4340-8391-782a66462447"
      },
      "outputs": [
        {
          "output_type": "execute_result",
          "data": {
            "text/plain": [
              "array([ 0.51428571,  1.54285714, -2.57142857])"
            ]
          },
          "metadata": {},
          "execution_count": 6
        }
      ],
      "source": [
        "u = np.array([1,4,-1])\n",
        "v = np.array([1,3,-5])\n",
        "uv = (np.dot(u,v)/np.dot(v,v))*v\n",
        "uv"
      ]
    },
    {
      "cell_type": "markdown",
      "id": "aa2a148d",
      "metadata": {
        "id": "aa2a148d"
      },
      "source": [
        "Calculemos o ângulo $\\theta$ entre $\\mathbf{u}$ e $\\mathbf{v}$.\n",
        "\n",
        "Para isso podemos usar a relação\n",
        "\n",
        "$$\n",
        "\\mathbf{u}\\cdot \\mathbf{v}=|\\mathbf{u}||\\mathbf{v}|\\cos\\theta\\,.\n",
        "$$\n",
        "Em Python,"
      ]
    },
    {
      "cell_type": "code",
      "execution_count": 7,
      "id": "86a4d0cb",
      "metadata": {
        "colab": {
          "base_uri": "https://localhost:8080/"
        },
        "id": "86a4d0cb",
        "outputId": "a93f67cb-03ff-4877-c7e2-61efb4aae9da"
      },
      "outputs": [
        {
          "output_type": "execute_result",
          "data": {
            "text/plain": [
              "0.771110504762802"
            ]
          },
          "metadata": {},
          "execution_count": 7
        }
      ],
      "source": [
        "c = np.dot(u,v)/np.linalg.norm(u)/np.linalg.norm(v)\n",
        "theta = np.arccos(c)\n",
        "theta"
      ]
    },
    {
      "cell_type": "markdown",
      "id": "7df20463",
      "metadata": {
        "id": "7df20463"
      },
      "source": [
        "Em graus:"
      ]
    },
    {
      "cell_type": "code",
      "execution_count": 8,
      "id": "a6836def",
      "metadata": {
        "colab": {
          "base_uri": "https://localhost:8080/"
        },
        "id": "a6836def",
        "outputId": "aeb93f1c-e989-4aa6-e360-3a0b3bb04c21"
      },
      "outputs": [
        {
          "output_type": "execute_result",
          "data": {
            "text/plain": [
              "44.18137746111112"
            ]
          },
          "metadata": {},
          "execution_count": 8
        }
      ],
      "source": [
        "theta_deg = np.degrees(theta)\n",
        "theta_deg"
      ]
    },
    {
      "cell_type": "markdown",
      "id": "6c4b2c40",
      "metadata": {
        "id": "6c4b2c40"
      },
      "source": [
        "De fato,"
      ]
    },
    {
      "cell_type": "code",
      "execution_count": 9,
      "id": "f6fe7ca4",
      "metadata": {
        "colab": {
          "base_uri": "https://localhost:8080/"
        },
        "id": "f6fe7ca4",
        "outputId": "392dc51b-657a-4953-8f76-1fe679ab56cd"
      },
      "outputs": [
        {
          "output_type": "execute_result",
          "data": {
            "text/plain": [
              "44.18137746111112"
            ]
          },
          "metadata": {},
          "execution_count": 9
        }
      ],
      "source": [
        "theta*180/np.pi"
      ]
    },
    {
      "cell_type": "markdown",
      "id": "c13e7e35",
      "metadata": {
        "id": "c13e7e35"
      },
      "source": [
        "Um problema típico de geometria analítica consiste em calcular áreas de triângulos no espaço. Determinemos a área do triângulo com vértices $(-2,3,1)$, $(3,2,4)$ e $(2,1,8)$.\n",
        "\n",
        "Devemos lembrar que a área do triângulo $ABC$ pode ser calculada pela fórmula\n",
        "\n",
        "$$\n",
        "A = \\frac{1}{2}|\\mathbf{AB}\\times \\mathbf{AC}|,\n",
        "$$\n",
        "\n",
        "sendo $\\mathbf{AB}$ ($\\mathbf{AC}$) o vetor com origem no ponto $A$ e extremidade no ponto $B$ ($C$). Façamos o cálculo em Python:"
      ]
    },
    {
      "cell_type": "code",
      "execution_count": 10,
      "id": "d5405706",
      "metadata": {
        "id": "d5405706"
      },
      "outputs": [],
      "source": [
        "A = np.array([-2,3,1])\n",
        "B = np.array([3,2,4])\n",
        "C = np.array([2,1,8])\n",
        "AB = B-C\n",
        "AC = C-A"
      ]
    },
    {
      "cell_type": "markdown",
      "id": "421f1e8c",
      "metadata": {
        "id": "421f1e8c"
      },
      "source": [
        "A área é então dada por"
      ]
    },
    {
      "cell_type": "code",
      "execution_count": 11,
      "id": "27dac3b0",
      "metadata": {
        "colab": {
          "base_uri": "https://localhost:8080/"
        },
        "id": "27dac3b0",
        "outputId": "915a0c8b-104a-4803-d7e7-07d50a1a3a0c"
      },
      "outputs": [
        {
          "output_type": "execute_result",
          "data": {
            "text/plain": [
              "11.895377253370318"
            ]
          },
          "metadata": {},
          "execution_count": 11
        }
      ],
      "source": [
        "Area = np.linalg.norm(np.cross(AB,AC))/2\n",
        "Area"
      ]
    },
    {
      "cell_type": "markdown",
      "id": "b51f1b92",
      "metadata": {
        "id": "b51f1b92"
      },
      "source": [
        "Outro problema que podemos resolver facilmente com os comandos já explicados anteriormente consiste em determinar volumes de tetraedros.\n",
        "\n",
        "\n",
        "Por exemplo, determinemos o volume do tetraedro com vértices $A =(2,3,1)$, $B = (3,-2,4)$, $C = (2,1,8)$ e $D =(-3,1,-2)$.\n",
        "\n",
        "O volume do tetraedro é 1/6 do volume do paralepípedo definido pelos vértices acima. O volume do paralelepípedo é dado pela magnitude do produto triplo do vetores definidos pelos vértices $A$, $B$, $C$ e $D$:\n",
        "\n",
        "$$\n",
        "V_t=\\frac{1}{6}|\\mathbf{AB}\\cdot(\\mathbf{AC}\\times \\mathbf{AD})|\n",
        "$$\n",
        "\n",
        "Em Python temos:"
      ]
    },
    {
      "cell_type": "code",
      "execution_count": 12,
      "id": "386da049",
      "metadata": {
        "colab": {
          "base_uri": "https://localhost:8080/"
        },
        "id": "386da049",
        "outputId": "3e7aa479-b86f-450f-c9c4-cbb8b5324b20"
      },
      "outputs": [
        {
          "output_type": "execute_result",
          "data": {
            "text/plain": [
              "27.5"
            ]
          },
          "metadata": {},
          "execution_count": 12
        }
      ],
      "source": [
        "A = np.array([2,3,1])\n",
        "B = np.array([3,-2,4])\n",
        "C = np.array([2,1,8])\n",
        "D = np.array([-3,1,-2])\n",
        "AB = B-A\n",
        "AC = C-A\n",
        "AD = D-A\n",
        "Vt=1/6*np.dot(AB, np.cross(AC,AD))\n",
        "Vt"
      ]
    },
    {
      "cell_type": "markdown",
      "id": "7aa3f12c",
      "metadata": {
        "id": "7aa3f12c"
      },
      "source": [
        "### 3. Normas de vetores discretos gerais"
      ]
    },
    {
      "cell_type": "markdown",
      "id": "8815e294",
      "metadata": {
        "id": "8815e294"
      },
      "source": [
        "Um conceito mais geral de norma vetorial geral é necessário quando tratamos de vetores em espaços de dimensões finitas superiores. As normas vetoriais são funções que atribuem a um\n",
        "vetor um número real não negativo, que pode ser\n",
        "interpretado como o  \"tamanho\"\n",
        "do vetor em diferentes sentidos. Diversos teoremas em álgebra linear são formulados para normas gerais. A definição é dada a seguir.\n",
        "\n",
        "\n",
        "Dado um vetor de componentes reais ou complexas $\\mathbf{v} = (v_1, v_2, \\dots, v_n)$, uma norma $\\|\\mathbf{v}\\|$ deve satisfazer:\n",
        "\n",
        "\n",
        "1. **Positividade:**\n",
        "\n",
        "   $$\n",
        "   \\|\\mathbf{v}\\| \\geq 0\\,,\n",
        "   $$\n",
        "  \n",
        "\n",
        "2. **Definitividade:**\n",
        "\n",
        "   $$\n",
        "   \\|\\mathbf{v}\\| = 0 \\quad \\iff \\quad \\mathbf{v} = \\mathbf{0}\\,,\n",
        "   $$\n",
        "   \n",
        "\n",
        "3. **Homogeneidade (ou linearidade em relação ao escalar):**\n",
        "\n",
        "   $$\n",
        "   \\|\\alpha \\mathbf{v}\\| = |\\alpha| \\|\\mathbf{v}\\| \\quad \\text{para qualquer escalar} \\quad \\alpha \\in \\mathbb{R} \\text{ ou } \\mathbb{C}\\,,\n",
        "   $$\n",
        "   \n",
        "\n",
        "4. **Desigualdade triangular:**\n",
        "   $$\n",
        "   \\|\\mathbf{u} + \\mathbf{v}\\| \\leq \\|\\mathbf{u}\\| + \\|\\mathbf{v}\\|\\,.\n",
        "   $$\n",
        "   \n",
        "\n",
        "\n",
        "As normas vetoriais mais comuns são:\n",
        "\n",
        "1. **Norma $ L_1 $** (Norma da soma absoluta):\n",
        "\n",
        "   $$\n",
        "   \\| \\mathbf{v} \\|_1 = \\sum_{i=1}^{n} |v_i|\\,.\n",
        "   $$\n",
        "\n",
        "2. **Norma $ L_2 $** (Norma euclidiana):\n",
        "\n",
        "   $$\n",
        "   \\| \\mathbf{v} \\|_2 = \\sqrt{\\sum_{i=1}^{n} |v_i|^2}\\,.\n",
        "   $$\n",
        "\n",
        "3. **Norma $ L_\\infty $** (Norma da máxima componente):\n",
        "\n",
        "   $$\n",
        "   \\| \\mathbf{v} \\|_\\infty = \\max \\left( |v_1|, |v_2|, \\dots, |v_n| \\right)\\,.\n",
        "   $$\n",
        "\n",
        "Por exemplo, a norma $ L_\\infty $ como critério de parada em processos iterativos, devido ao seu baixo custo computacional, principamente quando $n$ é muito grande.\n",
        "\n",
        "\n",
        "Vejamos um exemplo em Python que envolve o cálculo das diferentes normas do vetor\n",
        "\n",
        "$$\n",
        "\\mathbf{v} = (1,-4,2,9,-2)\\,.\n",
        "$$\n",
        "\n"
      ]
    },
    {
      "cell_type": "code",
      "execution_count": 13,
      "id": "9f2d7722",
      "metadata": {
        "id": "9f2d7722"
      },
      "outputs": [],
      "source": [
        "import numpy as np\n",
        "\n",
        "# Definimos o vetor\n",
        "v = np.array([1, -4, 2, 9,-2])"
      ]
    },
    {
      "cell_type": "code",
      "execution_count": 14,
      "id": "b0baf6cd",
      "metadata": {
        "colab": {
          "base_uri": "https://localhost:8080/"
        },
        "id": "b0baf6cd",
        "outputId": "84762a62-c43a-4bed-de06-2037bf709eb0"
      },
      "outputs": [
        {
          "output_type": "execute_result",
          "data": {
            "text/plain": [
              "18.0"
            ]
          },
          "metadata": {},
          "execution_count": 14
        }
      ],
      "source": [
        "# Norma L1 (soma dos valores absolutos)\n",
        "norm_L1 = np.linalg.norm(v, 1)\n",
        "norm_L1"
      ]
    },
    {
      "cell_type": "code",
      "execution_count": 15,
      "id": "30ad3edb",
      "metadata": {
        "colab": {
          "base_uri": "https://localhost:8080/"
        },
        "id": "30ad3edb",
        "outputId": "039f9a48-2c9d-46e5-e7a6-ea6b79571df2"
      },
      "outputs": [
        {
          "output_type": "execute_result",
          "data": {
            "text/plain": [
              "10.295630140987"
            ]
          },
          "metadata": {},
          "execution_count": 15
        }
      ],
      "source": [
        "# Norma L2 (norma euclidiana)\n",
        "norm_L2 = np.linalg.norm(v)\n",
        "norm_L2"
      ]
    },
    {
      "cell_type": "code",
      "execution_count": 16,
      "id": "ab4f15ed",
      "metadata": {
        "colab": {
          "base_uri": "https://localhost:8080/"
        },
        "id": "ab4f15ed",
        "outputId": "e6f6e7eb-07d9-40a8-cbfa-c79b691e318a"
      },
      "outputs": [
        {
          "output_type": "execute_result",
          "data": {
            "text/plain": [
              "9.0"
            ]
          },
          "metadata": {},
          "execution_count": 16
        }
      ],
      "source": [
        "# Norma L_infinito (valor absoluto máximo)\n",
        "norm_Linf = np.linalg.norm(v, np.inf)\n",
        "norm_Linf"
      ]
    },
    {
      "cell_type": "markdown",
      "id": "837c07b0",
      "metadata": {
        "id": "837c07b0"
      },
      "source": [
        "### 4. Matrizes no NumPy"
      ]
    },
    {
      "cell_type": "markdown",
      "id": "38c85a33",
      "metadata": {
        "id": "38c85a33"
      },
      "source": [
        "Matrizes são arrays 2-dimensionais. Por exemplo, seja a matriz $3 \\times 4$:\n",
        "\n",
        "$$\n",
        "M=\\begin{bmatrix}\n",
        "-1& 5 & 7 & 4\\\\\n",
        "2 & 3 & 1 & 7\\\\\n",
        "8 & 9 & 6 & 3\n",
        "\\end{bmatrix}\n",
        "$$\n",
        "\n",
        "Em Python,"
      ]
    },
    {
      "cell_type": "code",
      "execution_count": 17,
      "id": "f73f65fb",
      "metadata": {
        "colab": {
          "base_uri": "https://localhost:8080/"
        },
        "id": "f73f65fb",
        "outputId": "b113c9a2-fade-4cb4-8072-1e8a97bb507a"
      },
      "outputs": [
        {
          "output_type": "execute_result",
          "data": {
            "text/plain": [
              "array([[-1,  5,  7,  4],\n",
              "       [ 2,  3,  1,  7],\n",
              "       [ 8,  9,  6,  3]])"
            ]
          },
          "metadata": {},
          "execution_count": 17
        }
      ],
      "source": [
        "M=np.array([[-1,5,7,4],[2,3,1,7],[8,9,6,3]])\n",
        "M"
      ]
    },
    {
      "cell_type": "markdown",
      "id": "08035e4b",
      "metadata": {
        "id": "08035e4b"
      },
      "source": [
        "A dimensão de $M$ é dada por"
      ]
    },
    {
      "cell_type": "code",
      "execution_count": 18,
      "id": "01c39622",
      "metadata": {
        "colab": {
          "base_uri": "https://localhost:8080/"
        },
        "id": "01c39622",
        "outputId": "c90b2925-ddb9-405b-9c41-c220974b60ed"
      },
      "outputs": [
        {
          "output_type": "execute_result",
          "data": {
            "text/plain": [
              "2"
            ]
          },
          "metadata": {},
          "execution_count": 18
        }
      ],
      "source": [
        "M.ndim"
      ]
    },
    {
      "cell_type": "markdown",
      "id": "040eff06",
      "metadata": {
        "id": "040eff06"
      },
      "source": [
        "Sua forma é:"
      ]
    },
    {
      "cell_type": "code",
      "execution_count": 19,
      "id": "89cf706f",
      "metadata": {
        "colab": {
          "base_uri": "https://localhost:8080/"
        },
        "id": "89cf706f",
        "outputId": "041c7732-00d8-4ba8-a968-591c6d877002"
      },
      "outputs": [
        {
          "output_type": "execute_result",
          "data": {
            "text/plain": [
              "(3, 4)"
            ]
          },
          "metadata": {},
          "execution_count": 19
        }
      ],
      "source": [
        "M.shape"
      ]
    },
    {
      "cell_type": "markdown",
      "id": "e04db1b7",
      "metadata": {
        "id": "e04db1b7"
      },
      "source": [
        "O número total de elementos é dado por"
      ]
    },
    {
      "cell_type": "code",
      "execution_count": 20,
      "id": "e49d5923",
      "metadata": {
        "colab": {
          "base_uri": "https://localhost:8080/"
        },
        "id": "e49d5923",
        "outputId": "24abac27-172a-48d4-ae26-4cd2492c3833"
      },
      "outputs": [
        {
          "output_type": "execute_result",
          "data": {
            "text/plain": [
              "12"
            ]
          },
          "metadata": {},
          "execution_count": 20
        }
      ],
      "source": [
        "M.size"
      ]
    },
    {
      "cell_type": "markdown",
      "id": "bc4cf2cb",
      "metadata": {
        "id": "bc4cf2cb"
      },
      "source": [
        "### 4. Fatiamento de matrizes"
      ]
    },
    {
      "cell_type": "markdown",
      "id": "0994306a",
      "metadata": {
        "id": "0994306a"
      },
      "source": [
        "Podemos selecionar componentes de $M$ da forma usual. Por exemplo, o elemento da primeira linha e segunda coluna é dado por"
      ]
    },
    {
      "cell_type": "code",
      "execution_count": 21,
      "id": "3841424a",
      "metadata": {
        "id": "3841424a"
      },
      "outputs": [],
      "source": [
        "import numpy as np"
      ]
    },
    {
      "cell_type": "code",
      "execution_count": 22,
      "id": "16ddf7e1",
      "metadata": {
        "colab": {
          "base_uri": "https://localhost:8080/"
        },
        "id": "16ddf7e1",
        "outputId": "8645ea34-660a-44e9-b544-f048610bdce8"
      },
      "outputs": [
        {
          "output_type": "execute_result",
          "data": {
            "text/plain": [
              "5"
            ]
          },
          "metadata": {},
          "execution_count": 22
        }
      ],
      "source": [
        "M[0,1]"
      ]
    },
    {
      "cell_type": "markdown",
      "id": "1403e91b",
      "metadata": {
        "id": "1403e91b"
      },
      "source": [
        "Selecionemos a primeira coluna de $M$ para gerar um array 1D:"
      ]
    },
    {
      "cell_type": "code",
      "execution_count": 23,
      "id": "cb248ab5",
      "metadata": {
        "colab": {
          "base_uri": "https://localhost:8080/"
        },
        "id": "cb248ab5",
        "outputId": "bbaaef6d-e786-47f2-cc2e-5d9bbbc097cf"
      },
      "outputs": [
        {
          "output_type": "execute_result",
          "data": {
            "text/plain": [
              "array([-1,  2,  8])"
            ]
          },
          "metadata": {},
          "execution_count": 23
        }
      ],
      "source": [
        "col1=M[:,0]\n",
        "col1"
      ]
    },
    {
      "cell_type": "markdown",
      "id": "6edb8143",
      "metadata": {
        "id": "6edb8143"
      },
      "source": [
        "Podemos forma submatrizes. Por exemplo, selecionemos a submatriz\n",
        "\n",
        "$$\n",
        "\\begin{bmatrix}\n",
        " 1 & 7\\\\\n",
        "6 & 3\n",
        "\\end{bmatrix}\n",
        "$$\n"
      ]
    },
    {
      "cell_type": "code",
      "execution_count": 24,
      "id": "bad79a8c",
      "metadata": {
        "colab": {
          "base_uri": "https://localhost:8080/"
        },
        "id": "bad79a8c",
        "outputId": "d98194fa-151d-4d7e-e892-4f188ea068f7"
      },
      "outputs": [
        {
          "output_type": "execute_result",
          "data": {
            "text/plain": [
              "array([[1, 7],\n",
              "       [6, 3]])"
            ]
          },
          "metadata": {},
          "execution_count": 24
        }
      ],
      "source": [
        "M[1:3,2:4]"
      ]
    },
    {
      "cell_type": "code",
      "execution_count": 25,
      "id": "4b86566f",
      "metadata": {
        "colab": {
          "base_uri": "https://localhost:8080/"
        },
        "id": "4b86566f",
        "outputId": "552837d5-b2de-4b16-ef08-a7cf29ba3dac"
      },
      "outputs": [
        {
          "output_type": "execute_result",
          "data": {
            "text/plain": [
              "array([[ 1,  2,  3,  4,  5],\n",
              "       [ 6,  7,  8,  9, 10],\n",
              "       [ 5,  1,  9,  2, -4]])"
            ]
          },
          "metadata": {},
          "execution_count": 25
        }
      ],
      "source": [
        "A = np.array([[1, 2, 3, 4, 5], [6, 7, 8, 9, 10],[5, 1, 9, 2, -4]])\n",
        "A"
      ]
    },
    {
      "cell_type": "code",
      "execution_count": 26,
      "id": "cdcfa547",
      "metadata": {
        "colab": {
          "base_uri": "https://localhost:8080/"
        },
        "id": "cdcfa547",
        "outputId": "caf2a8ee-b03f-413f-8402-d0214dbba482"
      },
      "outputs": [
        {
          "output_type": "execute_result",
          "data": {
            "text/plain": [
              "array([[2, 3, 4],\n",
              "       [7, 8, 9]])"
            ]
          },
          "metadata": {},
          "execution_count": 26
        }
      ],
      "source": [
        "A[0:2, 1:4]"
      ]
    },
    {
      "cell_type": "markdown",
      "id": "38c9c37d",
      "metadata": {
        "id": "38c9c37d"
      },
      "source": [
        "### 5. Matrizes especiais"
      ]
    },
    {
      "cell_type": "markdown",
      "id": "800a8f8d",
      "metadata": {
        "id": "800a8f8d"
      },
      "source": [
        "Matrizes especiais estão pré-definidas. Por exemplo"
      ]
    },
    {
      "cell_type": "code",
      "execution_count": 27,
      "id": "a5daca25",
      "metadata": {
        "id": "a5daca25"
      },
      "outputs": [],
      "source": [
        "import numpy as np"
      ]
    },
    {
      "cell_type": "code",
      "execution_count": 28,
      "id": "ad11c620",
      "metadata": {
        "colab": {
          "base_uri": "https://localhost:8080/"
        },
        "id": "ad11c620",
        "outputId": "948669a4-2e1a-4d4e-9fea-7f5f0311bc0e"
      },
      "outputs": [
        {
          "output_type": "execute_result",
          "data": {
            "text/plain": [
              "array([[1., 0., 0., 0.],\n",
              "       [0., 1., 0., 0.],\n",
              "       [0., 0., 1., 0.],\n",
              "       [0., 0., 0., 1.]])"
            ]
          },
          "metadata": {},
          "execution_count": 28
        }
      ],
      "source": [
        "I4=np.eye(4) # matriz identidade\n",
        "I4"
      ]
    },
    {
      "cell_type": "code",
      "execution_count": 29,
      "id": "d72619f8",
      "metadata": {
        "colab": {
          "base_uri": "https://localhost:8080/"
        },
        "id": "d72619f8",
        "outputId": "49df2071-a85e-49e9-c1f6-510ea5a4928a"
      },
      "outputs": [
        {
          "output_type": "execute_result",
          "data": {
            "text/plain": [
              "array([[1., 1., 1.],\n",
              "       [1., 1., 1.],\n",
              "       [1., 1., 1.]])"
            ]
          },
          "metadata": {},
          "execution_count": 29
        }
      ],
      "source": [
        "B3 = np.ones((3,3)) # matriz com 1 em todas as componentes\n",
        "B3"
      ]
    },
    {
      "cell_type": "markdown",
      "id": "6830c355",
      "metadata": {
        "id": "6830c355"
      },
      "source": []
    },
    {
      "cell_type": "code",
      "execution_count": 30,
      "id": "a6ca7fe7",
      "metadata": {
        "colab": {
          "base_uri": "https://localhost:8080/"
        },
        "id": "a6ca7fe7",
        "outputId": "c14689ff-150c-4939-a2e9-cf4784a6c068"
      },
      "outputs": [
        {
          "output_type": "execute_result",
          "data": {
            "text/plain": [
              "array([[0., 0., 0.],\n",
              "       [0., 0., 0.],\n",
              "       [0., 0., 0.]])"
            ]
          },
          "metadata": {},
          "execution_count": 30
        }
      ],
      "source": [
        "Z3 = np.zeros((3,3))\n",
        "Z3"
      ]
    },
    {
      "cell_type": "markdown",
      "id": "ca9cb01d",
      "metadata": {
        "id": "ca9cb01d"
      },
      "source": [
        "Matrizes diagonais podem ser definidas da seguinte forma:"
      ]
    },
    {
      "cell_type": "code",
      "execution_count": 31,
      "id": "e5e3900d",
      "metadata": {
        "colab": {
          "base_uri": "https://localhost:8080/"
        },
        "id": "e5e3900d",
        "outputId": "63db50b0-def6-4232-8f92-6f2e3857a6bb"
      },
      "outputs": [
        {
          "output_type": "execute_result",
          "data": {
            "text/plain": [
              "array([[3, 0, 0, 0, 0],\n",
              "       [0, 2, 0, 0, 0],\n",
              "       [0, 0, 4, 0, 0],\n",
              "       [0, 0, 0, 5, 0],\n",
              "       [0, 0, 0, 0, 1]])"
            ]
          },
          "metadata": {},
          "execution_count": 31
        }
      ],
      "source": [
        "A_diag = np.diag([3,2,4,5,1])\n",
        "A_diag"
      ]
    },
    {
      "cell_type": "markdown",
      "id": "a3bd8d76",
      "metadata": {
        "id": "a3bd8d76"
      },
      "source": [
        "Uma matriz tridiagonal pode ser definida da seguinte forma:"
      ]
    },
    {
      "cell_type": "code",
      "execution_count": 32,
      "id": "b6c07787",
      "metadata": {
        "colab": {
          "base_uri": "https://localhost:8080/"
        },
        "id": "b6c07787",
        "outputId": "5f897dfc-d340-4542-8106-0ce5235b1d69"
      },
      "outputs": [
        {
          "output_type": "execute_result",
          "data": {
            "text/plain": [
              "array([[ 1, 10,  0,  0,  0],\n",
              "       [12,  2,  3,  0,  0],\n",
              "       [ 0,  6,  3,  1,  0],\n",
              "       [ 0,  0,  2,  4,  4],\n",
              "       [ 0,  0,  0,  5,  5]])"
            ]
          },
          "metadata": {},
          "execution_count": 32
        }
      ],
      "source": [
        "# Definir as diagonais\n",
        "diagonal_principal = [1, 2, 3, 4, 5]\n",
        "diagonal_acima = [10, 3, 1, 4]\n",
        "diagonal_abaixo = [12, 6, 2, 5]\n",
        "\n",
        "# Criar as matrizes diagonais\n",
        "matriz_principal = np.diag(diagonal_principal)\n",
        "matriz_acima = np.diag(diagonal_acima, k=1)\n",
        "matriz_abaixo = np.diag(diagonal_abaixo, k=-1)\n",
        "\n",
        "# Formar a matriz tridiagonal somando as diagonais\n",
        "matriz_tridiagonal = matriz_principal + matriz_acima + matriz_abaixo\n",
        "matriz_tridiagonal"
      ]
    },
    {
      "cell_type": "markdown",
      "id": "2aa19ccc",
      "metadata": {
        "id": "2aa19ccc"
      },
      "source": [
        "Podemos definir matrizes com componentes aleatórias com diferentes distribuições:"
      ]
    },
    {
      "cell_type": "code",
      "execution_count": 33,
      "id": "65762408",
      "metadata": {
        "colab": {
          "base_uri": "https://localhost:8080/"
        },
        "id": "65762408",
        "outputId": "5fd1636f-95b7-4b71-fe07-3fe4eecfb7e3"
      },
      "outputs": [
        {
          "output_type": "execute_result",
          "data": {
            "text/plain": [
              "array([[0.15699184, 0.70221004, 0.26147827, 0.45171291],\n",
              "       [0.40806526, 0.61154121, 0.5830806 , 0.21450887],\n",
              "       [0.1887731 , 0.70209797, 0.47081767, 0.48505287]])"
            ]
          },
          "metadata": {},
          "execution_count": 33
        }
      ],
      "source": [
        "# Distribuição uniforme\n",
        "np.random.seed(122)\n",
        "m=3\n",
        "n=4\n",
        "A_uniforme = np.random.rand(m, n)\n",
        "A_uniforme"
      ]
    },
    {
      "cell_type": "code",
      "execution_count": 34,
      "id": "66f992e9",
      "metadata": {
        "colab": {
          "base_uri": "https://localhost:8080/"
        },
        "id": "66f992e9",
        "outputId": "7678d846-6a0a-494a-a6d7-df2abf2a4a24"
      },
      "outputs": [
        {
          "output_type": "execute_result",
          "data": {
            "text/plain": [
              "array([[ 0.48468014, -0.82216117, -0.33674179, -1.66338939],\n",
              "       [ 1.71928769, -1.41707497, -1.38444536,  0.40288662],\n",
              "       [ 0.59476914, -0.91593276, -1.50496569, -2.93824983]])"
            ]
          },
          "metadata": {},
          "execution_count": 34
        }
      ],
      "source": [
        "# Distribuição normal padrão\n",
        "np.random.seed(122)\n",
        "m=3\n",
        "n=4\n",
        "A_normal = np.random.randn(m, n)\n",
        "A_normal"
      ]
    },
    {
      "cell_type": "code",
      "execution_count": 35,
      "id": "5c2df464",
      "metadata": {
        "colab": {
          "base_uri": "https://localhost:8080/"
        },
        "id": "5c2df464",
        "outputId": "fda3a220-7739-425f-a7f3-dd1b3325506e"
      },
      "outputs": [
        {
          "output_type": "execute_result",
          "data": {
            "text/plain": [
              "array([[10.96936028,  8.35567767,  9.32651641,  6.67322122],\n",
              "       [13.43857538,  7.16585006,  7.23110927, 10.80577325],\n",
              "       [11.18953828,  8.16813447,  6.99006863,  4.12350034]])"
            ]
          },
          "metadata": {},
          "execution_count": 35
        }
      ],
      "source": [
        "# Distribuição normal qualquer\n",
        "np.random.seed(122)\n",
        "m=3\n",
        "n=4\n",
        "mean = 10\n",
        "std_dev = 2\n",
        "A_normal2 = np.random.normal(mean, std_dev, size=(m, n))\n",
        "A_normal2"
      ]
    },
    {
      "cell_type": "markdown",
      "id": "96bedd3f",
      "metadata": {
        "id": "96bedd3f"
      },
      "source": [
        "Podemos definir matrizes com componentes aleatórias inteiras:"
      ]
    },
    {
      "cell_type": "code",
      "execution_count": 36,
      "id": "323a2ac5",
      "metadata": {
        "colab": {
          "base_uri": "https://localhost:8080/"
        },
        "id": "323a2ac5",
        "outputId": "cd2d0c15-f814-4b98-d933-c9fd0032d44a"
      },
      "outputs": [
        {
          "output_type": "execute_result",
          "data": {
            "text/plain": [
              "array([[17, 28, 12, 24],\n",
              "       [14, 18, 14, 17],\n",
              "       [29,  4, 17, 24]])"
            ]
          },
          "metadata": {},
          "execution_count": 36
        }
      ],
      "source": [
        "# Inteiros de 2 a 30 (exclusivo)\n",
        "np.random.seed(122)\n",
        "m=3\n",
        "n=4\n",
        "A_int = np.random.randint(2,30, size=(m, n))\n",
        "A_int"
      ]
    },
    {
      "cell_type": "markdown",
      "id": "b11f62c6",
      "metadata": {
        "id": "b11f62c6"
      },
      "source": [
        "### 6. Definindo matrizes por uma lei de formação\n",
        "\n",
        "Podemos definir uma matriz de acordo com uma lei de formação para seus elementos $a_{ij}$. O modo mais imediato, mas não eficiente,  é o seguinte:"
      ]
    },
    {
      "cell_type": "code",
      "execution_count": 37,
      "id": "c6456d76",
      "metadata": {
        "colab": {
          "base_uri": "https://localhost:8080/"
        },
        "id": "c6456d76",
        "outputId": "bb41f520-205c-4336-a4d2-90a596967bbe"
      },
      "outputs": [
        {
          "output_type": "execute_result",
          "data": {
            "text/plain": [
              "array([[0.        , 1.        , 2.        , 3.        ],\n",
              "       [1.        , 1.33333333, 2.2       , 3.14285714],\n",
              "       [2.        , 1.66666667, 2.4       , 3.28571429],\n",
              "       [3.        , 2.        , 2.6       , 3.42857143]])"
            ]
          },
          "metadata": {},
          "execution_count": 37
        }
      ],
      "source": [
        "n = 4\n",
        "# Inicializa a matriz vazia\n",
        "A = np.zeros((n, n), dtype=float)\n",
        "\n",
        "# Define a matriz usando loops\n",
        "for i in range(n):\n",
        "    for j in range(n):\n",
        "        A[i, j] = i/(1+2*j) + j\n",
        "A"
      ]
    },
    {
      "cell_type": "markdown",
      "id": "b4b735dd",
      "metadata": {
        "id": "b4b735dd"
      },
      "source": [
        "Podemos usar o comando `fromfunction` do Numpy:"
      ]
    },
    {
      "cell_type": "code",
      "execution_count": 38,
      "id": "925f982b",
      "metadata": {
        "colab": {
          "base_uri": "https://localhost:8080/"
        },
        "id": "925f982b",
        "outputId": "1e5c1be6-15ca-4cce-c041-1e0f8f57478a"
      },
      "outputs": [
        {
          "output_type": "execute_result",
          "data": {
            "text/plain": [
              "array([[0.        , 1.        , 2.        , 3.        ],\n",
              "       [1.        , 1.33333333, 2.2       , 3.14285714],\n",
              "       [2.        , 1.66666667, 2.4       , 3.28571429],\n",
              "       [3.        , 2.        , 2.6       , 3.42857143]])"
            ]
          },
          "metadata": {},
          "execution_count": 38
        }
      ],
      "source": [
        "n = 4  # tamanho da matriz\n",
        "A = np.fromfunction(lambda i, j: i/(1+2*j) + j, (n, n), dtype=int)\n",
        "A"
      ]
    },
    {
      "cell_type": "markdown",
      "id": "f2469425",
      "metadata": {
        "id": "f2469425"
      },
      "source": [
        "Outro modo de definir uma matriz é a seguinte:"
      ]
    },
    {
      "cell_type": "code",
      "execution_count": 39,
      "id": "37b06304",
      "metadata": {
        "colab": {
          "base_uri": "https://localhost:8080/"
        },
        "id": "37b06304",
        "outputId": "650193e6-16d4-406b-a293-3d2dffa35fb3"
      },
      "outputs": [
        {
          "output_type": "execute_result",
          "data": {
            "text/plain": [
              "array([[0.        , 1.        , 2.        , 3.        ],\n",
              "       [1.        , 1.5       , 2.33333333, 3.25      ],\n",
              "       [2.        , 2.        , 2.66666667, 3.5       ],\n",
              "       [3.        , 2.5       , 3.        , 3.75      ]])"
            ]
          },
          "metadata": {},
          "execution_count": 39
        }
      ],
      "source": [
        "n = 4\n",
        "A = np.array([[i/(j+1) + j for j in range(0,n)] for i in range(0,n)])\n",
        "A"
      ]
    },
    {
      "cell_type": "markdown",
      "id": "157378be",
      "metadata": {
        "id": "157378be"
      },
      "source": [
        "### 7. Operações com matrizes"
      ]
    },
    {
      "cell_type": "markdown",
      "id": "d852ea6a",
      "metadata": {
        "id": "d852ea6a"
      },
      "source": [
        "Seja a matrix  $M$ dada por:  "
      ]
    },
    {
      "cell_type": "code",
      "execution_count": 40,
      "id": "a90567d8",
      "metadata": {
        "colab": {
          "base_uri": "https://localhost:8080/"
        },
        "id": "a90567d8",
        "outputId": "2a550754-c973-408f-ba1e-7e3cfa0c94e8"
      },
      "outputs": [
        {
          "output_type": "stream",
          "name": "stdout",
          "text": [
            "[[-1  3  7  4]\n",
            " [ 2  3  1  7]\n",
            " [ 6  9  1  3]]\n"
          ]
        }
      ],
      "source": [
        "M=np.array([[-1,3,7,4],[2,3,1,7],[6,9,1,3]])\n",
        "print(M)"
      ]
    },
    {
      "cell_type": "markdown",
      "id": "18ef0ed5",
      "metadata": {
        "id": "18ef0ed5"
      },
      "source": [
        "Operações sobre arrays são feitas elemento a elemento. Por exemplo."
      ]
    },
    {
      "cell_type": "code",
      "execution_count": 41,
      "id": "24130a16",
      "metadata": {
        "colab": {
          "base_uri": "https://localhost:8080/"
        },
        "id": "24130a16",
        "outputId": "0fbe9294-c9a9-48bb-a33a-1155e516d300"
      },
      "outputs": [
        {
          "output_type": "execute_result",
          "data": {
            "text/plain": [
              "array([[ 1,  9, 49, 16],\n",
              "       [ 4,  9,  1, 49],\n",
              "       [36, 81,  1,  9]])"
            ]
          },
          "metadata": {},
          "execution_count": 41
        }
      ],
      "source": [
        "M**2 #Eleva cada componente ao quadrado"
      ]
    },
    {
      "cell_type": "code",
      "execution_count": 42,
      "id": "f2190e50",
      "metadata": {
        "colab": {
          "base_uri": "https://localhost:8080/"
        },
        "id": "f2190e50",
        "outputId": "50292ab1-d4f1-4b0d-9587-f1b31949c5a2"
      },
      "outputs": [
        {
          "output_type": "execute_result",
          "data": {
            "text/plain": [
              "array([[-0.84147098,  0.14112001,  0.6569866 , -0.7568025 ],\n",
              "       [ 0.90929743,  0.14112001,  0.84147098,  0.6569866 ],\n",
              "       [-0.2794155 ,  0.41211849,  0.84147098,  0.14112001]])"
            ]
          },
          "metadata": {},
          "execution_count": 42
        }
      ],
      "source": [
        "np.sin(M) #Calcula o seno de cada componente"
      ]
    },
    {
      "cell_type": "markdown",
      "id": "62719a62",
      "metadata": {
        "id": "62719a62"
      },
      "source": [
        "Para elevar a matriz quadrado fazemos"
      ]
    },
    {
      "cell_type": "code",
      "execution_count": null,
      "id": "7a7b5146",
      "metadata": {
        "id": "7a7b5146",
        "outputId": "ac0d05f3-a4f7-4a1b-893c-c2933b04491e"
      },
      "outputs": [
        {
          "data": {
            "text/plain": [
              "array([[ 2,  3,  4],\n",
              "       [-5,  3,  1],\n",
              "       [ 3,  5,  6]])"
            ]
          },
          "execution_count": 17,
          "metadata": {},
          "output_type": "execute_result"
        }
      ],
      "source": [
        "A = np.array([[2,3,4],[-5,3,1],[3,5,6]])\n",
        "A"
      ]
    },
    {
      "cell_type": "code",
      "execution_count": null,
      "id": "26a101df",
      "metadata": {
        "id": "26a101df",
        "outputId": "8a4cc5f6-6495-456b-9dce-07a7902879e5"
      },
      "outputs": [
        {
          "data": {
            "text/plain": [
              "array([[  1,  35,  35],\n",
              "       [-22,  -1, -11],\n",
              "       [ -1,  54,  53]])"
            ]
          },
          "execution_count": 18,
          "metadata": {},
          "output_type": "execute_result"
        }
      ],
      "source": [
        "A@A"
      ]
    },
    {
      "cell_type": "markdown",
      "id": "45765c2b",
      "metadata": {
        "id": "45765c2b"
      },
      "source": [
        "A matriz tranposta de $A$ é dada por"
      ]
    },
    {
      "cell_type": "code",
      "execution_count": null,
      "id": "907fa0fe",
      "metadata": {
        "id": "907fa0fe",
        "outputId": "ad16ad27-b33a-40db-f801-cab3147e2b84"
      },
      "outputs": [
        {
          "data": {
            "text/plain": [
              "array([[ 2, -5,  3],\n",
              "       [ 3,  3,  5],\n",
              "       [ 4,  1,  6]])"
            ]
          },
          "execution_count": 16,
          "metadata": {},
          "output_type": "execute_result"
        }
      ],
      "source": [
        "np.transpose(A)"
      ]
    },
    {
      "cell_type": "markdown",
      "id": "cf1b4bab",
      "metadata": {
        "id": "cf1b4bab"
      },
      "source": [
        "ou"
      ]
    },
    {
      "cell_type": "code",
      "execution_count": null,
      "id": "ffb63f46",
      "metadata": {
        "id": "ffb63f46",
        "outputId": "3586f48b-71c4-4450-df46-9ca10b498e46"
      },
      "outputs": [
        {
          "data": {
            "text/plain": [
              "array([[ 2, -5,  3],\n",
              "       [ 3,  3,  5],\n",
              "       [ 4,  1,  6]])"
            ]
          },
          "execution_count": 22,
          "metadata": {},
          "output_type": "execute_result"
        }
      ],
      "source": [
        "A.T"
      ]
    },
    {
      "cell_type": "markdown",
      "id": "45ffe1bc",
      "metadata": {
        "id": "45ffe1bc"
      },
      "source": [
        "Notemos, como esperado, que $A A^T$ é simétrica:"
      ]
    },
    {
      "cell_type": "code",
      "execution_count": null,
      "id": "8eeb9c0e",
      "metadata": {
        "id": "8eeb9c0e",
        "outputId": "4dcaf04c-885b-4c83-98d0-c33dc264a840"
      },
      "outputs": [
        {
          "data": {
            "text/plain": [
              "array([[29,  3, 45],\n",
              "       [ 3, 35,  6],\n",
              "       [45,  6, 70]])"
            ]
          },
          "execution_count": 23,
          "metadata": {},
          "output_type": "execute_result"
        }
      ],
      "source": [
        "A@A.T"
      ]
    },
    {
      "cell_type": "markdown",
      "id": "d133c752",
      "metadata": {
        "id": "d133c752"
      },
      "source": [
        "Façamos uma multiplicação matricial usual entre uma matriz e um vetor.\n",
        "Consideremos a seguinte matriz $ A $ e o vetor $ \\mathbf{v} $:\n",
        "\n",
        "$$\n",
        "A = \\begin{bmatrix}\n",
        "2 & 3 & -1 \\\\\n",
        "0 & 1 & 4 \\\\\n",
        "-2 & 0 & 5\n",
        "\\end{bmatrix}\n",
        "$$\n",
        "\n",
        "$$\n",
        "\\mathbf{v} = \\begin{bmatrix}\n",
        "1 \\\\\n",
        "-1 \\\\\n",
        "2\n",
        "\\end{bmatrix}\n",
        "$$\n",
        "\n",
        "Queremos calcular o produto $ A\\mathbf{v} $. Isso pode ser feito de dois modos:\n",
        "\n",
        "(i) Definimos uma matriz $1 \\times 3$(note os dois colchetes, que caracteriza o 2-array):"
      ]
    },
    {
      "cell_type": "code",
      "execution_count": null,
      "id": "402ae8c5",
      "metadata": {
        "id": "402ae8c5",
        "outputId": "eedd30c1-ed27-4125-8db3-21ebd22bdba0"
      },
      "outputs": [
        {
          "data": {
            "text/plain": [
              "array([[ 1, -1,  2]])"
            ]
          },
          "execution_count": 25,
          "metadata": {},
          "output_type": "execute_result"
        }
      ],
      "source": [
        "v1 = np.array([[1, -1,2]])\n",
        "v1"
      ]
    },
    {
      "cell_type": "markdown",
      "id": "37817b9e",
      "metadata": {
        "id": "37817b9e"
      },
      "source": [
        "e obtemos sua transposta:"
      ]
    },
    {
      "cell_type": "code",
      "execution_count": null,
      "id": "eb292697",
      "metadata": {
        "id": "eb292697",
        "outputId": "0fff717d-1a68-43b5-c958-881185200abd"
      },
      "outputs": [
        {
          "data": {
            "text/plain": [
              "array([[ 1],\n",
              "       [-1],\n",
              "       [ 2]])"
            ]
          },
          "execution_count": 26,
          "metadata": {},
          "output_type": "execute_result"
        }
      ],
      "source": [
        "v1t = v1.T\n",
        "v1t"
      ]
    },
    {
      "cell_type": "markdown",
      "id": "3cfa5b21",
      "metadata": {
        "id": "3cfa5b21"
      },
      "source": [
        "Podemos agora realiza a multiplicação matricial usual."
      ]
    },
    {
      "cell_type": "code",
      "execution_count": null,
      "id": "9ba88b3b",
      "metadata": {
        "id": "9ba88b3b",
        "outputId": "d35c93f0-fdf9-4890-c914-ffb6d84ab3fd"
      },
      "outputs": [
        {
          "data": {
            "text/plain": [
              "array([[ 7],\n",
              "       [-6],\n",
              "       [10]])"
            ]
          },
          "execution_count": 28,
          "metadata": {},
          "output_type": "execute_result"
        }
      ],
      "source": [
        "A@v1t"
      ]
    },
    {
      "cell_type": "markdown",
      "id": "a0756c86",
      "metadata": {
        "id": "a0756c86"
      },
      "source": [
        "Note acima que"
      ]
    },
    {
      "cell_type": "code",
      "execution_count": null,
      "id": "d249dc9c",
      "metadata": {
        "id": "d249dc9c",
        "outputId": "87d9fc3b-dd0f-4e07-dcd7-3963a81de4aa"
      },
      "outputs": [
        {
          "data": {
            "text/plain": [
              "(1, 3)"
            ]
          },
          "execution_count": 29,
          "metadata": {},
          "output_type": "execute_result"
        }
      ],
      "source": [
        "v1.shape"
      ]
    },
    {
      "cell_type": "markdown",
      "id": "4b4840c2",
      "metadata": {
        "id": "4b4840c2"
      },
      "source": [
        "(ii) Podemos definir $v$ por um 1-array:"
      ]
    },
    {
      "cell_type": "code",
      "execution_count": null,
      "id": "9bad0b3e",
      "metadata": {
        "id": "9bad0b3e"
      },
      "outputs": [],
      "source": [
        "v2 = np.array([1,-1,2])"
      ]
    },
    {
      "cell_type": "markdown",
      "id": "c3e8b43a",
      "metadata": {
        "id": "c3e8b43a"
      },
      "source": [
        "Notemos que"
      ]
    },
    {
      "cell_type": "code",
      "execution_count": null,
      "id": "d32547b6",
      "metadata": {
        "id": "d32547b6",
        "outputId": "d224bedf-2b50-4ff4-d99a-02abad664103"
      },
      "outputs": [
        {
          "data": {
            "text/plain": [
              "(3,)"
            ]
          },
          "execution_count": 31,
          "metadata": {},
          "output_type": "execute_result"
        }
      ],
      "source": [
        "v2.shape"
      ]
    },
    {
      "cell_type": "markdown",
      "id": "fc13b1e9",
      "metadata": {
        "id": "fc13b1e9"
      },
      "source": [
        "A multiplicação matricial pode ser feita do seguinte modo:"
      ]
    },
    {
      "cell_type": "code",
      "execution_count": null,
      "id": "0f0156a2",
      "metadata": {
        "id": "0f0156a2",
        "outputId": "efa62cf2-9cbf-4049-da22-157816515e47"
      },
      "outputs": [
        {
          "data": {
            "text/plain": [
              "array([ 7, -6, 10])"
            ]
          },
          "execution_count": 32,
          "metadata": {},
          "output_type": "execute_result"
        }
      ],
      "source": [
        "np.dot(A,v2)"
      ]
    },
    {
      "cell_type": "markdown",
      "id": "0f6bb22d",
      "metadata": {
        "id": "0f6bb22d"
      },
      "source": [
        "Para calcular a inversa de uma matriz procedemos do seguinte modo:"
      ]
    },
    {
      "cell_type": "code",
      "execution_count": null,
      "id": "2c2a7599",
      "metadata": {
        "id": "2c2a7599",
        "outputId": "2eb382c7-96e8-45b3-ac9e-324d04c61bec"
      },
      "outputs": [
        {
          "data": {
            "text/plain": [
              "array([[ 0.25      ,  0.125     ],\n",
              "       [-0.16666667,  0.08333333]])"
            ]
          },
          "execution_count": 13,
          "metadata": {},
          "output_type": "execute_result"
        }
      ],
      "source": [
        "A = np.array([[2,-3],[4,6]])\n",
        "np.linalg.inv(A)"
      ]
    },
    {
      "cell_type": "markdown",
      "id": "01f331a6",
      "metadata": {
        "id": "01f331a6"
      },
      "source": [
        "Se"
      ]
    },
    {
      "cell_type": "code",
      "execution_count": null,
      "id": "54dba1eb",
      "metadata": {
        "id": "54dba1eb",
        "outputId": "f47de49c-4b6a-4417-fee2-8ce2dd03bed1"
      },
      "outputs": [
        {
          "data": {
            "text/plain": [
              "array([[13, -8,  6,  4],\n",
              "       [ 3,  1,  6,  5],\n",
              "       [ 1,  0,  3,  2],\n",
              "       [ 1,  3,  8, -2]])"
            ]
          },
          "execution_count": 92,
          "metadata": {},
          "output_type": "execute_result"
        }
      ],
      "source": [
        "M = np.array([[13,-8,6,4],[3,1,6,5],[1,0,3,2],[1,3,8,-2]])\n",
        "M"
      ]
    },
    {
      "cell_type": "markdown",
      "id": "7da75224",
      "metadata": {
        "id": "7da75224"
      },
      "source": [
        "O traço da matriz $M$ (soma dos elementos da diagonal) é dado por"
      ]
    },
    {
      "cell_type": "code",
      "execution_count": null,
      "id": "0478ee32",
      "metadata": {
        "id": "0478ee32",
        "outputId": "028a6b57-4098-4b2c-eb59-1b850b35ef7b"
      },
      "outputs": [
        {
          "data": {
            "text/plain": [
              "15"
            ]
          },
          "execution_count": 93,
          "metadata": {},
          "output_type": "execute_result"
        }
      ],
      "source": [
        "np.trace(M)"
      ]
    },
    {
      "cell_type": "markdown",
      "id": "db770637",
      "metadata": {
        "id": "db770637"
      },
      "source": [
        "O determinante é dado por:"
      ]
    },
    {
      "cell_type": "code",
      "execution_count": null,
      "id": "6db16bbb",
      "metadata": {
        "id": "6db16bbb",
        "outputId": "40b09559-c070-4ebb-ef05-fda0b754a34e"
      },
      "outputs": [
        {
          "data": {
            "text/plain": [
              "-476.9999999999997"
            ]
          },
          "execution_count": 94,
          "metadata": {},
          "output_type": "execute_result"
        }
      ],
      "source": [
        "np.linalg.det(M)"
      ]
    },
    {
      "cell_type": "markdown",
      "id": "a88dadd7",
      "metadata": {
        "id": "a88dadd7"
      },
      "source": [
        "Suponhamos que $A$ é uma matrix de componentes complexas:"
      ]
    },
    {
      "cell_type": "code",
      "execution_count": null,
      "id": "54e14040",
      "metadata": {
        "id": "54e14040"
      },
      "outputs": [],
      "source": [
        "A = np.array([\n",
        "    [1+2j, 2-1j, 3+0j],\n",
        "    [4+1j, 5+3j, 6-2j],\n",
        "    [7-1j, 8+2j, 9+1j]\n",
        "])"
      ]
    },
    {
      "cell_type": "markdown",
      "id": "e79c6f36",
      "metadata": {
        "id": "e79c6f36"
      },
      "source": [
        "A matrix transposta  conjugada(ou hermitiana conjugada) de $A$, denominada $A^{\\dagger}$ é dada por"
      ]
    },
    {
      "cell_type": "code",
      "execution_count": null,
      "id": "ac72db5f",
      "metadata": {
        "id": "ac72db5f"
      },
      "outputs": [],
      "source": [
        "AH = np.conjugate(A.T)"
      ]
    },
    {
      "cell_type": "markdown",
      "id": "48fff818",
      "metadata": {
        "id": "48fff818"
      },
      "source": [
        "Notemos que"
      ]
    },
    {
      "cell_type": "code",
      "execution_count": null,
      "id": "62587230",
      "metadata": {
        "id": "62587230",
        "outputId": "eca1e41b-7580-4b85-ca72-2a8d82a91130"
      },
      "outputs": [
        {
          "data": {
            "text/plain": [
              "array([[ 19.+0.j,  31.+2.j,  46.+0.j],\n",
              "       [ 31.-2.j,  91.+0.j, 125.+1.j],\n",
              "       [ 46.+0.j, 125.-1.j, 200.+0.j]])"
            ]
          },
          "execution_count": 11,
          "metadata": {},
          "output_type": "execute_result"
        }
      ],
      "source": [
        "A@AH"
      ]
    },
    {
      "cell_type": "markdown",
      "id": "289bb8d4",
      "metadata": {
        "id": "289bb8d4"
      },
      "source": [
        " Se a $A^{\\dagger}=A$, a matriz é dita hermitiana. Se $A^{\\dagger}A=AA^{\\dagger}=I$, ou $A^{\\dagger}=A^{-1}$, a matriz é dita unitária. Nesse caso, a matriz hermiana conjugada é igual à sua inversa. Tais matrizes são fundamentais em mecânica quântica, pois matrizes hermitianas têm autovalores reais (observáveis físicos) e uma matriz unitária preserva a norma $\\mathbf{v}^{\\dagger}\\mathbf{v}$ de um vetor $\\mathbf{v}$:\n",
        "\n",
        "$$\n",
        "(U\\mathbf{v})^{\\dagger}U\\mathbf{v} = \\mathbf{v}^{\\dagger}U^{\\dagger}U\\mathbf{v} = \\mathbf{v}^{\\dagger}\\mathbf{v}\\,.\n",
        "$$\n"
      ]
    },
    {
      "cell_type": "markdown",
      "id": "f9ec8db8",
      "metadata": {
        "id": "f9ec8db8"
      },
      "source": [
        "### 8. Normas matriciais"
      ]
    },
    {
      "cell_type": "markdown",
      "id": "2d745801",
      "metadata": {
        "id": "2d745801"
      },
      "source": [
        "Normas matriciais são funções que atribuem um número real não negativo a uma matriz, quantificando o \"tamanho\" ou \"magnitude\" da matriz de uma maneira específica. Assim como as normas vetoriais medem o comprimento ou a magnitude de um vetor, as normas matriciais são usadas para medir determinados tipos de magnitude de uma matriz.\n",
        "\n",
        "As normas matriciais são amplamente utilizadas em álgebra linear, análise numérica e outras áreas matemáticas para analisar a estabilidade, sensibilidade e comportamento de operações envolvendo matrizes.\n",
        "\n",
        "Uma função $ \\|\\cdot\\|: \\mathbb{R}^{m \\times n} \\rightarrow \\mathbb{R} $ é considerada uma norma matricial se satisfizer as seguintes condições:\n",
        "\n",
        "1. Subaditividade (Desigualdade Triangular):\n",
        "   $$\n",
        "   \\|A + B\\| \\leq \\|A\\| + \\|B\\| \\quad \\text{para todas as matrizes } A \\text{ e } B \\text{ de mesma dimensão}.\n",
        "   $$\n",
        "\n",
        "\n",
        "2. Multiplicação Escalar:\n",
        "   $$\n",
        "   \\|\\alpha A\\| = |\\alpha| \\cdot \\|A\\| \\quad \\text{para todo escalar } \\alpha \\text{ e matriz } A.\n",
        "   $$\n",
        "\n",
        "\n",
        "3. Não-Negatividade e Definitividade:\n",
        "  $$\n",
        "   \\|A\\| \\geq 0 \\quad \\text{e} \\quad \\|A\\| = 0 \\text{ se e somente se } A = 0.\n",
        "   $$\n",
        "   \n",
        "   \n",
        "4. Compatibilidade com a Multiplicação Matricial:\n",
        "   $$\n",
        "   \\|AB\\| \\leq \\|A\\| \\cdot \\|B\\| \\quad \\text{para todas as matrizes } A \\text{ e } B \\text{ onde o produto } AB \\text{ é definido}.\n",
        "   $$\n",
        "\n"
      ]
    },
    {
      "cell_type": "markdown",
      "id": "d0d2c223",
      "metadata": {
        "id": "d0d2c223"
      },
      "source": [
        "Examinemos os principais tipos de normas matriciais:\n",
        "\n",
        "- Norma 1 (Norma da Coluna Máxima, $ p = 1 $):\n",
        "  $$\n",
        "  \\|A\\|_1 = \\max_{1 \\leq j \\leq n} \\sum_{i=1}^{m} |a_{ij}|\n",
        "  $$\n",
        "  A norma 1 mede a maior soma absoluta das colunas da matriz.\n",
        "  \n",
        "  Em Python,"
      ]
    },
    {
      "cell_type": "code",
      "execution_count": null,
      "id": "ab1903a0",
      "metadata": {
        "id": "ab1903a0",
        "outputId": "4fd2d25f-b04d-4204-e9e9-0bf5001702f2"
      },
      "outputs": [
        {
          "data": {
            "text/plain": [
              "18.0"
            ]
          },
          "execution_count": 29,
          "metadata": {},
          "output_type": "execute_result"
        }
      ],
      "source": [
        "import numpy as np\n",
        "A = np.array([\n",
        "    [1, 2, 3],\n",
        "    [4, 5, 6],\n",
        "    [7, 8, 9]\n",
        "])\n",
        "# Norma 1\n",
        "norm1 = np.linalg.norm(A, 1)\n",
        "norm1"
      ]
    },
    {
      "cell_type": "markdown",
      "id": "9e7a7a2d",
      "metadata": {
        "id": "9e7a7a2d"
      },
      "source": [
        "- Norma 2 (Norma Espectral, $ p = 2 $):\n",
        "  $$\n",
        "  \\|A\\|_2 = \\sqrt{\\lambda_{\\text{max}}}\\,,\n",
        "  $$\n",
        "  sendo  $ \\lambda_{\\text{max}}$ maior autovalor de $ A^{\\dagger}A $. Aqui $A^{\\dagger}$ é a matriz hermitiana conjugada de $A$. Se $A$ for real, $A^{\\dagger}=A^T$ Em Python,"
      ]
    },
    {
      "cell_type": "code",
      "execution_count": null,
      "id": "e5986227",
      "metadata": {
        "id": "e5986227",
        "outputId": "af461a6c-d0d1-4443-bd71-044c51607f2b"
      },
      "outputs": [
        {
          "data": {
            "text/plain": [
              "16.84810335261421"
            ]
          },
          "execution_count": 30,
          "metadata": {},
          "output_type": "execute_result"
        }
      ],
      "source": [
        "norm2 = np.linalg.norm(A, 2)\n",
        "norm2"
      ]
    },
    {
      "cell_type": "markdown",
      "id": "c1336501",
      "metadata": {
        "id": "c1336501"
      },
      "source": [
        "- Norma Infinito (Norma da Linha Máxima, $ p = \\infty $):\n",
        "  $$\n",
        "  \\|A\\|_\\infty = \\max_{1 \\leq i \\leq m} \\sum_{j=1}^{n} |a_{ij}|\n",
        "  $$\n",
        "  \n",
        "  A norma infinito mede a maior soma absoluta das linhas da matriz. Em Python,"
      ]
    },
    {
      "cell_type": "code",
      "execution_count": null,
      "id": "cb4b5b13",
      "metadata": {
        "id": "cb4b5b13",
        "outputId": "a75e82a7-c3e0-4c93-ccf1-e682d5494baa"
      },
      "outputs": [
        {
          "data": {
            "text/plain": [
              "24.0"
            ]
          },
          "execution_count": 31,
          "metadata": {},
          "output_type": "execute_result"
        }
      ],
      "source": [
        "norm_inf = np.linalg.norm(A, np.inf)\n",
        "norm_inf"
      ]
    },
    {
      "cell_type": "markdown",
      "id": "6adaf6ac",
      "metadata": {
        "id": "6adaf6ac"
      },
      "source": [
        "- Norma de Frobenius:\n",
        "\n",
        "$$\n",
        "\\|A\\|_F = \\sqrt{\\sum_{i=1}^{m} \\sum_{j=1}^{n} |a_{ij}|^2}\n",
        "$$\n",
        "\n",
        "Esta norma é equivalente à norma 2 para o vetor de elementos da matriz, sendo a raiz quadrada da soma dos quadrados de todos os elementos da matriz. Em Python,"
      ]
    },
    {
      "cell_type": "code",
      "execution_count": null,
      "id": "7feae84e",
      "metadata": {
        "id": "7feae84e",
        "outputId": "b0115521-f6c7-4f1a-c0e7-b4cdb392b714"
      },
      "outputs": [
        {
          "data": {
            "text/plain": [
              "16.881943016134134"
            ]
          },
          "execution_count": 32,
          "metadata": {},
          "output_type": "execute_result"
        }
      ],
      "source": [
        "norm_fro = np.linalg.norm(A, 'fro')\n",
        "norm_fro"
      ]
    },
    {
      "cell_type": "markdown",
      "id": "4b5e611b",
      "metadata": {
        "id": "4b5e611b"
      },
      "source": [
        "Normas matriciais podem ser usadas para estabelecer critérios de parada em algoritmos numéricos, análise de estabilidade de equações diferenciais, etc. Uma aplicação que exemplificaremos aqui é o cálculo do número de condionamento de uma matriz."
      ]
    },
    {
      "cell_type": "markdown",
      "id": "e8d216cc",
      "metadata": {
        "id": "e8d216cc"
      },
      "source": [
        "### 9. Número de condicionamento de uma matriz\n",
        "\n",
        "O número de condicionamento de uma matriz $ A $ é definido como:\n",
        "\n",
        "$$\n",
        "\\kappa(A) = \\|A\\| \\cdot \\|A^{-1}\\|\\,,\n",
        "$$\n",
        "\n",
        "sendo $ \\|A\\| $ a norma da matriz $ A$, e $ \\|A^{-1}\\| $ é a norma de sua inversa.  \n",
        "\n",
        "Esta é uma medida que indica a sensibilidade da solução de um sistema linear em relação a mudanças nos dados de entrada. Um número de condicionamento elevado sugere que a matriz pode causar problemas numéricos, como soluções instáveis ou imprecisas.\n",
        "\n",
        "O número de condicionamento frequentemente utiliza a norma 2 (norma espectral), que está relacionada aos autovalores da matriz. Este é o default em Python:"
      ]
    },
    {
      "cell_type": "code",
      "execution_count": null,
      "id": "95e535bd",
      "metadata": {
        "id": "95e535bd",
        "outputId": "7123898e-b528-43b0-b204-dab242bbdabd"
      },
      "outputs": [
        {
          "data": {
            "text/plain": [
              "2.5141162817681"
            ]
          },
          "execution_count": 39,
          "metadata": {},
          "output_type": "execute_result"
        }
      ],
      "source": [
        "import numpy as np\n",
        "A = np.array([\n",
        "    [2, 3, -1],\n",
        "    [4, 1, 2],\n",
        "    [-2, 5, 2]\n",
        "])\n",
        "# Norma 2\n",
        "cond_num = np.linalg.cond(A)\n",
        "cond_num"
      ]
    },
    {
      "cell_type": "markdown",
      "id": "33b32dd6",
      "metadata": {
        "id": "33b32dd6"
      },
      "source": [
        "Usando outras normas:"
      ]
    },
    {
      "cell_type": "code",
      "execution_count": null,
      "id": "291334c3",
      "metadata": {
        "id": "291334c3",
        "outputId": "b33fe4e8-1b77-4ddc-a892-3403081fb93d"
      },
      "outputs": [
        {
          "data": {
            "text/plain": [
              "5.108108108108108"
            ]
          },
          "execution_count": 35,
          "metadata": {},
          "output_type": "execute_result"
        }
      ],
      "source": [
        "# Norma 1\n",
        "cond_num1 = np.linalg.cond(A, p=1)\n",
        "cond_num1"
      ]
    },
    {
      "cell_type": "code",
      "execution_count": null,
      "id": "15c347bd",
      "metadata": {
        "id": "15c347bd",
        "outputId": "ecdd1574-4cb2-46cc-a1f6-92051ecb7be6"
      },
      "outputs": [
        {
          "data": {
            "text/plain": [
              "5.837837837837839"
            ]
          },
          "execution_count": 36,
          "metadata": {},
          "output_type": "execute_result"
        }
      ],
      "source": [
        "# Norma infinito\n",
        "cond_num_inf = np.linalg.cond(A, p=np.inf)\n",
        "cond_num_inf"
      ]
    },
    {
      "cell_type": "code",
      "execution_count": null,
      "id": "083e06df",
      "metadata": {
        "id": "083e06df",
        "outputId": "7682ff7e-2eef-45b7-be7e-93b6ff31a004"
      },
      "outputs": [
        {
          "data": {
            "text/plain": [
              "3.996163243915766"
            ]
          },
          "execution_count": 38,
          "metadata": {},
          "output_type": "execute_result"
        }
      ],
      "source": [
        "# Norma Frobenius\n",
        "cond_num_fro = np.linalg.cond(A, p='fro')\n",
        "cond_num_fro"
      ]
    },
    {
      "cell_type": "markdown",
      "id": "9bc4ff24",
      "metadata": {
        "id": "9bc4ff24"
      },
      "source": [
        "### 10. Autovalores e autovetores de uma matriz"
      ]
    },
    {
      "cell_type": "markdown",
      "id": "4d4b716c",
      "metadata": {
        "id": "4d4b716c"
      },
      "source": [
        "Consideremos o problema de determinar os autovalores e autovetores da seguinte matriz\n",
        "\n",
        "$$\n",
        "A = \\begin{bmatrix}\n",
        "2 & -1 & 0 \\\\\n",
        "1 & 3 & -1 \\\\\n",
        "0 & 2 & 1 \\\\\n",
        "\\end{bmatrix}\n",
        "$$\n",
        "\n",
        "Os autovalores $ \\lambda $ são determinados pela equação característica:\n",
        "\n",
        "$$\n",
        "\\det(A - \\lambda I) = 0\n",
        "$$\n",
        "\n",
        "ou seja,\n",
        "\n",
        "$$\n",
        "\\det(A - \\lambda I) = \\left| \\begin{array}{ccc}\n",
        "2 - \\lambda & -1 & 0 \\\\\n",
        "1 & 3 - \\lambda & -1 \\\\\n",
        "0 & 2 & 1 - \\lambda \\\\\n",
        "\\end{array} \\right|=\\lambda^3 - 6\\lambda^2 + 14\\lambda - 11 = 0\\,.\n",
        "$$\n",
        "\n",
        "Utilizaremos o Python para encontrar as raízes da equação:"
      ]
    },
    {
      "cell_type": "code",
      "execution_count": null,
      "id": "2131162a",
      "metadata": {
        "id": "2131162a"
      },
      "outputs": [],
      "source": [
        "import numpy as np"
      ]
    },
    {
      "cell_type": "code",
      "execution_count": null,
      "id": "2d5b5ff8",
      "metadata": {
        "id": "2d5b5ff8",
        "outputId": "505dafba-98e8-41c4-9780-12cfed64bd2f"
      },
      "outputs": [
        {
          "name": "stdout",
          "output_type": "stream",
          "text": [
            "Autovalores:\n",
            "[2.22669883+1.46771151j 2.22669883-1.46771151j 1.54660235+0.j        ]\n"
          ]
        }
      ],
      "source": [
        "# Coeficientes do polinômio característico\n",
        "coeficientes = [1, -6, 14, -11]\n",
        "\n",
        "# Encontrar as raízes da equação cúbica\n",
        "autovalores = np.roots(coeficientes)\n",
        "print(\"Autovalores:\")\n",
        "print(autovalores)"
      ]
    },
    {
      "cell_type": "markdown",
      "id": "7841ed59",
      "metadata": {
        "id": "7841ed59"
      },
      "source": [
        "Podemos utilizar o Python para calcular os autovalores e autovetores diretamente:"
      ]
    },
    {
      "cell_type": "code",
      "execution_count": null,
      "id": "9a0b7b5f",
      "metadata": {
        "id": "9a0b7b5f"
      },
      "outputs": [],
      "source": [
        "A = np.array([[2, -1, 0],\n",
        "              [1, 3, -1],\n",
        "              [0, 2, 1]])\n",
        "\n",
        "autovalores, autovetores = np.linalg.eig(A)"
      ]
    },
    {
      "cell_type": "code",
      "execution_count": null,
      "id": "a13bad00",
      "metadata": {
        "id": "a13bad00",
        "outputId": "9d98a73d-cf47-4e75-f262-eed371d1eb99"
      },
      "outputs": [
        {
          "data": {
            "text/plain": [
              "array([2.22669883+1.46771151j, 2.22669883-1.46771151j,\n",
              "       1.54660235+0.j        ])"
            ]
          },
          "execution_count": 8,
          "metadata": {},
          "output_type": "execute_result"
        }
      ],
      "source": [
        "autovalores"
      ]
    },
    {
      "cell_type": "code",
      "execution_count": null,
      "id": "1fc90e12",
      "metadata": {
        "id": "1fc90e12",
        "outputId": "600da9e3-8d28-4b39-a40a-2f7ffe1997e4"
      },
      "outputs": [
        {
          "data": {
            "text/plain": [
              "array([[ 0.36126918-0.21800183j,  0.36126918+0.21800183j,\n",
              "        -0.50266229+0.j        ],\n",
              "       [-0.4018631 -0.48081818j, -0.4018631 +0.48081818j,\n",
              "        -0.2279059 +0.j        ],\n",
              "       [-0.6551944 +0.j        , -0.6551944 -0.j        ,\n",
              "        -0.83390019+0.j        ]])"
            ]
          },
          "execution_count": 9,
          "metadata": {},
          "output_type": "execute_result"
        }
      ],
      "source": [
        "autovetores"
      ]
    },
    {
      "cell_type": "markdown",
      "id": "f0438a67",
      "metadata": {
        "id": "f0438a67"
      },
      "source": [
        "Verifiquemos os resultados. Por exemplo, examinemos se para o primeiro autovalor $\\lambda_1 $ e autovetor $\\mathbf{v}_1$ acima temos $A\\mathbf{v}_1=\\lambda_1 \\mathbf{v}_1$:"
      ]
    },
    {
      "cell_type": "code",
      "execution_count": null,
      "id": "3130717e",
      "metadata": {
        "id": "3130717e"
      },
      "outputs": [],
      "source": [
        "# Selecionar o primeiro autovalor e autovetor\n",
        "lambda_1 = autovalores[0]\n",
        "v_1 = autovetores[:, 0]"
      ]
    },
    {
      "cell_type": "code",
      "execution_count": null,
      "id": "d456e57d",
      "metadata": {
        "id": "d456e57d",
        "outputId": "d6fe4cee-9e7d-4cb8-cfda-c9c63f1d7624"
      },
      "outputs": [
        {
          "data": {
            "text/plain": [
              "array([ 6.66133815e-16+9.99200722e-16j, -9.99200722e-16+0.00000000e+00j,\n",
              "       -2.22044605e-16-7.77156117e-16j])"
            ]
          },
          "execution_count": 12,
          "metadata": {},
          "output_type": "execute_result"
        }
      ],
      "source": [
        "# Calcular A @ v_1\n",
        "A @ v_1-lambda_1 * v_1"
      ]
    },
    {
      "cell_type": "markdown",
      "id": "7117d530",
      "metadata": {
        "id": "7117d530"
      },
      "source": [
        "Equivalentemente tal verificação poderia ser feita do seguinte modo:"
      ]
    },
    {
      "cell_type": "code",
      "execution_count": null,
      "id": "06d05416",
      "metadata": {
        "id": "06d05416",
        "outputId": "725c0e22-e0a8-49a3-8041-1afb0083867f"
      },
      "outputs": [
        {
          "data": {
            "text/plain": [
              "True"
            ]
          },
          "execution_count": 16,
          "metadata": {},
          "output_type": "execute_result"
        }
      ],
      "source": [
        "np.allclose(A @ v_1,lambda_1 * v_1)"
      ]
    },
    {
      "cell_type": "markdown",
      "id": "9147b52f",
      "metadata": {
        "id": "9147b52f"
      },
      "source": [
        "### 11. Sistemas Lineares\n",
        "\n",
        "Definiremos funções em Python que realizam as operações elementares sobre linhas de uma matriz que serão úteis para resolver sistemas de equações lineares ou simplesmente, sistemas lineares.  Um [sistema linear](https://pt.wikipedia.org/wiki/Sistema_de_equações_lineares) é um conjunto de equações lineares acopladas entre por meio de variáveis $x_1,\\ldots, x_n$, da forma:\n",
        "\n",
        "$$\n",
        "\\left\\{\n",
        "\\begin{aligned}\n",
        "a_{11}x_1 + a_{12}x_2 + \\cdots + a_{1n}x_n & = b_1 \\\\\n",
        "a_{10}x_1 + a_{22}x_2 + \\cdots + a_{2n}x_n & = b_2 \\\\\n",
        "& \\vdots \\\\\n",
        "a_{m1}x_1 + a_{m1}x_2 + \\cdots + a_{mn}x_n & = b_m \\\\\n",
        "\\end{aligned}\n",
        "\\right.\n",
        "$$\n",
        "\n",
        "Em notação matricial o sistema linear de $n$ equações  e $n$ incógnitas é representado na forma\n",
        " $A X= B$, sendo\n",
        "\n",
        "$$\n",
        "A = \\begin{bmatrix}\n",
        "a_{11} & a_{12} & \\cdots & a_{1n} \\\\\n",
        "a_{21} & a_{22} & \\cdots & a_{2n} \\\\\n",
        "\\vdots & & & \\vdots \\\\\\\n",
        "a_{n 1} & a_{n 2} & \\cdots & a_{n n} \\\\\n",
        "\\end{bmatrix}\n",
        " \\ \\ , \\ \\\n",
        "X = \\begin{bmatrix}\n",
        "x_1 \\\\\\ x_2 \\\\ \\vdots \\\\ x_n\n",
        "\\end{bmatrix}\n",
        " \\ \\ , \\ \\\n",
        "b= \\begin{bmatrix}\n",
        "b_1 \\\\\\ b_2 \\\\\\ \\vdots \\\\ b_n\n",
        "\\end{bmatrix}\n",
        "$$"
      ]
    },
    {
      "cell_type": "markdown",
      "id": "d6a89fdb",
      "metadata": {
        "id": "d6a89fdb"
      },
      "source": [
        "**Exemplo.** Consideremos o seguinte sistema de equações lineares:\n",
        "\n",
        "$$\n",
        "\\begin{cases}\n",
        "2x + 3y - z = 5 \\\\\n",
        "4x + y + 2z = 6 \\\\\n",
        "-2x + 5y + 2z = -1\\,.\n",
        "\\end{cases}\n",
        "$$\n",
        "\n",
        "Nosso objetivo é encontrar os valores de $ x $, $ y $ e $ z $ que satisfaçam simultaneamente todas as três equações.\n",
        "\n",
        "Utilizaremos a biblioteca NumPy do Python para resolver o sistema.  Na forma matricial reescrevemos o sistema como:\n",
        "\n",
        "$$\n",
        "\\begin{bmatrix}\n",
        "2 & 3 & -1 \\\\\n",
        "4 & 1 & 2 \\\\\n",
        "-2 & 5 & 2\n",
        "\\end{bmatrix}\n",
        "\\begin{bmatrix}\n",
        "x \\\\ y \\\\ z\n",
        "\\end{bmatrix}\n",
        "=\n",
        "\\begin{bmatrix}\n",
        "5 \\\\ 6 \\\\ -1\n",
        "\\end{bmatrix}\\,,\n",
        "$$\n",
        "\n",
        "com:\n",
        "\n",
        "$$\n",
        "A = \\begin{bmatrix} 2 & 3 & -1 \\\\ 4 & 1 & 2 \\\\ -2 & 5 & 2 \\end{bmatrix}, \\quad\n",
        "X = \\begin{bmatrix} x \\\\ y \\\\ z \\end{bmatrix}, \\quad\n",
        "b = \\begin{bmatrix} 5 \\\\ 6 \\\\ -1 \\end{bmatrix}\\,.\n",
        "$$\n",
        "\n",
        "Resolvamos este problema em Python,  usando comandos do Numpy:"
      ]
    },
    {
      "cell_type": "code",
      "execution_count": null,
      "id": "c596604a",
      "metadata": {
        "id": "c596604a"
      },
      "outputs": [],
      "source": [
        "import numpy as np"
      ]
    },
    {
      "cell_type": "code",
      "execution_count": null,
      "id": "27bf0fa0",
      "metadata": {
        "id": "27bf0fa0"
      },
      "outputs": [],
      "source": [
        "# Dados\n",
        "A = np.array([\n",
        "    [2, 3, -1],\n",
        "    [4, 1, 2],\n",
        "    [-2, 5, 2]\n",
        "])\n",
        "b = np.array([5, 6, -1])"
      ]
    },
    {
      "cell_type": "code",
      "execution_count": null,
      "id": "c273b3e2",
      "metadata": {
        "id": "c273b3e2",
        "outputId": "9ddb7f18-34c2-4598-ff58-670822447bfa"
      },
      "outputs": [
        {
          "data": {
            "text/plain": [
              "array([ 1.52702703,  0.54054054, -0.32432432])"
            ]
          },
          "execution_count": 5,
          "metadata": {},
          "output_type": "execute_result"
        }
      ],
      "source": [
        "X = np.linalg.solve(A, b)\n",
        "X"
      ]
    },
    {
      "cell_type": "markdown",
      "id": "d767ad86",
      "metadata": {
        "id": "d767ad86"
      },
      "source": [
        "Podemos verificar o resultado:"
      ]
    },
    {
      "cell_type": "code",
      "execution_count": null,
      "id": "bee4e209",
      "metadata": {
        "id": "bee4e209",
        "outputId": "cdacfa61-0eba-44ba-8345-5dbba4315581"
      },
      "outputs": [
        {
          "data": {
            "text/plain": [
              "array([ 0.0000000e+00,  0.0000000e+00, -4.4408921e-16])"
            ]
          },
          "execution_count": 6,
          "metadata": {},
          "output_type": "execute_result"
        }
      ],
      "source": [
        "np.dot(A, X)-b"
      ]
    },
    {
      "cell_type": "markdown",
      "id": "7f73892b",
      "metadata": {
        "id": "7f73892b"
      },
      "source": [
        "### 12. Exercícios"
      ]
    },
    {
      "cell_type": "markdown",
      "id": "1dff6da7",
      "metadata": {
        "id": "1dff6da7"
      },
      "source": [
        "**1.** Dados os vetores\n",
        "\n",
        "$$\n",
        "\\mathbf{v}_1=(4,5,3)\\,,\\quad \\mathbf{v}_2=(5,2,6)\\,,\n",
        "$$\n",
        "\n",
        "(i) Determine o ângulo entre os dois vetores.\n",
        "\n",
        "(ii) Determine o vetor projeção de $\\mathbf{v}_1$ na direção de $\\mathbf{v}_2$."
      ]
    },
    {
      "cell_type": "markdown",
      "id": "457e42a0",
      "metadata": {
        "id": "457e42a0"
      },
      "source": [
        "**2.** Determine a área do triângulo de vértices $(3,4,2)$, $(-2,1,9)$ e $(-4,2,-1)$."
      ]
    },
    {
      "cell_type": "markdown",
      "id": "2093ca78",
      "metadata": {
        "id": "2093ca78"
      },
      "source": [
        "**3.** Dados os vetores\n",
        "\n",
        "$$\n",
        "\\mathbf{v}_1=(2,5,1)\\,,\\qquad \\mathbf{v}_2=(-1,2,-3)\\,,\\quad \\mathbf{v}_3=(-4,1,-7)\\,,\n",
        "$$\n",
        "\n",
        "determine o volume do paralelepípedo definido por esses vetores."
      ]
    },
    {
      "cell_type": "markdown",
      "id": "22d8fd46",
      "metadata": {
        "id": "22d8fd46"
      },
      "source": [
        "**4.** Verifique  que a norma de Frobenius da matriz\n",
        "\n",
        "$$\n",
        "M=\\begin{bmatrix}\n",
        "-3 & 7 & 3 \\\\\n",
        "2 & -5 & 4 \\\\\n",
        "1 & 9 & -1\n",
        "\\end{bmatrix}\n",
        "$$\n",
        "\n",
        "pode também ser dada por\n",
        "\n",
        "$$\n",
        "||\\mathbf{M}||_F=\\sqrt{\\left(\\mbox{Tr}(M M^T\\right)}\\,.\n",
        "$$"
      ]
    },
    {
      "cell_type": "markdown",
      "id": "67343c2a",
      "metadata": {
        "id": "67343c2a"
      },
      "source": [
        "**5.** Sejam as matrizes\n",
        "$$ A =\n",
        "\\begin{bmatrix}\n",
        "1 & -2 & 3 \\\\\n",
        "4 & 5 & 6 \\\\\n",
        "7 & 8 & 9\n",
        "\\end{bmatrix}\\,,\\qquad\n",
        "B =\n",
        "\\begin{bmatrix}\n",
        "9 & 4 & 6 \\\\\n",
        "6 & 3 & 2 \\\\\n",
        "1 & 2 & 3\n",
        "\\end{bmatrix}\\,.\n",
        "$$\n",
        "\n",
        "(i) Determine $C=A^3-AB -4I$, sendo $I$ a matriz identidade $3 \\times 3$.\n",
        "\n",
        "(ii) Use a equação  $det(C-I\\lambda)=0$ para encontrar os autovalores de $C$."
      ]
    },
    {
      "cell_type": "markdown",
      "id": "b243c3c6",
      "metadata": {
        "id": "b243c3c6"
      },
      "source": [
        "**6.** Seja o sistema linear\n",
        "\n",
        "$$\n",
        "\\begin{bmatrix}\n",
        "-1 & -2 & 3 \\\\\n",
        "4 & 5 & 6 \\\\\n",
        "7 & 8 & 9\n",
        "\\end{bmatrix}\n",
        "\\begin{bmatrix}\n",
        "x  \\\\\n",
        "y  \\\\\n",
        "z\n",
        "\\end{bmatrix}\n",
        "=\n",
        "\\begin{bmatrix}\n",
        "1  \\\\\n",
        "4  \\\\\n",
        "3\\,.\n",
        "\\end{bmatrix}\n",
        "$$\n",
        "\n",
        "Resolva o sistema calculando explicitamente  a expressão:\n",
        "\n",
        "$$\n",
        "\\begin{bmatrix}\n",
        "x  \\\\\n",
        "y  \\\\\n",
        "z\n",
        "\\end{bmatrix}= \\begin{bmatrix}\n",
        "-1 & -2 & 3 \\\\\n",
        "4 & 5 & 6 \\\\\n",
        "7 & 8 & 9\n",
        "\\end{bmatrix}^{-1}\\begin{bmatrix}\n",
        "1  \\\\\n",
        "4  \\\\\n",
        "3\\,.\n",
        "\\end{bmatrix}\n",
        "$$\n",
        "\n",
        "Note que este não é o método mais eficiente para resolver um sistema linear."
      ]
    },
    {
      "cell_type": "markdown",
      "id": "dcac95b7",
      "metadata": {
        "id": "dcac95b7"
      },
      "source": [
        "**7.** Determine as normas $\\|\\mathbf{v}\\|_1$, $\\|\\mathbf{v}\\|_2$ e $\n",
        "\\|\\mathbf{v}\\|_{\\infty}$ do vetor\n",
        "\n",
        "$$\n",
        "\\mathbf{v}=( 1+2i,3-5i,2+i,2-5i,4-3i)\\,.\n",
        "$$"
      ]
    },
    {
      "cell_type": "markdown",
      "id": "445b9842",
      "metadata": {
        "id": "445b9842"
      },
      "source": [
        "**7.** Determine os autovalores e autovetores da matriz\n",
        "\n",
        "$$\n",
        "A = \\begin{bmatrix}\n",
        "4 & 1 & 2 & 0 \\\\\n",
        "1 & 3 & 0 & 1 \\\\\n",
        "2 & 0 & 2 & 3 \\\\\n",
        "0 & 1 & 3 & 4 \\\\\n",
        "\\end{bmatrix}\\,.\n",
        "$$"
      ]
    },
    {
      "cell_type": "markdown",
      "id": "2299854c",
      "metadata": {
        "id": "2299854c"
      },
      "source": [
        "**8.** Mostre que a matriz\n",
        "\n",
        "$$\n",
        "U = \\frac{1}{2} \\begin{bmatrix}\n",
        "1 & i & 1 & i \\\\\n",
        "i & 1 & -i & 1 \\\\\n",
        "1 & -i & 1 & -i \\\\\n",
        "i & 1 & -i & 1\n",
        "\\end{bmatrix}\n",
        "$$\n",
        "\n",
        "é unitária e verifique a  norma  $\\|\\mathbf{v}\\|^2 = \\mathbf{v}^{\\dagger}\\mathbf{v}$ do vetor\n",
        "\n",
        "$$\n",
        "\\mathbf{v} = \\begin{bmatrix}\n",
        "1 + i \\\\\n",
        "2 - 6i \\\\\n",
        "3 + 2i \\\\\n",
        "4 - 5i\n",
        "\\end{bmatrix}\n",
        "$$\n",
        "\n",
        "é preservada após a operação $U \\mathbf{v}$.\n"
      ]
    },
    {
      "cell_type": "markdown",
      "id": "f68aa076",
      "metadata": {
        "id": "f68aa076"
      },
      "source": [
        "**9**. Calcule os autovalores e autovetores da matriz\n",
        "\n",
        "$$\n",
        "H = \\begin{bmatrix}\n",
        "2 & 1 + i & 4 - 2i \\\\\n",
        "1 - i & 3 & 5 + i \\\\\n",
        "4 + 2i & 5 - i & 1\\,.\n",
        "\\end{bmatrix}\n",
        "$$\n",
        "\n",
        "Por que é esperado que os autovalores sejam reais?"
      ]
    },
    {
      "cell_type": "markdown",
      "id": "ab0238b2",
      "metadata": {
        "id": "ab0238b2"
      },
      "source": [
        "**10.** As matrizes de Hilbert têm a seguinte lei de formação $a_{ij}=1/(i+j-1)$ para $i=1,\\cdots,n$. Tais matrizes são muito usadas em testes de algoritmos numéricos, pelo fato de serem mal condicionadas. Construa uma função que calcula o número de condição (usando qualquer tipo de norma) de matrizes de Hilbert de ordem $3\\times 3, 4\\times 4, \\ldots, 40\\times 40$. Faça o mesmo para uma matriz de componentes aleatórias. Faça um gráfico simultâneo comparando a variação do número de condição para as duas matrizes."
      ]
    },
    {
      "cell_type": "markdown",
      "id": "93d8b11a",
      "metadata": {
        "id": "93d8b11a"
      },
      "source": [
        "**11.** Resolva o sistema linear dado por\n",
        "\n",
        "$$\n",
        "\\left\\{\n",
        "\\begin{aligned}\n",
        "2x_1 + 3x_2 - x_3 + 4x_4 + x_5 & = 7 \\\\\n",
        "-3x_1 + 5x_2 + 2x_3 - 6x_4 + 8x_5 & = -2 \\\\\n",
        "4x_1 - x_2 + 7x_3 + 3x_4 - 5x_5 & = 10 \\\\\n",
        "x_1 + 6x_2 - 3x_3 + 2x_4 + 4x_5 & = 5 \\\\\n",
        "-2x_1 + 4x_2 + 5x_3 - x_4 + 6x_5 & = 1 \\\\\n",
        "\\end{aligned}\n",
        "\\right.\n",
        "$$\n",
        "\n",
        "e verifique o resultado."
      ]
    }
  ],
  "metadata": {
    "kernelspec": {
      "display_name": "Python 3 (ipykernel)",
      "language": "python",
      "name": "python3"
    },
    "language_info": {
      "codemirror_mode": {
        "name": "ipython",
        "version": 3
      },
      "file_extension": ".py",
      "mimetype": "text/x-python",
      "name": "python",
      "nbconvert_exporter": "python",
      "pygments_lexer": "ipython3",
      "version": "3.9.13"
    },
    "colab": {
      "provenance": [],
      "include_colab_link": true
    }
  },
  "nbformat": 4,
  "nbformat_minor": 5
}