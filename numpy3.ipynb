{
 "cells": [
  {
   "cell_type": "markdown",
   "id": "120c13a0",
   "metadata": {},
   "source": [
    "<center><h1>Aprendendo Matemática com Python</h1></center>\n",
    "<center><h2>Curso de Extensão</h2></center>\n",
    "<center><h3>Fernando Deeke Sasse</h3></center>\n",
    "<center><h3>CCT - UDESC</h3></center>\n",
    "<center><h2>NumPy: Vetores Espaciais, Matrizes e Sistemas Lineares</h2></center>"
   ]
  },
  {
   "cell_type": "markdown",
   "id": "8ecdb50f",
   "metadata": {},
   "source": [
    "### 1. Introdução\n",
    "\n",
    "Veremos neste notebook como realizar operações algébricas envolvendo 3-vetores e matrizes. MOstraremos algumas aplicações elementares em álgebra linear, embora o tratamento aprofundado desse tópico esteja reservado para uma aula futura. "
   ]
  },
  {
   "cell_type": "markdown",
   "id": "375f99ad",
   "metadata": {},
   "source": [
    "### 2. Operações com 3-vetores espaciais\n",
    "\n",
    "Consideremos os vetores $\\mathbf{u}=(3,1,2)$ e $\\mathbf{v}=(-1,2,-1)$. O produto escalar $\\mathbf{u}\\cdot \\mathbf{v}$ pode ser feito na biblioteca NumPy da seguinte forma: "
   ]
  },
  {
   "cell_type": "code",
   "execution_count": 2,
   "id": "8ed64d87",
   "metadata": {},
   "outputs": [
    {
     "data": {
      "text/plain": [
       "-3"
      ]
     },
     "execution_count": 2,
     "metadata": {},
     "output_type": "execute_result"
    }
   ],
   "source": [
    "import numpy as np\n",
    "u = np.array([3,1,2])\n",
    "v = np.array([-1,2,-1])\n",
    "np.dot(u,v)"
   ]
  },
  {
   "cell_type": "markdown",
   "id": "73efd02c",
   "metadata": {},
   "source": [
    "Por outro lado, o produto vetorial $\\mathbf{u} \\times \\mathbf{v}$ é dado por "
   ]
  },
  {
   "cell_type": "code",
   "execution_count": 3,
   "id": "bd24f0dc",
   "metadata": {},
   "outputs": [
    {
     "data": {
      "text/plain": [
       "array([-5,  1,  7])"
      ]
     },
     "execution_count": 3,
     "metadata": {},
     "output_type": "execute_result"
    }
   ],
   "source": [
    "np.cross(u,v)"
   ]
  },
  {
   "cell_type": "markdown",
   "id": "5e878035",
   "metadata": {},
   "source": [
    "A norma de Frobenius (ou euclidiana) de um vetor  $\\mathbf{u}=(u_1,\\ldots,u_n)$ é definida por\n",
    "\n",
    "$$\n",
    "|\\mathbf{u}|= \\sqrt{\\Sigma_{i=1}^n|u_i|^2}\n",
    "$$\n",
    "No Python: "
   ]
  },
  {
   "cell_type": "code",
   "execution_count": 6,
   "id": "7fe504ae",
   "metadata": {},
   "outputs": [
    {
     "data": {
      "text/plain": [
       "7.280109889280518"
      ]
     },
     "execution_count": 6,
     "metadata": {},
     "output_type": "execute_result"
    }
   ],
   "source": [
    "u = np.array([4,-6,1])\n",
    "NE = np.linalg.norm(u)\n",
    "NE"
   ]
  },
  {
   "cell_type": "markdown",
   "id": "5a889053",
   "metadata": {},
   "source": [
    "De fato, "
   ]
  },
  {
   "cell_type": "code",
   "execution_count": 7,
   "id": "500fd19d",
   "metadata": {},
   "outputs": [
    {
     "data": {
      "text/plain": [
       "7.280109889280518"
      ]
     },
     "execution_count": 7,
     "metadata": {},
     "output_type": "execute_result"
    }
   ],
   "source": [
    "np.sqrt(np.sum(u**2))"
   ]
  },
  {
   "cell_type": "markdown",
   "id": "6ab701c5",
   "metadata": {},
   "source": [
    "A chamada \"norma infinito\" de um vetor é definida como sendo a maior magnitude entre as componentes:  \n",
    "\n",
    "$$\n",
    "|\\mathbf{u}|_{\\infty}=\\max_i\\{{|u_i|},i=1,\\ldots,n\\}\n",
    "$$\n",
    "\n",
    "Ela é usada em álgebra linear como uma medida do tamanho de um vetor de alta dimensão, uma vez que a norma euclideano tem alto custo computacional. Por exemplo,\n"
   ]
  },
  {
   "cell_type": "code",
   "execution_count": 8,
   "id": "f6399a6f",
   "metadata": {},
   "outputs": [],
   "source": [
    "u = np.array([4,-6,1,8,-21,2,16])"
   ]
  },
  {
   "cell_type": "code",
   "execution_count": 9,
   "id": "51126518",
   "metadata": {},
   "outputs": [
    {
     "data": {
      "text/plain": [
       "21.0"
      ]
     },
     "execution_count": 9,
     "metadata": {},
     "output_type": "execute_result"
    }
   ],
   "source": [
    "NI = np.linalg.norm(u,ord=np.inf)\n",
    "NI"
   ]
  },
  {
   "cell_type": "markdown",
   "id": "11d097c3",
   "metadata": {},
   "source": [
    "**Exemplo 2.1**. Sejam os vetores $\\mathbf{u}=(1,4,-1)$ e $\\mathbf{v}=(1,3,-5)$. \n",
    "\n",
    "(i) Calcule a projeção do vetor $\\mathbf{u}$ na direção de $\\mathbf{v}$. \n",
    "\n",
    "Devemos calcular a expressão \n",
    "$$\n",
    "\\mathbf{u}_{\\mathbf{v}}=\\left(\\frac{\\mathbf{u}\\cdot\\mathbf{v}}{|\\mathbf{v}|^2}\\right)\\mathbf{v}\n",
    "$$\n",
    "\n",
    "No Python, "
   ]
  },
  {
   "cell_type": "code",
   "execution_count": 10,
   "id": "c9e2f415",
   "metadata": {},
   "outputs": [
    {
     "data": {
      "text/plain": [
       "array([ 1.,  3., -5.])"
      ]
     },
     "execution_count": 10,
     "metadata": {},
     "output_type": "execute_result"
    }
   ],
   "source": [
    "u = np.array([1,4,-1])\n",
    "v = np.array([1,3,-5])\n",
    "uv = (np.dot(u,v)/np.dot(u,v))*v\n",
    "uv"
   ]
  },
  {
   "cell_type": "markdown",
   "id": "aa2a148d",
   "metadata": {},
   "source": [
    "(ii) Calcule o ângulo $\\theta$ entre $\\mathbf{u}$ e $\\mathbf{v}$. \n",
    "\n",
    "Para isso podemos usar a relação\n",
    "\n",
    "$$\n",
    "\\mathbf{u}\\cdot \\mathbf{v}=|\\mathbf{u}||\\mathbf{v}|\\cos\\theta\\,.\n",
    "$$\n",
    "Em Python,"
   ]
  },
  {
   "cell_type": "code",
   "execution_count": 14,
   "id": "86a4d0cb",
   "metadata": {},
   "outputs": [
    {
     "data": {
      "text/plain": [
       "0.771110504762802"
      ]
     },
     "execution_count": 14,
     "metadata": {},
     "output_type": "execute_result"
    }
   ],
   "source": [
    "c = np.dot(u,v)/np.linalg.norm(u)/np.linalg.norm(v)\n",
    "theta = np.arccos(c)\n",
    "theta"
   ]
  },
  {
   "cell_type": "markdown",
   "id": "7df20463",
   "metadata": {},
   "source": [
    "Em graus:"
   ]
  },
  {
   "cell_type": "code",
   "execution_count": 17,
   "id": "a6836def",
   "metadata": {},
   "outputs": [
    {
     "data": {
      "text/plain": [
       "44.18137746111112"
      ]
     },
     "execution_count": 17,
     "metadata": {},
     "output_type": "execute_result"
    }
   ],
   "source": [
    "theta_deg = np.degrees(theta)\n",
    "theta_deg"
   ]
  },
  {
   "cell_type": "markdown",
   "id": "6c4b2c40",
   "metadata": {},
   "source": [
    "De fato, "
   ]
  },
  {
   "cell_type": "code",
   "execution_count": 18,
   "id": "f6fe7ca4",
   "metadata": {},
   "outputs": [
    {
     "data": {
      "text/plain": [
       "44.18137746111112"
      ]
     },
     "execution_count": 18,
     "metadata": {},
     "output_type": "execute_result"
    }
   ],
   "source": [
    "theta*180/np.pi"
   ]
  },
  {
   "cell_type": "markdown",
   "id": "c13e7e35",
   "metadata": {},
   "source": [
    "**Exemplo 2.2** Determine a área do triângulo com vértices $(-2,3,1)$, $(3,2,4)$ e $(2,1,8)$.\n",
    "\n",
    "Devemos lembrar que a área do triângulo $ABC$ pode ser calculada pela fórmula\n",
    "\n",
    "$$\n",
    "A = \\frac{1}{2}|\\mathbf{AB}\\times \\mathbf{AC}|,\n",
    "$$\n",
    "\n",
    "sendo $\\mathbf{AB}$ ($\\mathbf{AC}$) o vetor com origem no ponto $A$ e extremidade no ponto $B$ ($C$). Façamos o cálculo em Python:"
   ]
  },
  {
   "cell_type": "code",
   "execution_count": 19,
   "id": "d5405706",
   "metadata": {},
   "outputs": [],
   "source": [
    "A = np.array([-2,3,1])\n",
    "B = np.array([3,2,4])\n",
    "C = np.array([2,1,8])\n",
    "AB = B-C\n",
    "AC = C-A"
   ]
  },
  {
   "cell_type": "markdown",
   "id": "421f1e8c",
   "metadata": {},
   "source": [
    "A área é então dada por"
   ]
  },
  {
   "cell_type": "code",
   "execution_count": 22,
   "id": "27dac3b0",
   "metadata": {},
   "outputs": [
    {
     "data": {
      "text/plain": [
       "11.895377253370318"
      ]
     },
     "execution_count": 22,
     "metadata": {},
     "output_type": "execute_result"
    }
   ],
   "source": [
    "Area = np.linalg.norm(np.cross(AB,AC))/2\n",
    "Area"
   ]
  },
  {
   "cell_type": "markdown",
   "id": "b51f1b92",
   "metadata": {},
   "source": [
    "**Exemplo 2.3**\n",
    "\n",
    "Determine o volume do tetraedro com vértices $A =(2,3,1)$, $B = (3,-2,4)$, $C = (2,1,8)$ e $D =(-3,1,-2)$.\n",
    "\n",
    "O volume do tetraedro é 1/6 do volume do paralepípedo definido pelos vértices acima. O volume do paralelepípedo é dado pela magnitude do produto triplo do vetores definidos pelos vértices $A$, $B$, $C$ e $D$:\n",
    "\n",
    "$$\n",
    "V_t=\\frac{1}{6}|\\mathbf{AB}\\cdot(\\mathbf{AC}\\times \\mathbf{AD})|\n",
    "$$\n",
    "\n",
    "Em Python temos:"
   ]
  },
  {
   "cell_type": "code",
   "execution_count": 26,
   "id": "386da049",
   "metadata": {},
   "outputs": [
    {
     "data": {
      "text/plain": [
       "27.5"
      ]
     },
     "execution_count": 26,
     "metadata": {},
     "output_type": "execute_result"
    }
   ],
   "source": [
    "A = np.array([2,3,1])\n",
    "B = np.array([3,-2,4])\n",
    "C = np.array([2,1,8])\n",
    "D = np.array([-3,1,-2])\n",
    "AB = B-A\n",
    "AC = C-A\n",
    "AD = D-A\n",
    "Vt=1/6*np.dot(AB, np.cross(AC,AD))\n",
    "Vt"
   ]
  },
  {
   "cell_type": "markdown",
   "id": "837c07b0",
   "metadata": {},
   "source": [
    "### 3. Matrizes no Numpy"
   ]
  },
  {
   "cell_type": "markdown",
   "id": "38c85a33",
   "metadata": {},
   "source": [
    "Matrizes são arrays 2-dimensionais. Por exemplo, seja a matriz $3 \\times 4$:\n",
    "\n",
    "$$\n",
    "M=\\begin{bmatrix}\n",
    "-1& 5 & 7 & 4\\\\\n",
    "2 & 3 & 1 & 7\\\\\n",
    "8 & 9 & 6 & 3\n",
    "\\end{bmatrix}\n",
    "$$\n",
    "\n",
    "Em Python, "
   ]
  },
  {
   "cell_type": "code",
   "execution_count": 59,
   "id": "f73f65fb",
   "metadata": {},
   "outputs": [
    {
     "data": {
      "text/plain": [
       "array([[-1,  5,  7,  4],\n",
       "       [ 2,  3,  1,  7],\n",
       "       [ 8,  9,  6,  3]])"
      ]
     },
     "execution_count": 59,
     "metadata": {},
     "output_type": "execute_result"
    }
   ],
   "source": [
    "M=np.array([[-1,5,7,4],[2,3,1,7],[8,9,6,3]])\n",
    "M"
   ]
  },
  {
   "cell_type": "markdown",
   "id": "08035e4b",
   "metadata": {},
   "source": [
    "A dimensão de $M$ é dada por "
   ]
  },
  {
   "cell_type": "code",
   "execution_count": 60,
   "id": "01c39622",
   "metadata": {},
   "outputs": [
    {
     "data": {
      "text/plain": [
       "2"
      ]
     },
     "execution_count": 60,
     "metadata": {},
     "output_type": "execute_result"
    }
   ],
   "source": [
    "M.ndim"
   ]
  },
  {
   "cell_type": "markdown",
   "id": "040eff06",
   "metadata": {},
   "source": [
    "Sua forma é: "
   ]
  },
  {
   "cell_type": "code",
   "execution_count": 61,
   "id": "89cf706f",
   "metadata": {},
   "outputs": [
    {
     "data": {
      "text/plain": [
       "(3, 4)"
      ]
     },
     "execution_count": 61,
     "metadata": {},
     "output_type": "execute_result"
    }
   ],
   "source": [
    "M.shape"
   ]
  },
  {
   "cell_type": "markdown",
   "id": "e04db1b7",
   "metadata": {},
   "source": [
    "O número total de elementos é dado por"
   ]
  },
  {
   "cell_type": "code",
   "execution_count": 62,
   "id": "e49d5923",
   "metadata": {},
   "outputs": [
    {
     "data": {
      "text/plain": [
       "12"
      ]
     },
     "execution_count": 62,
     "metadata": {},
     "output_type": "execute_result"
    }
   ],
   "source": [
    "M.size"
   ]
  },
  {
   "cell_type": "markdown",
   "id": "bc4cf2cb",
   "metadata": {},
   "source": [
    "### 4. Fatiamento de matrizes"
   ]
  },
  {
   "cell_type": "markdown",
   "id": "0994306a",
   "metadata": {},
   "source": [
    "Podemos selecionar componentes de $M$ da forma usual. Por exemplo, o elemento da primeira linha e segunda coluna é dado por"
   ]
  },
  {
   "cell_type": "code",
   "execution_count": 44,
   "id": "16ddf7e1",
   "metadata": {},
   "outputs": [
    {
     "data": {
      "text/plain": [
       "5"
      ]
     },
     "execution_count": 44,
     "metadata": {},
     "output_type": "execute_result"
    }
   ],
   "source": [
    "M[0,1]"
   ]
  },
  {
   "cell_type": "markdown",
   "id": "1403e91b",
   "metadata": {},
   "source": [
    "Selecionemos a primeira coluna de $M$ para gerar um array 1D: "
   ]
  },
  {
   "cell_type": "code",
   "execution_count": 45,
   "id": "cb248ab5",
   "metadata": {},
   "outputs": [
    {
     "data": {
      "text/plain": [
       "array([-1,  2,  8])"
      ]
     },
     "execution_count": 45,
     "metadata": {},
     "output_type": "execute_result"
    }
   ],
   "source": [
    "col1=M[:,0]\n",
    "col1"
   ]
  },
  {
   "cell_type": "markdown",
   "id": "6edb8143",
   "metadata": {},
   "source": [
    "Podemos forma submatrizes. Por exemplo, selecionemos a submatriz \n",
    "\n",
    "$$\n",
    "\\begin{bmatrix}\n",
    " 1 & 7\\\\\n",
    "6 & 3\n",
    "\\end{bmatrix}\n",
    "$$\n"
   ]
  },
  {
   "cell_type": "code",
   "execution_count": 49,
   "id": "bad79a8c",
   "metadata": {},
   "outputs": [
    {
     "data": {
      "text/plain": [
       "array([[1, 7],\n",
       "       [6, 3]])"
      ]
     },
     "execution_count": 49,
     "metadata": {},
     "output_type": "execute_result"
    }
   ],
   "source": [
    "M[1:3,2:4]"
   ]
  },
  {
   "cell_type": "code",
   "execution_count": 55,
   "id": "4b86566f",
   "metadata": {},
   "outputs": [
    {
     "data": {
      "text/plain": [
       "array([[ 1,  2,  3,  4,  5],\n",
       "       [ 6,  7,  8,  9, 10],\n",
       "       [ 5,  1,  9,  2, -4]])"
      ]
     },
     "execution_count": 55,
     "metadata": {},
     "output_type": "execute_result"
    }
   ],
   "source": [
    "A = np.array([[1, 2, 3, 4, 5], [6, 7, 8, 9, 10],[5, 1, 9, 2, -4]])\n",
    "A"
   ]
  },
  {
   "cell_type": "code",
   "execution_count": 53,
   "id": "cdcfa547",
   "metadata": {},
   "outputs": [
    {
     "data": {
      "text/plain": [
       "array([[2, 3, 4],\n",
       "       [7, 8, 9]])"
      ]
     },
     "execution_count": 53,
     "metadata": {},
     "output_type": "execute_result"
    }
   ],
   "source": [
    "A[0:2, 1:4]"
   ]
  },
  {
   "cell_type": "markdown",
   "id": "38c9c37d",
   "metadata": {},
   "source": [
    "### 5. Matrizes especiais"
   ]
  },
  {
   "cell_type": "code",
   "execution_count": null,
   "id": "e3b52c17",
   "metadata": {},
   "outputs": [],
   "source": [
    "Matrizes especiais estão pré-definidas. Por exemplo"
   ]
  },
  {
   "cell_type": "code",
   "execution_count": 16,
   "id": "ad11c620",
   "metadata": {},
   "outputs": [
    {
     "data": {
      "text/plain": [
       "array([[1., 0., 0., 0.],\n",
       "       [0., 1., 0., 0.],\n",
       "       [0., 0., 1., 0.],\n",
       "       [0., 0., 0., 1.]])"
      ]
     },
     "execution_count": 16,
     "metadata": {},
     "output_type": "execute_result"
    }
   ],
   "source": [
    "I4=np.eye(4) # matriz identidade\n",
    "I4"
   ]
  },
  {
   "cell_type": "code",
   "execution_count": 21,
   "id": "d72619f8",
   "metadata": {},
   "outputs": [
    {
     "data": {
      "text/plain": [
       "array([[1., 1., 1.],\n",
       "       [1., 1., 1.],\n",
       "       [1., 1., 1.]])"
      ]
     },
     "execution_count": 21,
     "metadata": {},
     "output_type": "execute_result"
    }
   ],
   "source": [
    "B3 = np.ones((3,3)) # matriz com 1 em todas as componentes\n",
    "B3"
   ]
  },
  {
   "cell_type": "code",
   "execution_count": 23,
   "id": "a6ca7fe7",
   "metadata": {},
   "outputs": [
    {
     "data": {
      "text/plain": [
       "array([[0., 0., 0.],\n",
       "       [0., 0., 0.],\n",
       "       [0., 0., 0.]])"
      ]
     },
     "execution_count": 23,
     "metadata": {},
     "output_type": "execute_result"
    }
   ],
   "source": [
    "Z3 = np.zeros((3,3))\n",
    "Z3"
   ]
  },
  {
   "cell_type": "markdown",
   "id": "2aa19ccc",
   "metadata": {},
   "source": [
    "Podemos definir matrizes com componentes aleatórias com diferentes distribuições:"
   ]
  },
  {
   "cell_type": "code",
   "execution_count": 50,
   "id": "65762408",
   "metadata": {},
   "outputs": [
    {
     "data": {
      "text/plain": [
       "array([[0.15699184, 0.70221004, 0.26147827, 0.45171291],\n",
       "       [0.40806526, 0.61154121, 0.5830806 , 0.21450887],\n",
       "       [0.1887731 , 0.70209797, 0.47081767, 0.48505287]])"
      ]
     },
     "execution_count": 50,
     "metadata": {},
     "output_type": "execute_result"
    }
   ],
   "source": [
    "# Distribuição uniforme\n",
    "np.random.seed(122)\n",
    "m=3\n",
    "n=4\n",
    "A_uniforme = np.random.rand(m, n)\n",
    "A_uniforme"
   ]
  },
  {
   "cell_type": "code",
   "execution_count": 51,
   "id": "66f992e9",
   "metadata": {},
   "outputs": [
    {
     "data": {
      "text/plain": [
       "array([[ 0.48468014, -0.82216117, -0.33674179, -1.66338939],\n",
       "       [ 1.71928769, -1.41707497, -1.38444536,  0.40288662],\n",
       "       [ 0.59476914, -0.91593276, -1.50496569, -2.93824983]])"
      ]
     },
     "execution_count": 51,
     "metadata": {},
     "output_type": "execute_result"
    }
   ],
   "source": [
    "# Distribuição normal padrão\n",
    "np.random.seed(122)\n",
    "m=3\n",
    "n=4\n",
    "A_normal = np.random.randn(m, n)\n",
    "A_normal"
   ]
  },
  {
   "cell_type": "code",
   "execution_count": 52,
   "id": "5c2df464",
   "metadata": {},
   "outputs": [
    {
     "data": {
      "text/plain": [
       "array([[10.96936028,  8.35567767,  9.32651641,  6.67322122],\n",
       "       [13.43857538,  7.16585006,  7.23110927, 10.80577325],\n",
       "       [11.18953828,  8.16813447,  6.99006863,  4.12350034]])"
      ]
     },
     "execution_count": 52,
     "metadata": {},
     "output_type": "execute_result"
    }
   ],
   "source": [
    "# Distribuição normal qualquer\n",
    "np.random.seed(122)\n",
    "m=3\n",
    "n=4\n",
    "mean = 10\n",
    "std_dev = 2\n",
    "A_normal2 = np.random.normal(mean, std_dev, size=(m, n))\n",
    "A_normal2"
   ]
  },
  {
   "cell_type": "markdown",
   "id": "96bedd3f",
   "metadata": {},
   "source": [
    "Podemos definir matrizes com componentes aleatórias inteiras:"
   ]
  },
  {
   "cell_type": "code",
   "execution_count": 49,
   "id": "323a2ac5",
   "metadata": {},
   "outputs": [
    {
     "data": {
      "text/plain": [
       "array([[17, 28, 12, 24],\n",
       "       [14, 18, 14, 17],\n",
       "       [29,  4, 17, 24]])"
      ]
     },
     "execution_count": 49,
     "metadata": {},
     "output_type": "execute_result"
    }
   ],
   "source": [
    "# Inteiros de 2 a 30 (exclusivo)\n",
    "np.random.seed(122)\n",
    "m=3\n",
    "n=4\n",
    "A_int = np.random.randint(2,30, size=(m, n))\n",
    "A_int"
   ]
  },
  {
   "cell_type": "markdown",
   "id": "b11f62c6",
   "metadata": {},
   "source": [
    "### 6. Definindo matrizes por uma lei de formação\n",
    "\n",
    "Podemos definir uma matriz de acordo com uma lei de formação para seus elementos $a_{ij}$. O modo mais imediato, mas não eficiente,  é o seguinte:"
   ]
  },
  {
   "cell_type": "code",
   "execution_count": 25,
   "id": "c6456d76",
   "metadata": {},
   "outputs": [
    {
     "data": {
      "text/plain": [
       "array([[0.        , 1.        , 2.        , 3.        ],\n",
       "       [1.        , 1.33333333, 2.2       , 3.14285714],\n",
       "       [2.        , 1.66666667, 2.4       , 3.28571429],\n",
       "       [3.        , 2.        , 2.6       , 3.42857143]])"
      ]
     },
     "execution_count": 25,
     "metadata": {},
     "output_type": "execute_result"
    }
   ],
   "source": [
    "n = 4\n",
    "# Inicializa a matriz vazia\n",
    "A = np.zeros((n, n), dtype=float)\n",
    "\n",
    "# Define a matriz usando loops\n",
    "for i in range(n):\n",
    "    for j in range(n):\n",
    "        A[i, j] = i/(1+2*j) + j\n",
    "A"
   ]
  },
  {
   "cell_type": "markdown",
   "id": "b4b735dd",
   "metadata": {},
   "source": [
    "Podemos usar o comando `fromfunction` do Numpy:"
   ]
  },
  {
   "cell_type": "code",
   "execution_count": 15,
   "id": "925f982b",
   "metadata": {},
   "outputs": [
    {
     "data": {
      "text/plain": [
       "array([[0.        , 1.        , 2.        , 3.        ],\n",
       "       [1.        , 1.33333333, 2.2       , 3.14285714],\n",
       "       [2.        , 1.66666667, 2.4       , 3.28571429],\n",
       "       [3.        , 2.        , 2.6       , 3.42857143]])"
      ]
     },
     "execution_count": 15,
     "metadata": {},
     "output_type": "execute_result"
    }
   ],
   "source": [
    "n = 4  # tamanho da matriz\n",
    "A = np.fromfunction(lambda i, j: i/(1+2*j) + j, (n, n), dtype=int)\n",
    "A"
   ]
  },
  {
   "cell_type": "markdown",
   "id": "f2469425",
   "metadata": {},
   "source": [
    "Outro modo de definir uma matriz é a seguinte:"
   ]
  },
  {
   "cell_type": "code",
   "execution_count": 11,
   "id": "37b06304",
   "metadata": {},
   "outputs": [
    {
     "data": {
      "text/plain": [
       "array([[0.        , 1.        , 2.        , 3.        ],\n",
       "       [1.        , 1.5       , 2.33333333, 3.25      ],\n",
       "       [2.        , 2.        , 2.66666667, 3.5       ],\n",
       "       [3.        , 2.5       , 3.        , 3.75      ]])"
      ]
     },
     "execution_count": 11,
     "metadata": {},
     "output_type": "execute_result"
    }
   ],
   "source": [
    "n = 4\n",
    "A = np.array([[i/(j+1) + j for j in range(0,n)] for i in range(0,n)])\n",
    "A"
   ]
  },
  {
   "cell_type": "markdown",
   "id": "157378be",
   "metadata": {},
   "source": [
    "### 7. Operações com matrizes"
   ]
  },
  {
   "cell_type": "markdown",
   "id": "d852ea6a",
   "metadata": {},
   "source": [
    "Seja a matrix  $M$ dada por:  "
   ]
  },
  {
   "cell_type": "code",
   "execution_count": 63,
   "id": "a90567d8",
   "metadata": {},
   "outputs": [
    {
     "name": "stdout",
     "output_type": "stream",
     "text": [
      "[[-1  3  7  4]\n",
      " [ 2  3  1  7]\n",
      " [ 6  9  1  3]]\n"
     ]
    }
   ],
   "source": [
    "M=np.array([[-1,3,7,4],[2,3,1,7],[6,9,1,3]])\n",
    "print(M)"
   ]
  },
  {
   "cell_type": "markdown",
   "id": "18ef0ed5",
   "metadata": {},
   "source": [
    "Operações sobre arrays são feitas elemento a elemento. Por exemplo."
   ]
  },
  {
   "cell_type": "code",
   "execution_count": 64,
   "id": "24130a16",
   "metadata": {},
   "outputs": [
    {
     "data": {
      "text/plain": [
       "array([[ 1,  9, 49, 16],\n",
       "       [ 4,  9,  1, 49],\n",
       "       [36, 81,  1,  9]])"
      ]
     },
     "execution_count": 64,
     "metadata": {},
     "output_type": "execute_result"
    }
   ],
   "source": [
    "M**2 #Eleva cada componente ao quadrado"
   ]
  },
  {
   "cell_type": "code",
   "execution_count": 65,
   "id": "f2190e50",
   "metadata": {},
   "outputs": [
    {
     "data": {
      "text/plain": [
       "array([[-0.84147098,  0.14112001,  0.6569866 , -0.7568025 ],\n",
       "       [ 0.90929743,  0.14112001,  0.84147098,  0.6569866 ],\n",
       "       [-0.2794155 ,  0.41211849,  0.84147098,  0.14112001]])"
      ]
     },
     "execution_count": 65,
     "metadata": {},
     "output_type": "execute_result"
    }
   ],
   "source": [
    "np.sin(M) #Calcula o seno de cada componente"
   ]
  },
  {
   "cell_type": "markdown",
   "id": "62719a62",
   "metadata": {},
   "source": [
    "Para elevar a matriz quadrado fazemos"
   ]
  },
  {
   "cell_type": "code",
   "execution_count": 69,
   "id": "7a7b5146",
   "metadata": {},
   "outputs": [
    {
     "data": {
      "text/plain": [
       "array([[ 2,  3,  4],\n",
       "       [-5,  3,  1],\n",
       "       [ 3,  5,  6]])"
      ]
     },
     "execution_count": 69,
     "metadata": {},
     "output_type": "execute_result"
    }
   ],
   "source": [
    "A = np.array([[2,3,4],[-5,3,1],[3,5,6]])\n",
    "A"
   ]
  },
  {
   "cell_type": "code",
   "execution_count": 70,
   "id": "26a101df",
   "metadata": {},
   "outputs": [
    {
     "data": {
      "text/plain": [
       "array([[  1,  35,  35],\n",
       "       [-22,  -1, -11],\n",
       "       [ -1,  54,  53]])"
      ]
     },
     "execution_count": 70,
     "metadata": {},
     "output_type": "execute_result"
    }
   ],
   "source": [
    "A@A"
   ]
  },
  {
   "cell_type": "markdown",
   "id": "d133c752",
   "metadata": {},
   "source": [
    "Façamos uma multiplicação matricial. Definimos uma matriz $1 \\times 3$(note os dois colchetes, que caracteriza o 2-array):"
   ]
  },
  {
   "cell_type": "code",
   "execution_count": 81,
   "id": "402ae8c5",
   "metadata": {},
   "outputs": [
    {
     "data": {
      "text/plain": [
       "array([[2, 3, 5, 7]])"
      ]
     },
     "execution_count": 81,
     "metadata": {},
     "output_type": "execute_result"
    }
   ],
   "source": [
    "B = np.array([[2,3,5,7]])\n",
    "B"
   ]
  },
  {
   "cell_type": "markdown",
   "id": "37817b9e",
   "metadata": {},
   "source": [
    "e obtemos sua transposta:"
   ]
  },
  {
   "cell_type": "code",
   "execution_count": 82,
   "id": "eb292697",
   "metadata": {},
   "outputs": [
    {
     "data": {
      "text/plain": [
       "array([[2],\n",
       "       [3],\n",
       "       [5],\n",
       "       [7]])"
      ]
     },
     "execution_count": 82,
     "metadata": {},
     "output_type": "execute_result"
    }
   ],
   "source": [
    "Bt = np.transpose(B)\n",
    "Bt"
   ]
  },
  {
   "cell_type": "markdown",
   "id": "1f0a0466",
   "metadata": {},
   "source": [
    "ou"
   ]
  },
  {
   "cell_type": "code",
   "execution_count": 91,
   "id": "ec819209",
   "metadata": {},
   "outputs": [
    {
     "data": {
      "text/plain": [
       "array([[2],\n",
       "       [3],\n",
       "       [5],\n",
       "       [7]])"
      ]
     },
     "execution_count": 91,
     "metadata": {},
     "output_type": "execute_result"
    }
   ],
   "source": [
    "B.T"
   ]
  },
  {
   "cell_type": "code",
   "execution_count": 83,
   "id": "9ba88b3b",
   "metadata": {},
   "outputs": [
    {
     "data": {
      "text/plain": [
       "array([[70],\n",
       "       [67],\n",
       "       [65]])"
      ]
     },
     "execution_count": 83,
     "metadata": {},
     "output_type": "execute_result"
    }
   ],
   "source": [
    "M@Bt"
   ]
  },
  {
   "cell_type": "markdown",
   "id": "a0756c86",
   "metadata": {},
   "source": [
    "Note acima que "
   ]
  },
  {
   "cell_type": "code",
   "execution_count": 84,
   "id": "d249dc9c",
   "metadata": {},
   "outputs": [
    {
     "data": {
      "text/plain": [
       "(1, 4)"
      ]
     },
     "execution_count": 84,
     "metadata": {},
     "output_type": "execute_result"
    }
   ],
   "source": [
    "B.shape"
   ]
  },
  {
   "cell_type": "markdown",
   "id": "0f6bb22d",
   "metadata": {},
   "source": [
    "Para calcular a inversa de uma matriz procedemos do seguinte modo:"
   ]
  },
  {
   "cell_type": "code",
   "execution_count": 90,
   "id": "2c2a7599",
   "metadata": {},
   "outputs": [
    {
     "data": {
      "text/plain": [
       "array([[ 0.25      ,  0.125     ],\n",
       "       [-0.16666667,  0.08333333]])"
      ]
     },
     "execution_count": 90,
     "metadata": {},
     "output_type": "execute_result"
    }
   ],
   "source": [
    "A = np.array([[2,-3],[4,6]])\n",
    "np.linalg.inv(A)"
   ]
  },
  {
   "cell_type": "markdown",
   "id": "01f331a6",
   "metadata": {},
   "source": [
    "Se"
   ]
  },
  {
   "cell_type": "code",
   "execution_count": 92,
   "id": "54dba1eb",
   "metadata": {},
   "outputs": [
    {
     "data": {
      "text/plain": [
       "array([[13, -8,  6,  4],\n",
       "       [ 3,  1,  6,  5],\n",
       "       [ 1,  0,  3,  2],\n",
       "       [ 1,  3,  8, -2]])"
      ]
     },
     "execution_count": 92,
     "metadata": {},
     "output_type": "execute_result"
    }
   ],
   "source": [
    "M = np.array([[13,-8,6,4],[3,1,6,5],[1,0,3,2],[1,3,8,-2]])\n",
    "M"
   ]
  },
  {
   "cell_type": "markdown",
   "id": "7da75224",
   "metadata": {},
   "source": [
    "O traço da matriz $M$ (soma dos elementos da diagonal) é dado por "
   ]
  },
  {
   "cell_type": "code",
   "execution_count": 93,
   "id": "0478ee32",
   "metadata": {},
   "outputs": [
    {
     "data": {
      "text/plain": [
       "15"
      ]
     },
     "execution_count": 93,
     "metadata": {},
     "output_type": "execute_result"
    }
   ],
   "source": [
    "np.trace(M)"
   ]
  },
  {
   "cell_type": "markdown",
   "id": "db770637",
   "metadata": {},
   "source": [
    "O determinante é dado por: "
   ]
  },
  {
   "cell_type": "code",
   "execution_count": 94,
   "id": "6db16bbb",
   "metadata": {},
   "outputs": [
    {
     "data": {
      "text/plain": [
       "-476.9999999999997"
      ]
     },
     "execution_count": 94,
     "metadata": {},
     "output_type": "execute_result"
    }
   ],
   "source": [
    "np.linalg.det(M)"
   ]
  },
  {
   "cell_type": "markdown",
   "id": "f9ec8db8",
   "metadata": {},
   "source": [
    "### 8. Normas matriciais"
   ]
  },
  {
   "cell_type": "markdown",
   "id": "2d745801",
   "metadata": {},
   "source": [
    "Normas matriciais são funções que atribuem um número real não negativo a uma matriz, quantificando o \"tamanho\" ou \"magnitude\" da matriz de uma maneira específica. Assim como as normas vetoriais medem o comprimento ou a magnitude de um vetor, as normas matriciais são usadas para medir determinados tipos de magnitude de uma matriz.\n",
    "\n",
    "As normas matriciais são amplamente utilizadas em álgebra linear, análise numérica e outras áreas matemáticas para analisar a estabilidade, sensibilidade e comportamento de operações envolvendo matrizes.\n",
    "\n",
    "Uma função $ \\|\\cdot\\|: \\mathbb{R}^{m \\times n} \\rightarrow \\mathbb{R} $ é considerada uma norma matricial se satisfizer as seguintes condições:\n",
    "\n",
    "1. Subaditividade (Desigualdade Triangular):\n",
    "   $$\n",
    "   \\|A + B\\| \\leq \\|A\\| + \\|B\\| \\quad \\text{para todas as matrizes } A \\text{ e } B \\text{ de mesma dimensão}.\n",
    "   $$\n",
    "\n",
    "2. Multiplicação Escalar:\n",
    "   $$\n",
    "   \\|\\alpha A\\| = |\\alpha| \\cdot \\|A\\| \\quad \\text{para todo escalar } \\alpha \\text{ e matriz } A.\n",
    "   $$\n",
    "\n",
    "3. Não-Negatividade e Definitividade:\n",
    "  $$\n",
    "   \\|A\\| \\geq 0 \\quad \\text{e} \\quad \\|A\\| = 0 \\text{ se e somente se } A = 0.\n",
    "   $$\n",
    "   \n",
    "4. Compatibilidade com a Multiplicação Matricial:\n",
    "   $$\n",
    "   \\|AB\\| \\leq \\|A\\| \\cdot \\|B\\| \\quad \\text{para todas as matrizes } A \\text{ e } B \\text{ onde o produto } AB \\text{ é definido}.\n",
    "   $$\n",
    "\n"
   ]
  },
  {
   "cell_type": "markdown",
   "id": "d0d2c223",
   "metadata": {},
   "source": [
    "Examinemos os principais tipos de normas matriciais:\n",
    "\n",
    "- Norma 1 (Norma da Coluna Máxima, $ p = 1 $):\n",
    "  $$\n",
    "  \\|A\\|_1 = \\max_{1 \\leq j \\leq n} \\sum_{i=1}^{m} |a_{ij}|\n",
    "  $$\n",
    "  A norma 1 mede a maior soma absoluta das colunas da matriz.\n",
    "  \n",
    "  Em Python, "
   ]
  },
  {
   "cell_type": "code",
   "execution_count": 29,
   "id": "ab1903a0",
   "metadata": {},
   "outputs": [
    {
     "data": {
      "text/plain": [
       "18.0"
      ]
     },
     "execution_count": 29,
     "metadata": {},
     "output_type": "execute_result"
    }
   ],
   "source": [
    "import numpy as np\n",
    "A = np.array([\n",
    "    [1, 2, 3],\n",
    "    [4, 5, 6],\n",
    "    [7, 8, 9]\n",
    "])\n",
    "# Norma 1\n",
    "norm1 = np.linalg.norm(A, 1)\n",
    "norm1"
   ]
  },
  {
   "cell_type": "markdown",
   "id": "9e7a7a2d",
   "metadata": {},
   "source": [
    "- Norma 2 (Norma Espectral, $ p = 2 $):\n",
    "  $$\n",
    "  \\|A\\|_2 = \\sqrt{\\lambda_{\\text{max}}}\\,,\n",
    "  $$\n",
    "  sendo  $ \\lambda_{\\text{max}}$ maior autovalor de $ A^{\\dagger}A $. Aqui $A^{\\dagger}$ é a matriz hermitiana conjugada de $A$. Se $A$ for real, $A^{\\dagger}=A^T$ Em Python, "
   ]
  },
  {
   "cell_type": "code",
   "execution_count": 30,
   "id": "e5986227",
   "metadata": {},
   "outputs": [
    {
     "data": {
      "text/plain": [
       "16.84810335261421"
      ]
     },
     "execution_count": 30,
     "metadata": {},
     "output_type": "execute_result"
    }
   ],
   "source": [
    "norm2 = np.linalg.norm(A, 2)\n",
    "norm2"
   ]
  },
  {
   "cell_type": "markdown",
   "id": "c1336501",
   "metadata": {},
   "source": [
    "- Norma Infinito (Norma da Linha Máxima, $ p = \\infty $):\n",
    "  $$\n",
    "  \\|A\\|_\\infty = \\max_{1 \\leq i \\leq m} \\sum_{j=1}^{n} |a_{ij}|\n",
    "  $$\n",
    "  \n",
    "  A norma infinito mede a maior soma absoluta das linhas da matriz. Em Python,"
   ]
  },
  {
   "cell_type": "code",
   "execution_count": 31,
   "id": "cb4b5b13",
   "metadata": {},
   "outputs": [
    {
     "data": {
      "text/plain": [
       "24.0"
      ]
     },
     "execution_count": 31,
     "metadata": {},
     "output_type": "execute_result"
    }
   ],
   "source": [
    "norm_inf = np.linalg.norm(A, np.inf)\n",
    "norm_inf"
   ]
  },
  {
   "cell_type": "markdown",
   "id": "6adaf6ac",
   "metadata": {},
   "source": [
    "- Norma de Frobenius: \n",
    "\n",
    "$$\n",
    "\\|A\\|_F = \\sqrt{\\sum_{i=1}^{m} \\sum_{j=1}^{n} |a_{ij}|^2}\n",
    "$$\n",
    "\n",
    "Esta norma é equivalente à norma 2 para o vetor de elementos da matriz, sendo a raiz quadrada da soma dos quadrados de todos os elementos da matriz. Em Python, "
   ]
  },
  {
   "cell_type": "code",
   "execution_count": 32,
   "id": "7feae84e",
   "metadata": {},
   "outputs": [
    {
     "data": {
      "text/plain": [
       "16.881943016134134"
      ]
     },
     "execution_count": 32,
     "metadata": {},
     "output_type": "execute_result"
    }
   ],
   "source": [
    "norm_fro = np.linalg.norm(A, 'fro')\n",
    "norm_fro"
   ]
  },
  {
   "cell_type": "markdown",
   "id": "4b5e611b",
   "metadata": {},
   "source": [
    "Normas matriciais podem ser usadas para estabelecer critérios de parada em algoritmos numéricos, análise de estabilidade de equações diferenciais, etc. Uma aplicação que exemplificaremos aqui é o cálculo do número de condionamento de uma matriz. "
   ]
  },
  {
   "cell_type": "markdown",
   "id": "e8d216cc",
   "metadata": {},
   "source": [
    "### 9. Número de condicionamento de uma matriz\n",
    "\n",
    "O número de condicionamento de uma matriz $ A $ é definido como:\n",
    "\n",
    "$$\n",
    "\\kappa(A) = \\|A\\| \\cdot \\|A^{-1}\\|\\,,\n",
    "$$\n",
    "\n",
    "sendo $ \\|A\\| $ a norma da matriz $ A$, e $ \\|A^{-1}\\| $ é a norma de sua inversa.  \n",
    "\n",
    "Esta é uma medida que indica a sensibilidade da solução de um sistema linear em relação a mudanças nos dados de entrada. Um número de condicionamento elevado sugere que a matriz pode causar problemas numéricos, como soluções instáveis ou imprecisas.\n",
    "\n",
    "O número de condicionamento frequentemente utiliza a norma 2 (norma espectral), que está relacionada aos autovalores da matriz. Este é o default em Python:"
   ]
  },
  {
   "cell_type": "code",
   "execution_count": 39,
   "id": "95e535bd",
   "metadata": {},
   "outputs": [
    {
     "data": {
      "text/plain": [
       "2.5141162817681"
      ]
     },
     "execution_count": 39,
     "metadata": {},
     "output_type": "execute_result"
    }
   ],
   "source": [
    "import numpy as np\n",
    "A = np.array([\n",
    "    [2, 3, -1],\n",
    "    [4, 1, 2],\n",
    "    [-2, 5, 2]\n",
    "])\n",
    "# Norma 2\n",
    "cond_num = np.linalg.cond(A)\n",
    "cond_num"
   ]
  },
  {
   "cell_type": "markdown",
   "id": "33b32dd6",
   "metadata": {},
   "source": [
    "Usando outras normas:"
   ]
  },
  {
   "cell_type": "code",
   "execution_count": 35,
   "id": "291334c3",
   "metadata": {},
   "outputs": [
    {
     "data": {
      "text/plain": [
       "5.108108108108108"
      ]
     },
     "execution_count": 35,
     "metadata": {},
     "output_type": "execute_result"
    }
   ],
   "source": [
    "# Norma 1\n",
    "cond_num1 = np.linalg.cond(A, p=1)\n",
    "cond_num1"
   ]
  },
  {
   "cell_type": "code",
   "execution_count": 36,
   "id": "15c347bd",
   "metadata": {},
   "outputs": [
    {
     "data": {
      "text/plain": [
       "5.837837837837839"
      ]
     },
     "execution_count": 36,
     "metadata": {},
     "output_type": "execute_result"
    }
   ],
   "source": [
    "# Norma infinito\n",
    "cond_num_inf = np.linalg.cond(A, p=np.inf)\n",
    "cond_num_inf"
   ]
  },
  {
   "cell_type": "code",
   "execution_count": 38,
   "id": "083e06df",
   "metadata": {},
   "outputs": [
    {
     "data": {
      "text/plain": [
       "3.996163243915766"
      ]
     },
     "execution_count": 38,
     "metadata": {},
     "output_type": "execute_result"
    }
   ],
   "source": [
    "# Norma Frobenius\n",
    "cond_num_fro = np.linalg.cond(A, p='fro')\n",
    "cond_num_fro"
   ]
  },
  {
   "cell_type": "markdown",
   "id": "9bc4ff24",
   "metadata": {},
   "source": [
    "### 10. Autovalores e autovetores de uma matriz"
   ]
  },
  {
   "cell_type": "markdown",
   "id": "4d4b716c",
   "metadata": {},
   "source": [
    "Consideremos o problema de determinar os autovalores e autovetores da seguinte matriz \n",
    "\n",
    "$$\n",
    "A = \\begin{bmatrix}\n",
    "2 & -1 & 0 \\\\\n",
    "1 & 3 & -1 \\\\\n",
    "0 & 2 & 1 \\\\\n",
    "\\end{bmatrix}\n",
    "$$\n",
    "\n",
    "Os autovalores $ \\lambda $ são determinados pela equação característica:\n",
    "\n",
    "$$\n",
    "\\det(A - \\lambda I) = 0\n",
    "$$\n",
    "\n",
    "ou seja, \n",
    "\n",
    "$$\n",
    "\\det(A - \\lambda I) = \\left| \\begin{array}{ccc}\n",
    "2 - \\lambda & -1 & 0 \\\\\n",
    "1 & 3 - \\lambda & -1 \\\\\n",
    "0 & 2 & 1 - \\lambda \\\\\n",
    "\\end{array} \\right|=\\lambda^3 - 6\\lambda^2 + 14\\lambda - 11 = 0\\,.\n",
    "$$\n",
    "\n",
    "Utilizaremos o Python para encontrar as raízes da equação:"
   ]
  },
  {
   "cell_type": "code",
   "execution_count": 1,
   "id": "2131162a",
   "metadata": {},
   "outputs": [],
   "source": [
    "import numpy as np"
   ]
  },
  {
   "cell_type": "code",
   "execution_count": 4,
   "id": "2d5b5ff8",
   "metadata": {},
   "outputs": [
    {
     "name": "stdout",
     "output_type": "stream",
     "text": [
      "Autovalores:\n",
      "[2.22669883+1.46771151j 2.22669883-1.46771151j 1.54660235+0.j        ]\n"
     ]
    }
   ],
   "source": [
    "# Coeficientes do polinômio característico\n",
    "coeficientes = [1, -6, 14, -11]\n",
    "\n",
    "# Encontrar as raízes da equação cúbica\n",
    "autovalores = np.roots(coeficientes)\n",
    "print(\"Autovalores:\")\n",
    "print(autovalores)"
   ]
  },
  {
   "cell_type": "markdown",
   "id": "7841ed59",
   "metadata": {},
   "source": [
    "Podemos utilizar o Python para calcular os autovalores e autovetores diretamente:"
   ]
  },
  {
   "cell_type": "code",
   "execution_count": 7,
   "id": "9a0b7b5f",
   "metadata": {},
   "outputs": [],
   "source": [
    "A = np.array([[2, -1, 0],\n",
    "              [1, 3, -1],\n",
    "              [0, 2, 1]])\n",
    "\n",
    "autovalores, autovetores = np.linalg.eig(A)"
   ]
  },
  {
   "cell_type": "code",
   "execution_count": 8,
   "id": "a13bad00",
   "metadata": {},
   "outputs": [
    {
     "data": {
      "text/plain": [
       "array([2.22669883+1.46771151j, 2.22669883-1.46771151j,\n",
       "       1.54660235+0.j        ])"
      ]
     },
     "execution_count": 8,
     "metadata": {},
     "output_type": "execute_result"
    }
   ],
   "source": [
    "autovalores"
   ]
  },
  {
   "cell_type": "code",
   "execution_count": 9,
   "id": "1fc90e12",
   "metadata": {},
   "outputs": [
    {
     "data": {
      "text/plain": [
       "array([[ 0.36126918-0.21800183j,  0.36126918+0.21800183j,\n",
       "        -0.50266229+0.j        ],\n",
       "       [-0.4018631 -0.48081818j, -0.4018631 +0.48081818j,\n",
       "        -0.2279059 +0.j        ],\n",
       "       [-0.6551944 +0.j        , -0.6551944 -0.j        ,\n",
       "        -0.83390019+0.j        ]])"
      ]
     },
     "execution_count": 9,
     "metadata": {},
     "output_type": "execute_result"
    }
   ],
   "source": [
    "autovetores"
   ]
  },
  {
   "cell_type": "markdown",
   "id": "f0438a67",
   "metadata": {},
   "source": [
    "Verifiquemos os resultados. Por exemplo, examinemos se para o primeiro autovalor $\\lambda_1 $ e autovetor $\\mathbf{v}_1$ acima temos $A\\mathbf{v}_1=\\lambda_1 \\mathbf{v}_1$:"
   ]
  },
  {
   "cell_type": "code",
   "execution_count": 10,
   "id": "3130717e",
   "metadata": {},
   "outputs": [],
   "source": [
    "# Selecionar o primeiro autovalor e autovetor\n",
    "lambda_1 = autovalores[0]\n",
    "v_1 = autovetores[:, 0]"
   ]
  },
  {
   "cell_type": "code",
   "execution_count": 12,
   "id": "d456e57d",
   "metadata": {},
   "outputs": [
    {
     "data": {
      "text/plain": [
       "array([ 6.66133815e-16+9.99200722e-16j, -9.99200722e-16+0.00000000e+00j,\n",
       "       -2.22044605e-16-7.77156117e-16j])"
      ]
     },
     "execution_count": 12,
     "metadata": {},
     "output_type": "execute_result"
    }
   ],
   "source": [
    "# Calcular A @ v_1\n",
    "A @ v_1-lambda_1 * v_1"
   ]
  },
  {
   "cell_type": "markdown",
   "id": "7117d530",
   "metadata": {},
   "source": [
    "Equivalentemente tal verificação poderia ser feita do seguinte modo:"
   ]
  },
  {
   "cell_type": "code",
   "execution_count": 16,
   "id": "06d05416",
   "metadata": {},
   "outputs": [
    {
     "data": {
      "text/plain": [
       "True"
      ]
     },
     "execution_count": 16,
     "metadata": {},
     "output_type": "execute_result"
    }
   ],
   "source": [
    "np.allclose(A @ v_1,lambda_1 * v_1)"
   ]
  },
  {
   "cell_type": "markdown",
   "id": "9147b52f",
   "metadata": {},
   "source": [
    "### 11. Sistemas Lineares \n",
    "\n",
    "Definiremos funções em Python que realizam as operações elementares sobre linhas de uma matriz que serão úteis para resolver sistemas de equações lineares ou simplesmente, sistemas lineares.  Um [sistema linear](https://pt.wikipedia.org/wiki/Sistema_de_equações_lineares) é um conjunto de equações lineares acopladas entre por meio de variáveis $x_1,\\ldots, x_n$, da forma:\n",
    "\n",
    "$$\n",
    "\\left\\{\n",
    "\\begin{aligned}\n",
    "a_{11}x_1 + a_{12}x_2 + \\cdots + a_{1n}x_n & = b_1 \\\\\n",
    "a_{10}x_1 + a_{22}x_2 + \\cdots + a_{2n}x_n & = b_2 \\\\\n",
    "& \\vdots \\\\\n",
    "a_{m1}x_1 + a_{m1}x_2 + \\cdots + a_{mn}x_n & = b_m \\\\\n",
    "\\end{aligned}\n",
    "\\right.\n",
    "$$\n",
    "\n",
    "Em notação matricial o sistema linear de $n$ equações  e $n$ incógnitas é representado na forma \n",
    " $A X= B$, sendo\n",
    "\n",
    "$$\n",
    "A = \\begin{bmatrix}\n",
    "a_{11} & a_{12} & \\cdots & a_{1n} \\\\\n",
    "a_{21} & a_{22} & \\cdots & a_{2n} \\\\\n",
    "\\vdots & & & \\vdots \\\\\\\n",
    "a_{n 1} & a_{n 2} & \\cdots & a_{n n} \\\\\n",
    "\\end{bmatrix}\n",
    " \\ \\ , \\ \\\n",
    "X = \\begin{bmatrix}\n",
    "x_1 \\\\\\ x_2 \\\\ \\vdots \\\\ x_n\n",
    "\\end{bmatrix}\n",
    " \\ \\ , \\ \\\n",
    "b= \\begin{bmatrix}\n",
    "b_1 \\\\\\ b_2 \\\\\\ \\vdots \\\\ b_n\n",
    "\\end{bmatrix} \n",
    "$$"
   ]
  },
  {
   "cell_type": "markdown",
   "id": "d6a89fdb",
   "metadata": {},
   "source": [
    "**Exemplo.** Consideremos o seguinte sistema de equações lineares:\n",
    "\n",
    "$$\n",
    "\\begin{cases}\n",
    "2x + 3y - z = 5 \\\\\n",
    "4x + y + 2z = 6 \\\\\n",
    "-2x + 5y + 2z = -1\\,.\n",
    "\\end{cases}\n",
    "$$\n",
    "\n",
    "Nosso objetivo é encontrar os valores de $ x $, $ y $ e $ z $ que satisfaçam simultaneamente todas as três equações.\n",
    "\n",
    "Utilizaremos a biblioteca NumPy do Python para resolver o sistema.  Na forma matricial reescrevemos o sistema como:\n",
    "\n",
    "$$\n",
    "\\begin{bmatrix}\n",
    "2 & 3 & -1 \\\\\n",
    "4 & 1 & 2 \\\\\n",
    "-2 & 5 & 2\n",
    "\\end{bmatrix}\n",
    "\\begin{bmatrix}\n",
    "x \\\\ y \\\\ z\n",
    "\\end{bmatrix}\n",
    "=\n",
    "\\begin{bmatrix}\n",
    "5 \\\\ 6 \\\\ -1\n",
    "\\end{bmatrix}\\,,\n",
    "$$\n",
    "\n",
    "com:\n",
    "\n",
    "$$\n",
    "A = \\begin{bmatrix} 2 & 3 & -1 \\\\ 4 & 1 & 2 \\\\ -2 & 5 & 2 \\end{bmatrix}, \\quad\n",
    "X = \\begin{bmatrix} x \\\\ y \\\\ z \\end{bmatrix}, \\quad\n",
    "b = \\begin{bmatrix} 5 \\\\ 6 \\\\ -1 \\end{bmatrix}\\,.\n",
    "$$\n",
    "\n",
    "Resolvamos este problema em Python,  usando comandos do Numpy:"
   ]
  },
  {
   "cell_type": "code",
   "execution_count": 3,
   "id": "c596604a",
   "metadata": {},
   "outputs": [],
   "source": [
    "import numpy as np"
   ]
  },
  {
   "cell_type": "code",
   "execution_count": 4,
   "id": "27bf0fa0",
   "metadata": {},
   "outputs": [],
   "source": [
    "# Dados\n",
    "A = np.array([\n",
    "    [2, 3, -1],\n",
    "    [4, 1, 2],\n",
    "    [-2, 5, 2]\n",
    "])\n",
    "b = np.array([5, 6, -1])"
   ]
  },
  {
   "cell_type": "code",
   "execution_count": 5,
   "id": "c273b3e2",
   "metadata": {},
   "outputs": [
    {
     "data": {
      "text/plain": [
       "array([ 1.52702703,  0.54054054, -0.32432432])"
      ]
     },
     "execution_count": 5,
     "metadata": {},
     "output_type": "execute_result"
    }
   ],
   "source": [
    "X = np.linalg.solve(A, b)\n",
    "X"
   ]
  },
  {
   "cell_type": "markdown",
   "id": "d767ad86",
   "metadata": {},
   "source": [
    "Podemos verificar o resultado:"
   ]
  },
  {
   "cell_type": "code",
   "execution_count": 6,
   "id": "bee4e209",
   "metadata": {},
   "outputs": [
    {
     "data": {
      "text/plain": [
       "array([ 0.0000000e+00,  0.0000000e+00, -4.4408921e-16])"
      ]
     },
     "execution_count": 6,
     "metadata": {},
     "output_type": "execute_result"
    }
   ],
   "source": [
    "np.dot(A, X)-b"
   ]
  },
  {
   "cell_type": "markdown",
   "id": "7f73892b",
   "metadata": {},
   "source": [
    "### 12. Exercícios"
   ]
  },
  {
   "cell_type": "markdown",
   "id": "1dff6da7",
   "metadata": {},
   "source": [
    "**1.** Dados os vetores\n",
    "\n",
    "$$\n",
    "\\mathbf{v}_1=(4,5,3)\\,,\\quad \\mathbf{v}_2=(5,2,6)\\,,\n",
    "$$\n",
    "\n",
    "(i) Determine o ângulo entre os dois vetores.\n",
    "\n",
    "(ii) Determine o vetor projeção de $\\mathbf{v}_1$ na direção de $\\mathbf{v}_2$. "
   ]
  },
  {
   "cell_type": "markdown",
   "id": "457e42a0",
   "metadata": {},
   "source": [
    "**2.** Determine a área do triângulo de vértices $(3,4,2)$, $(-2,1,9)$ e $(-4,2,-1)$. "
   ]
  },
  {
   "cell_type": "markdown",
   "id": "2093ca78",
   "metadata": {},
   "source": [
    "**3.** Dados os vetores\n",
    "\n",
    "$$\n",
    "\\mathbf{v}_1=(2,5,1)\\,,\\qquad \\mathbf{v}_2=(-1,2,-3)\\,,\\quad \\mathbf{v}_3=(-4,1,-7)\\,,\n",
    "$$\n",
    "\n",
    "determine o volume do paralelepípedo definido por esses vetores. "
   ]
  },
  {
   "cell_type": "markdown",
   "id": "22d8fd46",
   "metadata": {},
   "source": [
    "**4.** Verifique  que a norma de Frobenius da matriz\n",
    "$$\n",
    "M=\\begin{bmatrix}\n",
    "-3 & 5 & 3 \\\\\n",
    "2 & -5 & 4 \\\\\n",
    "1 & 9 & -2\n",
    "\\end{bmatrix}\n",
    "$$\n",
    "pode também ser dada por \n",
    "\n",
    "$$\n",
    "||\\mathbf{M}||_F=\\sqrt{\\left(\\mbox{Tr}(M M^T\\right)}\\,.\n",
    "$$"
   ]
  },
  {
   "cell_type": "markdown",
   "id": "67343c2a",
   "metadata": {},
   "source": [
    "**5.** Sejam as matrizes \n",
    "$$ A = \n",
    "\\begin{bmatrix}\n",
    "1 & -2 & 3 \\\\\n",
    "4 & 5 & 6 \\\\\n",
    "7 & 8 & 9\n",
    "\\end{bmatrix}\\,,\\qquad\n",
    "B = \n",
    "\\begin{bmatrix}\n",
    "9 & 4 & 6 \\\\\n",
    "6 & 3 & 2 \\\\\n",
    "1 & 2 & 3\n",
    "\\end{bmatrix}\\,.\n",
    "$$\n",
    "\n",
    "(i) Determine $C=A^3-AB -4I$, sendo $I$ a matriz identidade $3 \\times 3$.\n",
    "\n",
    "(ii) Use a equação  $det(C-I\\lambda)=0$ para encontrar os autovalores de $C$."
   ]
  },
  {
   "cell_type": "markdown",
   "id": "b243c3c6",
   "metadata": {},
   "source": [
    "**6.** Seja o sistema linear\n",
    "\n",
    "$$\n",
    "\\begin{bmatrix}\n",
    "-1 & -2 & 3 \\\\\n",
    "4 & 5 & 6 \\\\\n",
    "7 & 8 & 9\n",
    "\\end{bmatrix}\n",
    "\\begin{bmatrix}\n",
    "x  \\\\\n",
    "y  \\\\\n",
    "z \n",
    "\\end{bmatrix}\n",
    "=\n",
    "\\begin{bmatrix}\n",
    "1  \\\\\n",
    "4  \\\\\n",
    "3\\,.\n",
    "\\end{bmatrix}\n",
    "$$\n",
    "\n",
    "Resolva o sistema calculando explicitamente  a expressão: \n",
    "\n",
    "$$\n",
    "\\begin{bmatrix}\n",
    "x  \\\\\n",
    "y  \\\\\n",
    "z \n",
    "\\end{bmatrix}= \\begin{bmatrix}\n",
    "-1 & -2 & 3 \\\\\n",
    "4 & 5 & 6 \\\\\n",
    "7 & 8 & 9\n",
    "\\end{bmatrix}^{-1}\\begin{bmatrix}\n",
    "1  \\\\\n",
    "4  \\\\\n",
    "3\\,.\n",
    "\\end{bmatrix}\n",
    "$$\n",
    "\n",
    "Note que este não é o método mais eficiente para resolver um sistema linear. "
   ]
  },
  {
   "cell_type": "markdown",
   "id": "ab0238b2",
   "metadata": {},
   "source": [
    "**7.** As matrizes de Hilbert têm a seguinte lei de formação $a_{ij}=1/(i+j-1)$ para $i=1,\\cdots,n$. Tais matrizes são muito usadas em testes de algoritmos numéricos, pelo fato de serem mal condicionadas. Construa uma função que calcula o número de condição (usando qualquer tipo de norma) de matrizes de Hilbert de ordem $3\\times 3, 4\\times 4, \\ldots, 40\\times 40$. Faça o mesmo para uma matriz de componentes aleatórias. Faça um gráfico simultâneo comparando a variação do número de condição para as duas matrizes. "
   ]
  },
  {
   "cell_type": "markdown",
   "id": "445b9842",
   "metadata": {},
   "source": [
    "**8.** Determine os autovalores e autovetores da matriz\n",
    "\n",
    "$$\n",
    "A = \\begin{bmatrix}\n",
    "4 & 1 & 2 & 0 \\\\\n",
    "1 & 3 & 0 & 1 \\\\\n",
    "2 & 0 & 2 & 3 \\\\\n",
    "0 & 1 & 3 & 4 \\\\\n",
    "\\end{bmatrix}\\,.\n",
    "$$\n",
    "\n"
   ]
  },
  {
   "cell_type": "markdown",
   "id": "93d8b11a",
   "metadata": {},
   "source": [
    "**8.** Resolva o sistema linear dado por \n",
    "\n",
    "$$\n",
    "\\left\\{\n",
    "\\begin{aligned}\n",
    "2x_1 + 3x_2 - x_3 + 4x_4 + x_5 & = 7 \\\\\n",
    "-3x_1 + 5x_2 + 2x_3 - 6x_4 + 8x_5 & = -2 \\\\\n",
    "4x_1 - x_2 + 7x_3 + 3x_4 - 5x_5 & = 10 \\\\\n",
    "x_1 + 6x_2 - 3x_3 + 2x_4 + 4x_5 & = 5 \\\\\n",
    "-2x_1 + 4x_2 + 5x_3 - x_4 + 6x_5 & = 1 \\\\\n",
    "\\end{aligned}\n",
    "\\right.\n",
    "$$\n",
    "\n",
    "e verifique o resultado. "
   ]
  }
 ],
 "metadata": {
  "kernelspec": {
   "display_name": "Python 3 (ipykernel)",
   "language": "python",
   "name": "python3"
  },
  "language_info": {
   "codemirror_mode": {
    "name": "ipython",
    "version": 3
   },
   "file_extension": ".py",
   "mimetype": "text/x-python",
   "name": "python",
   "nbconvert_exporter": "python",
   "pygments_lexer": "ipython3",
   "version": "3.9.13"
  }
 },
 "nbformat": 4,
 "nbformat_minor": 5
}
