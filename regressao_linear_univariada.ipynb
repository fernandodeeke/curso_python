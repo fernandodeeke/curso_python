{
 "cells": [
  {
   "cell_type": "markdown",
   "metadata": {},
   "source": [
    "<center><h1>Análise Numérica</h1></center>\n",
    "<center><h2>2022/1</h2></center> \n",
    "<center><h3>Regressão linear Univariada</h3></center>\n",
    "<center><h4>Prof. Fernando Deeke Sasse - CCT, UDESC</h4></center>"
   ]
  },
  {
   "cell_type": "markdown",
   "metadata": {},
   "source": [
    "### 1. Ajuste de retas pelo método de mínimos quadrados"
   ]
  },
  {
   "cell_type": "markdown",
   "metadata": {},
   "source": [
    "Usaremos a biblioteca opimize do scypy:"
   ]
  },
  {
   "cell_type": "code",
   "execution_count": 68,
   "metadata": {},
   "outputs": [],
   "source": [
    "import matplotlib.pyplot as plt\n",
    "import numpy as np\n",
    "import matplotlib.pyplot as plt"
   ]
  },
  {
   "cell_type": "markdown",
   "metadata": {},
   "source": [
    "Suponhamos que um experimento que descreve uma relação $x=x(t)$ produz os resultados mostrados na tabela abaixo:"
   ]
  },
  {
   "cell_type": "code",
   "execution_count": 69,
   "metadata": {},
   "outputs": [],
   "source": [
    "T = np.array([1.3,3.3,4.1,6.4,7.3,9.2])\n",
    "X = np.array([2.5,3.8,4.2,5.2,6.5,7.3])"
   ]
  },
  {
   "cell_type": "markdown",
   "metadata": {},
   "source": [
    "Façamos um gráfico destes pontos: "
   ]
  },
  {
   "cell_type": "code",
   "execution_count": 70,
   "metadata": {},
   "outputs": [
    {
     "data": {
      "text/plain": [
       "Text(0, 0.5, 'X')"
      ]
     },
     "execution_count": 70,
     "metadata": {},
     "output_type": "execute_result"
    },
    {
     "data": {
      "image/png": "[encoded data removed]",
      "text/plain": [
       "<Figure size 432x288 with 1 Axes>"
      ]
     },
     "metadata": {},
     "output_type": "display_data"
    }
   ],
   "source": [
    "plt.plot(T,X,'ro')\n",
    "plt.xlabel('T')\n",
    "plt.ylabel('X')"
   ]
  },
  {
   "cell_type": "markdown",
   "metadata": {},
   "source": [
    "Uma conclusão razoável é que a função $x(t)$ é linear e que o fato dos pontos não estarem exatamente sobre uma linha reta é devido a erros experimentais. Um vez feita tal suposição podemos nos perguntar como podemos determinar os coeficientes $a$ e $b$ reta\n",
    "$$\n",
    "                           x = at + b\n",
    "$$  \n",
    "que melhor se ajusta a esses dados. \n"
   ]
  },
  {
   "cell_type": "markdown",
   "metadata": {},
   "source": [
    "Suponhamos que uma suposição é feita sobre os valores de $a$ e $b$. Em geral,um ponto $(T_k,X_k)$ não estará exatamente sobre a reta, ou seja,\n",
    "\n",
    "$$\n",
    "aT_k+b-X_k \\neq 0\n",
    "$$\n",
    "\n",
    "Podemos definir um erro absoluto associado a este ponto, que depende de $a$ e $b$, dado por\n",
    "\n",
    "$$\n",
    "                 E_k(a,b)=|aT_k+b-X_k|\n",
    "$$\n",
    "\n",
    "Supondo que, em geral, temos $n$ pontos, o erro total $E(a,b)$ é a soma dos erros associados a todos os $n$ pontos: \n",
    "\n",
    "$$\n",
    "               E(a,b)=\\sum_{i=1}^{n} |aT_k+b-X_k|\n",
    "$$\n",
    "\n",
    "A próxima tarefa consiste em encontrar o ponto $(a,b)$ que minimiza esta função.\n",
    "\n",
    "Este problema éum exemplo de uma  aproximação $L_1$ e que pode ser resolvido por meio de técnicas de programação linear. Dependendo do número de pontos a complexidade deste problema em termos de número de operações pode ser muito custosa. O métodos do cálculo diferencial não podem ser aplicados, pois esta função não é diferenciável. \n"
   ]
  },
  {
   "cell_type": "markdown",
   "metadata": {},
   "source": [
    "Na prática, é mais conveniente minimizar a seguinte função de erro de $a$ e $b$: \n",
    "\n",
    "$$\n",
    "\\phi(a,b)=\\sum_{i=1}^{n} (aT_k+b-X_k)^2,\n",
    "$$\n",
    "\n",
    "que pode ser minimizada por meio de técnicas de cálculo. ALém disso, é possível mostrar que se os erros têm uma distribuição normal, então a minimização de $\\phi(a,b)$ produz o melhor estimador de $a$ e $b$. Esta é a chamada aproximação $L_2$. \n",
    "\n",
    "As condições necessárias para que um ponto $(a,b)$ seja um mínimo de $\\phi$ são\n",
    "\n",
    "$$\n",
    "\\frac{\\partial \\phi}{\\partial a}=0\\,,\\qquad \\frac{\\partial \\phi}{\\partial b}=0\\,.\n",
    "$$"
   ]
  },
  {
   "cell_type": "markdown",
   "metadata": {},
   "source": [
    "Em particular, \n",
    "\n",
    "$$\n",
    "\\frac{\\partial \\phi}{\\partial a}=\\sum_{i=1}^{n} 2T_k(aT_k+b-X_k)=0\n",
    "$$\n",
    "\n",
    "e\n",
    "\n",
    "$$\n",
    "\\frac{\\partial \\phi}{\\partial b}=\\sum_{i=1}^{n} 2(aT_k+b-X_k)=0\\,.\n",
    "$$\n",
    "\n",
    "Estas equações, chamadas *normais* podem ser também escritas como \n",
    "\n"
   ]
  },
  {
   "cell_type": "markdown",
   "metadata": {},
   "source": [
    "$$\n",
    "\\left(\\sum_{k=1}^n T_k^2\\right)a+\\left(\\sum_{k=1}^n T_k\\right)b= \\sum_{k=1}^n T_k X_k,\n",
    "$$"
   ]
  },
  {
   "cell_type": "markdown",
   "metadata": {},
   "source": [
    "$$\n",
    "\\left(\\sum_{k=1}^n T_k\\right)a+nb=\\sum_{k=1}^n X_k.\n",
    "$$"
   ]
  },
  {
   "cell_type": "markdown",
   "metadata": {},
   "source": [
    "Definindo\n",
    "\n",
    "$$\n",
    "p = \\sum_{k=1}^n T_k\\,,\\quad q=\\sum_{k=1}^n X_k\\,,\\quad\n",
    "r=\\sum_{k=1}^n T_k X_k\\,,\\quad s=\\sum_{k=1}^n T_k^2\\,,\n",
    "$$\n",
    "\n",
    "temos, de forma matricial, "
   ]
  },
  {
   "cell_type": "markdown",
   "metadata": {},
   "source": [
    "$$\n",
    "\\begin{bmatrix}\n",
    "s&p\\\\p&n\n",
    "\\end{bmatrix}= \n",
    "\\begin{bmatrix}\n",
    "a\\\\b\n",
    "\\end{bmatrix}=\\begin{bmatrix}\n",
    "r\\\\q\n",
    "\\end{bmatrix}\\,.\n",
    "$$"
   ]
  },
  {
   "cell_type": "markdown",
   "metadata": {},
   "source": [
    "Definindo \n",
    "\n",
    "$$\n",
    "\\Delta = det \\begin{bmatrix}\n",
    "s&p\\\\p&n\n",
    "\\end{bmatrix} = ns-p^2\\,,\n",
    "$$\n",
    "\n",
    "temos, usando a regra de Cramer, \n",
    "\n",
    "$$\n",
    "a = \\frac{1}{\\Delta}det\\begin{bmatrix}\n",
    "r&p\\\\q&n\n",
    "\\end{bmatrix}=\\frac{1}{d}(rn-pq)\\,,\n",
    "$$\n",
    "\n",
    "$$\n",
    "b = \\frac{1}{\\Delta}det\\begin{bmatrix}\n",
    "s&r\\\\p&q\n",
    "\\end{bmatrix}=\\frac{1}{d}(sq-pr)\\,.\n",
    "$$"
   ]
  },
  {
   "cell_type": "markdown",
   "metadata": {},
   "source": [
    "Voltemos ao nosso problema. Temos aqui "
   ]
  },
  {
   "cell_type": "code",
   "execution_count": 71,
   "metadata": {},
   "outputs": [],
   "source": [
    "p = np.sum(T)\n",
    "q = np.sum(X)\n",
    "r = np.sum(T*X)\n",
    "s = np.sum(T**2)\n",
    "n = np.size(T)"
   ]
  },
  {
   "cell_type": "code",
   "execution_count": 72,
   "metadata": {},
   "outputs": [],
   "source": [
    "d = n*s-p**2"
   ]
  },
  {
   "cell_type": "markdown",
   "metadata": {},
   "source": [
    "O coeficiente angular da reta é dado por"
   ]
  },
  {
   "cell_type": "code",
   "execution_count": 73,
   "metadata": {},
   "outputs": [
    {
     "data": {
      "text/plain": [
       "0.6100669002867147"
      ]
     },
     "execution_count": 73,
     "metadata": {},
     "output_type": "execute_result"
    }
   ],
   "source": [
    "a = 1/d*(r*n-p*q)\n",
    "a"
   ]
  },
  {
   "cell_type": "markdown",
   "metadata": {},
   "source": [
    "O coeficiente linear é:"
   ]
  },
  {
   "cell_type": "code",
   "execution_count": 74,
   "metadata": {},
   "outputs": [
    {
     "data": {
      "text/plain": [
       "1.7036476584899696"
      ]
     },
     "execution_count": 74,
     "metadata": {},
     "output_type": "execute_result"
    }
   ],
   "source": [
    "b = 1/d*(s*q-p*r)\n",
    "b"
   ]
  },
  {
   "cell_type": "markdown",
   "metadata": {},
   "source": [
    "Façamos o gráfico da reta: "
   ]
  },
  {
   "cell_type": "code",
   "execution_count": 75,
   "metadata": {},
   "outputs": [],
   "source": [
    "t = np.linspace(0, 10,100)"
   ]
  },
  {
   "cell_type": "code",
   "execution_count": 76,
   "metadata": {},
   "outputs": [
    {
     "data": {
      "text/plain": [
       "Text(0, 0.5, 'x')"
      ]
     },
     "execution_count": 76,
     "metadata": {},
     "output_type": "execute_result"
    },
    {
     "data": {
      "image/png": "[encoded data removed]",
      "text/plain": [
       "<Figure size 432x288 with 1 Axes>"
      ]
     },
     "metadata": {},
     "output_type": "display_data"
    }
   ],
   "source": [
    "plt.plot(t,a*t+b)\n",
    "plt.plot(T,X,'ro')\n",
    "plt.xlabel('t')\n",
    "plt.ylabel('x')"
   ]
  },
  {
   "cell_type": "markdown",
   "metadata": {},
   "source": [
    "Visualmente o ajuste parece bem feito. Podemos agora determinar $x(t)$ para valores não tabelados. Por exemplo determinemos $x(4.5)$. A função que define a reta é dada por"
   ]
  },
  {
   "cell_type": "code",
   "execution_count": 77,
   "metadata": {},
   "outputs": [],
   "source": [
    "def f(t, a, b):\n",
    "    return a*t + b"
   ]
  },
  {
   "cell_type": "markdown",
   "metadata": {},
   "source": [
    "Portanto,"
   ]
  },
  {
   "cell_type": "code",
   "execution_count": 78,
   "metadata": {},
   "outputs": [
    {
     "data": {
      "text/plain": [
       "4.45"
      ]
     },
     "execution_count": 78,
     "metadata": {},
     "output_type": "execute_result"
    }
   ],
   "source": [
    "round(f(4.5,a,b),2)"
   ]
  },
  {
   "cell_type": "markdown",
   "metadata": {},
   "source": [
    "Podemos resolver este problema diretamente, usando o comando curve_fit do scipy:"
   ]
  },
  {
   "cell_type": "code",
   "execution_count": 79,
   "metadata": {},
   "outputs": [],
   "source": [
    "from scipy.optimize import curve_fit"
   ]
  },
  {
   "cell_type": "code",
   "execution_count": 80,
   "metadata": {},
   "outputs": [],
   "source": [
    "def g(t, a, b):\n",
    "    return a*t+b"
   ]
  },
  {
   "cell_type": "markdown",
   "metadata": {},
   "source": [
    "O comando que realiza o ajuste pelo método de mínimos quadrados é o seguinte: "
   ]
  },
  {
   "cell_type": "code",
   "execution_count": 81,
   "metadata": {},
   "outputs": [],
   "source": [
    "param, pcov = curve_fit(g, T, X)"
   ]
  },
  {
   "cell_type": "markdown",
   "metadata": {},
   "source": [
    "O primeiro argumento é o array com os valores dos parâmetros (o segundo é a matriz de covariância, que não nos interessa neste momento):"
   ]
  },
  {
   "cell_type": "code",
   "execution_count": 82,
   "metadata": {},
   "outputs": [
    {
     "data": {
      "text/plain": [
       "array([0.6100669 , 1.70364765])"
      ]
     },
     "execution_count": 82,
     "metadata": {},
     "output_type": "execute_result"
    }
   ],
   "source": [
    "param"
   ]
  },
  {
   "cell_type": "markdown",
   "metadata": {},
   "source": [
    "que são os mesmos valores encontrados anteriormente. Façamos o gráfico correspondente:"
   ]
  },
  {
   "cell_type": "code",
   "execution_count": 83,
   "metadata": {},
   "outputs": [
    {
     "data": {
      "text/plain": [
       "Text(0, 0.5, 'x')"
      ]
     },
     "execution_count": 83,
     "metadata": {},
     "output_type": "execute_result"
    },
    {
     "data": {
      "image/png": "[encoded data removed]",
      "text/plain": [
       "<Figure size 432x288 with 1 Axes>"
      ]
     },
     "metadata": {},
     "output_type": "display_data"
    }
   ],
   "source": [
    "plt.plot(T,X,'ro', t, g(t, *param), 'g-')\n",
    "plt.xlabel('t')\n",
    "plt.ylabel('x')"
   ]
  },
  {
   "cell_type": "markdown",
   "metadata": {},
   "source": [
    "Podemos quantificar o erro no ajuste calculando o erro quadrático médio. Definimos o array que calcula o valor da função $g(t)$, agora com os parâmetros determinados, em cada componente do array $T$: "
   ]
  },
  {
   "cell_type": "code",
   "execution_count": 84,
   "metadata": {},
   "outputs": [
    {
     "data": {
      "text/plain": [
       "array([2.49673463, 3.71686843, 4.20492195, 5.60807582, 6.15713603,\n",
       "       7.31626314])"
      ]
     },
     "execution_count": 84,
     "metadata": {},
     "output_type": "execute_result"
    }
   ],
   "source": [
    "F = g(T,*param)\n",
    "F"
   ]
  },
  {
   "cell_type": "markdown",
   "metadata": {},
   "source": [
    "Podemos agora calcular o erro quadrático médio:"
   ]
  },
  {
   "cell_type": "code",
   "execution_count": 85,
   "metadata": {},
   "outputs": [
    {
     "data": {
      "text/plain": [
       "5.3958137275249056e-20"
      ]
     },
     "execution_count": 85,
     "metadata": {},
     "output_type": "execute_result"
    }
   ],
   "source": [
    "n=len(F)\n",
    "np.sum(F-X)**2/n"
   ]
  },
  {
   "cell_type": "markdown",
   "metadata": {},
   "source": [
    "### Ajuste de funções quaisquer pelo método de mínimos quadrados"
   ]
  },
  {
   "cell_type": "markdown",
   "metadata": {},
   "source": [
    "Esta técnica pode ser generalizada para ajustar qualquer função a um conjunto de dados. Por exemplo, suponhamos que temos os dados:"
   ]
  },
  {
   "cell_type": "code",
   "execution_count": 86,
   "metadata": {},
   "outputs": [],
   "source": [
    "x = np.array([1., 1.5,2.,3.,4.,5.])\n",
    "y = np.array([5.3,6.4,8.2,7.2,6.6,4.3])"
   ]
  },
  {
   "cell_type": "markdown",
   "metadata": {},
   "source": [
    "Façamos um gráfico destes pontos: "
   ]
  },
  {
   "cell_type": "code",
   "execution_count": 87,
   "metadata": {},
   "outputs": [
    {
     "data": {
      "text/plain": [
       "Text(0, 0.5, 'y')"
      ]
     },
     "execution_count": 87,
     "metadata": {},
     "output_type": "execute_result"
    },
    {
     "data": {
      "image/png": "[encoded data removed]",
      "text/plain": [
       "<Figure size 432x288 with 1 Axes>"
      ]
     },
     "metadata": {},
     "output_type": "display_data"
    }
   ],
   "source": [
    "plt.plot(x,y,'ro')\n",
    "plt.xlabel('x')\n",
    "plt.ylabel('y')"
   ]
  },
  {
   "cell_type": "markdown",
   "metadata": {},
   "source": [
    "Se quisermos, por exemplo ajustar a função $f(t) = a+bt+ct^2+d\\mbox{e}^{-t}$ a estes dados, devemos minimizar o erro:\n",
    "\n",
    "$$\n",
    "\\phi(a,b,c,d)=\\sum_{k=1..n}(a+bt_k+ct_k^2+\\mbox{e}^{-t_k})^2\n",
    "$$"
   ]
  },
  {
   "cell_type": "markdown",
   "metadata": {},
   "source": [
    "O ponto de mínimo deve satisfazer:\n",
    "\n",
    "$$\n",
    "\\frac{\\partial \\phi}{\\partial a}=0\\,,\\quad \\frac{\\partial \\phi}{\\partial b}=0\\,,\\quad\n",
    "\\frac{\\partial \\phi}{\\partial c}=0\\,,\\quad\n",
    "\\frac{\\partial \\phi}{\\partial d}=0\\,.\n",
    "$$"
   ]
  },
  {
   "cell_type": "markdown",
   "metadata": {},
   "source": [
    "Como os parâmetros a serem determinados aparecem linearmente, estas 4 condições geram 4 equações lineares que determinam os valores dos parâmetros que minimizam o erro. Note que se os parâmetros aparecerem de forma não linear na função de ajuste, a correspondente equação para os parâmetros será não-linear e sua solução pode ser difícil de ser encontrada. \n",
    "\n",
    "Façamos o ajuste diretamente, usando comandos do Python:"
   ]
  },
  {
   "cell_type": "code",
   "execution_count": 88,
   "metadata": {},
   "outputs": [],
   "source": [
    "def h(t, a, b,c,d):\n",
    "    return a + b*t+c*t**2 +d*np.exp(-t)"
   ]
  },
  {
   "cell_type": "code",
   "execution_count": 89,
   "metadata": {},
   "outputs": [],
   "source": [
    "param, pcov = curve_fit(h, x, y)"
   ]
  },
  {
   "cell_type": "code",
   "execution_count": 90,
   "metadata": {},
   "outputs": [
    {
     "data": {
      "text/plain": [
       "array([  9.94129038,   0.24102586,  -0.268331  , -12.8094166 ])"
      ]
     },
     "execution_count": 90,
     "metadata": {},
     "output_type": "execute_result"
    }
   ],
   "source": [
    "param"
   ]
  },
  {
   "cell_type": "markdown",
   "metadata": {},
   "source": [
    "Façamos o gráfico correspondente: "
   ]
  },
  {
   "cell_type": "code",
   "execution_count": 91,
   "metadata": {},
   "outputs": [],
   "source": [
    "t = np.linspace(0.9, 5.1,30)"
   ]
  },
  {
   "cell_type": "code",
   "execution_count": 92,
   "metadata": {},
   "outputs": [
    {
     "data": {
      "text/plain": [
       "Text(0, 0.5, 'y')"
      ]
     },
     "execution_count": 92,
     "metadata": {},
     "output_type": "execute_result"
    },
    {
     "data": {
      "image/png": "[encoded data removed]",
      "text/plain": [
       "<Figure size 432x288 with 1 Axes>"
      ]
     },
     "metadata": {},
     "output_type": "display_data"
    }
   ],
   "source": [
    "plt.plot(x,y,'ro', t, h(t, *param), 'g-')\n",
    "plt.xlabel('x')\n",
    "plt.ylabel('y')"
   ]
  },
  {
   "cell_type": "markdown",
   "metadata": {},
   "source": [
    "Podemos quantificar o erro no ajuste calculando o erro quadrático médio. Definimos o array que calcula o valor da função $f$, agora com os parâmetros determinados, em cada componente do array $x$: "
   ]
  },
  {
   "cell_type": "code",
   "execution_count": 93,
   "metadata": {},
   "outputs": [
    {
     "data": {
      "text/plain": [
       "array([5.20166422, 6.84091725, 7.61645209, 7.61164568, 6.3774852 ,\n",
       "       4.35183556])"
      ]
     },
     "execution_count": 93,
     "metadata": {},
     "output_type": "execute_result"
    }
   ],
   "source": [
    "H = h(x,*param)\n",
    "H"
   ]
  },
  {
   "cell_type": "markdown",
   "metadata": {},
   "source": [
    "Lembremos que os valores das ordenadas são dados por: "
   ]
  },
  {
   "cell_type": "code",
   "execution_count": 94,
   "metadata": {},
   "outputs": [
    {
     "data": {
      "text/plain": [
       "array([5.3, 6.4, 8.2, 7.2, 6.6, 4.3])"
      ]
     },
     "execution_count": 94,
     "metadata": {},
     "output_type": "execute_result"
    }
   ],
   "source": [
    "y"
   ]
  },
  {
   "cell_type": "markdown",
   "metadata": {},
   "source": [
    "Podemos agora calcular o erro quadrático médio: "
   ]
  },
  {
   "cell_type": "code",
   "execution_count": 95,
   "metadata": {},
   "outputs": [
    {
     "data": {
      "text/plain": [
       "1.977404313678284e-18"
      ]
     },
     "execution_count": 95,
     "metadata": {},
     "output_type": "execute_result"
    }
   ],
   "source": [
    "n=len(y)\n",
    "np.sum(H-y)**2/n"
   ]
  },
  {
   "cell_type": "markdown",
   "metadata": {},
   "source": [
    "Suponhamos que queremos inferir o valor de $y(0.5)$:"
   ]
  },
  {
   "cell_type": "code",
   "execution_count": 100,
   "metadata": {},
   "outputs": [
    {
     "data": {
      "text/plain": [
       "5.45"
      ]
     },
     "execution_count": 100,
     "metadata": {},
     "output_type": "execute_result"
    }
   ],
   "source": [
    "round(h(4.5,*param),2)"
   ]
  },
  {
   "cell_type": "markdown",
   "metadata": {},
   "source": [
    "### Método dos gradientes descendentes\n",
    "\n",
    "O método descrito anteriormente funciona bem para funções de uma variável e quando o número de pontos não é muito grande. Descreveremos agora um método mais apropriado para lidar com ajuste de funções de uma ou mais variável, que funciona bem com um número muito grande de pontos. "
   ]
  },
  {
   "cell_type": "markdown",
   "metadata": {},
   "source": [
    "Supondo que temos $m$ dados, o objetivo da regressão linear, neste contexto, é minimizar a função de custo\n",
    "\n",
    "$$J(\\theta) = \\frac{1}{2m} \\sum_{i=1}^m (h_\\theta(x^{(i)}) - y^{(i)} )^2$$\n",
    "\n",
    "sendo $y^{(i)}$ os valores observados e $h_{\\theta}(x)$ a hipótese, dada pelo modelo linear\n",
    "\n",
    "$$h_{\\theta}(x) = \\theta^Tx = \\theta_0 + \\theta_1x_1$$\n",
    "\n",
    "Para fins computacionais na expressão acima definimos os vetores\n",
    "\n",
    "$$\n",
    "\\theta^T = [\\theta_0 \\,\\,\\theta_1]\\,,\\qquad x^T = [ 1,x_1]\\,.\n",
    "$$"
   ]
  },
  {
   "cell_type": "markdown",
   "metadata": {},
   "source": [
    "O método dos gradientes descendentes consiste em  minimizar a função de custo $J(\\theta)$ iterando \n",
    "        \n",
    "$$\n",
    "\\theta_j := \\theta_j - \\alpha \\frac{1}{m} \\sum_{i=1}^m (h_{\\theta}(x^{(i)}) - y^{(i)})x_j^{(i)},\n",
    "$$ \n",
    "\n",
    "atualizando simultaneamente $\\theta_j$ para  $j=0,1$, até que ocorra a convergência. O valor de $\\alpha$ define o passo deve ser ajustado de modo que a convergência não seja muito lenta (se for muito pequeno), nem ultrapasse o mínimo (se for muito grande). "
   ]
  },
  {
   "cell_type": "markdown",
   "metadata": {},
   "source": [
    "Vejamos um exemplo [1] que envolve a relação dos lucros de uma companhia que faz compartilhamento de bicicletas e a população da cidade na qual esta companhia oferece o serviço. Importaremos os dados do arquivo bike_sharing_data.txt. Usaremos a biblioteca pandas para melhor visualização dos dados:"
   ]
  },
  {
   "cell_type": "code",
   "execution_count": 13,
   "metadata": {},
   "outputs": [],
   "source": [
    "import pandas as pd"
   ]
  },
  {
   "cell_type": "code",
   "execution_count": 14,
   "metadata": {},
   "outputs": [],
   "source": [
    "data = pd.read_csv('bike_sharing_data.txt')"
   ]
  },
  {
   "cell_type": "markdown",
   "metadata": {},
   "source": [
    "Podemos visulizar as primeiras linhas do arquivo:"
   ]
  },
  {
   "cell_type": "code",
   "execution_count": 15,
   "metadata": {},
   "outputs": [
    {
     "data": {
      "text/html": [
       "<div>\n",
       "<style scoped>\n",
       "    .dataframe tbody tr th:only-of-type {\n",
       "        vertical-align: middle;\n",
       "    }\n",
       "\n",
       "    .dataframe tbody tr th {\n",
       "        vertical-align: top;\n",
       "    }\n",
       "\n",
       "    .dataframe thead th {\n",
       "        text-align: right;\n",
       "    }\n",
       "</style>\n",
       "<table border=\"1\" class=\"dataframe\">\n",
       "  <thead>\n",
       "    <tr style=\"text-align: right;\">\n",
       "      <th></th>\n",
       "      <th>Population</th>\n",
       "      <th>Profit</th>\n",
       "    </tr>\n",
       "  </thead>\n",
       "  <tbody>\n",
       "    <tr>\n",
       "      <th>0</th>\n",
       "      <td>6.1101</td>\n",
       "      <td>17.5920</td>\n",
       "    </tr>\n",
       "    <tr>\n",
       "      <th>1</th>\n",
       "      <td>5.5277</td>\n",
       "      <td>9.1302</td>\n",
       "    </tr>\n",
       "    <tr>\n",
       "      <th>2</th>\n",
       "      <td>8.5186</td>\n",
       "      <td>13.6620</td>\n",
       "    </tr>\n",
       "    <tr>\n",
       "      <th>3</th>\n",
       "      <td>7.0032</td>\n",
       "      <td>11.8540</td>\n",
       "    </tr>\n",
       "    <tr>\n",
       "      <th>4</th>\n",
       "      <td>5.8598</td>\n",
       "      <td>6.8233</td>\n",
       "    </tr>\n",
       "  </tbody>\n",
       "</table>\n",
       "</div>"
      ],
      "text/plain": [
       "   Population   Profit\n",
       "0      6.1101  17.5920\n",
       "1      5.5277   9.1302\n",
       "2      8.5186  13.6620\n",
       "3      7.0032  11.8540\n",
       "4      5.8598   6.8233"
      ]
     },
     "execution_count": 15,
     "metadata": {},
     "output_type": "execute_result"
    }
   ],
   "source": [
    "data.head()"
   ]
  },
  {
   "cell_type": "markdown",
   "metadata": {},
   "source": [
    "Os dados das duas colunas estão em unidades de 10000. Outras informações podem ser obtidas por meio do atributo:"
   ]
  },
  {
   "cell_type": "code",
   "execution_count": 16,
   "metadata": {},
   "outputs": [
    {
     "name": "stdout",
     "output_type": "stream",
     "text": [
      "<class 'pandas.core.frame.DataFrame'>\n",
      "RangeIndex: 97 entries, 0 to 96\n",
      "Data columns (total 2 columns):\n",
      " #   Column      Non-Null Count  Dtype  \n",
      "---  ------      --------------  -----  \n",
      " 0   Population  97 non-null     float64\n",
      " 1   Profit      97 non-null     float64\n",
      "dtypes: float64(2)\n",
      "memory usage: 1.6 KB\n"
     ]
    }
   ],
   "source": [
    "data.info()"
   ]
  },
  {
   "cell_type": "markdown",
   "metadata": {},
   "source": [
    "Ou seja, temos dados de 97 cidades. Façamos um gráfico:"
   ]
  },
  {
   "cell_type": "code",
   "execution_count": 17,
   "metadata": {},
   "outputs": [],
   "source": [
    "import matplotlib.pyplot as plt\n",
    "import seaborn as sns"
   ]
  },
  {
   "cell_type": "code",
   "execution_count": 20,
   "metadata": {},
   "outputs": [
    {
     "data": {
      "image/png": "[encoded data removed]",
      "text/plain": [
       "<Figure size 432x288 with 1 Axes>"
      ]
     },
     "metadata": {
      "needs_background": "light"
     },
     "output_type": "display_data"
    }
   ],
   "source": [
    "ax = sns.scatterplot(x= \"Population\", y=\"Profit\", data=data)\n",
    "ax.set_title(\"Lucro em US$10000 vs  População em 10000\");"
   ]
  },
  {
   "cell_type": "markdown",
   "metadata": {},
   "source": [
    "Usando ggplot, temos um estilo mais elegante de gráfico:"
   ]
  },
  {
   "cell_type": "code",
   "execution_count": 22,
   "metadata": {},
   "outputs": [
    {
     "data": {
      "image/png": "[encoded data removed]",
      "text/plain": [
       "<Figure size 432x288 with 1 Axes>"
      ]
     },
     "metadata": {},
     "output_type": "display_data"
    }
   ],
   "source": [
    "plt.style.use('ggplot')\n",
    "ax = sns.scatterplot(x= \"Population\", y=\"Profit\", data=data)\n",
    "ax.set_title(\"Lucro em US$10000 vs  População em 10000\");"
   ]
  },
  {
   "cell_type": "markdown",
   "metadata": {},
   "source": [
    "Este gráfico indica que um ajuste linear é apropriado. Implementemos função de custo:"
   ]
  },
  {
   "cell_type": "code",
   "execution_count": 23,
   "metadata": {},
   "outputs": [],
   "source": [
    "def cost_function(X,y,theta):\n",
    "    m = len(y)\n",
    "    y_pred = X.dot(theta)\n",
    "    error = (y_pred-y)**2\n",
    "    return 1/(2*m)*np.sum(error)"
   ]
  },
  {
   "cell_type": "markdown",
   "metadata": {},
   "source": [
    "Especificamos o tamanho da amostra:"
   ]
  },
  {
   "cell_type": "code",
   "execution_count": 24,
   "metadata": {},
   "outputs": [
    {
     "data": {
      "text/plain": [
       "97"
      ]
     },
     "execution_count": 24,
     "metadata": {},
     "output_type": "execute_result"
    }
   ],
   "source": [
    "m = data.Population.values.size\n",
    "m"
   ]
  },
  {
   "cell_type": "code",
   "execution_count": 26,
   "metadata": {},
   "outputs": [],
   "source": [
    "import numpy as np"
   ]
  },
  {
   "cell_type": "markdown",
   "metadata": {},
   "source": [
    "Atribuímos os valores de população à matriz $x = [1, x_1]$:"
   ]
  },
  {
   "cell_type": "code",
   "execution_count": 32,
   "metadata": {},
   "outputs": [
    {
     "data": {
      "text/plain": [
       "array([[1.    , 6.1101],\n",
       "       [1.    , 5.5277],\n",
       "       [1.    , 8.5186],\n",
       "       [1.    , 7.0032],\n",
       "       [1.    , 5.8598],\n",
       "       [1.    , 8.3829],\n",
       "       [1.    , 7.4764],\n",
       "       [1.    , 8.5781],\n",
       "       [1.    , 6.4862],\n",
       "       [1.    , 5.0546]])"
      ]
     },
     "execution_count": 32,
     "metadata": {},
     "output_type": "execute_result"
    }
   ],
   "source": [
    "x = np.append(np.ones((m,1)),data.Population.values.reshape(m,1), axis =1)\n",
    "x[0:10]"
   ]
  },
  {
   "cell_type": "markdown",
   "metadata": {},
   "source": [
    "Os dados de lucro são armazenados no vetor $y$:"
   ]
  },
  {
   "cell_type": "code",
   "execution_count": 34,
   "metadata": {},
   "outputs": [
    {
     "data": {
      "text/plain": [
       "array([[17.592 ],\n",
       "       [ 9.1302],\n",
       "       [13.662 ],\n",
       "       [11.854 ],\n",
       "       [ 6.8233],\n",
       "       [11.886 ],\n",
       "       [ 4.3483],\n",
       "       [12.    ],\n",
       "       [ 6.5987],\n",
       "       [ 3.8166]])"
      ]
     },
     "execution_count": 34,
     "metadata": {},
     "output_type": "execute_result"
    }
   ],
   "source": [
    "y = data.Profit.values.reshape(m,1)\n",
    "y[0:10]"
   ]
  },
  {
   "cell_type": "markdown",
   "metadata": {},
   "source": [
    "O vetor de parâmetros $\\theta=[\\theta_0,\\theta_1]^T$ terá valor inicial nulo:"
   ]
  },
  {
   "cell_type": "code",
   "execution_count": 35,
   "metadata": {},
   "outputs": [
    {
     "data": {
      "text/plain": [
       "array([[0.],\n",
       "       [0.]])"
      ]
     },
     "execution_count": 35,
     "metadata": {},
     "output_type": "execute_result"
    }
   ],
   "source": [
    "theta = np.zeros((2,1))\n",
    "theta"
   ]
  },
  {
   "cell_type": "markdown",
   "metadata": {},
   "source": [
    "Testemos a função de custo com estes valores:"
   ]
  },
  {
   "cell_type": "code",
   "execution_count": 36,
   "metadata": {},
   "outputs": [
    {
     "data": {
      "text/plain": [
       "32.072733877455676"
      ]
     },
     "execution_count": 36,
     "metadata": {},
     "output_type": "execute_result"
    }
   ],
   "source": [
    "cost_function(X,y,theta)"
   ]
  },
  {
   "cell_type": "markdown",
   "metadata": {},
   "source": [
    "Definimos a função que itera os valores de $\\theta$ e examina como varia a função de custo:"
   ]
  },
  {
   "cell_type": "code",
   "execution_count": 37,
   "metadata": {},
   "outputs": [],
   "source": [
    "def gradient_descent(X,y,theta,alpha,iterations):\n",
    "    m = len(y)\n",
    "    costs = []\n",
    "    for i in range(iterations):\n",
    "        y_pred = X.dot(theta)\n",
    "        error = np.dot(X.transpose(),(y_pred-y))\n",
    "        theta -=alpha*1/m*error\n",
    "        costs.append(cost_function(X,y,theta))\n",
    "    return theta, costs"
   ]
  },
  {
   "cell_type": "markdown",
   "metadata": {},
   "source": [
    "Façamos um teste com $\\alpha = 0.01$:"
   ]
  },
  {
   "cell_type": "code",
   "execution_count": 38,
   "metadata": {},
   "outputs": [],
   "source": [
    "theta, costs = gradient_descent(X,y,theta, alpha=0.01, iterations=2000)"
   ]
  },
  {
   "cell_type": "code",
   "execution_count": 39,
   "metadata": {},
   "outputs": [
    {
     "data": {
      "text/plain": [
       "-3.7880685727231094"
      ]
     },
     "execution_count": 39,
     "metadata": {},
     "output_type": "execute_result"
    }
   ],
   "source": [
    "theta[0,0]"
   ]
  },
  {
   "cell_type": "code",
   "execution_count": 41,
   "metadata": {},
   "outputs": [
    {
     "data": {
      "text/plain": [
       "1.1822127747573767"
      ]
     },
     "execution_count": 41,
     "metadata": {},
     "output_type": "execute_result"
    }
   ],
   "source": [
    "theta[1,0]"
   ]
  },
  {
   "cell_type": "code",
   "execution_count": 42,
   "metadata": {},
   "outputs": [
    {
     "data": {
      "text/plain": [
       "array([[-3.78806857],\n",
       "       [ 1.18221277]])"
      ]
     },
     "execution_count": 42,
     "metadata": {},
     "output_type": "execute_result"
    }
   ],
   "source": [
    "theta"
   ]
  },
  {
   "cell_type": "markdown",
   "metadata": {},
   "source": [
    "Para fazer o gráfico da reta resultante, transformemos $\\theta$ em um array 1D:"
   ]
  },
  {
   "cell_type": "code",
   "execution_count": 45,
   "metadata": {},
   "outputs": [
    {
     "data": {
      "text/plain": [
       "array([-3.78806857,  1.18221277])"
      ]
     },
     "execution_count": 45,
     "metadata": {},
     "output_type": "execute_result"
    }
   ],
   "source": [
    "theta = np.squeeze(theta)\n",
    "theta"
   ]
  },
  {
   "cell_type": "markdown",
   "metadata": {},
   "source": [
    "Façamos o gráfico:"
   ]
  },
  {
   "cell_type": "code",
   "execution_count": 55,
   "metadata": {},
   "outputs": [
    {
     "data": {
      "text/plain": [
       "Text(0.5, 1.0, 'Linear Regression')"
      ]
     },
     "execution_count": 55,
     "metadata": {},
     "output_type": "execute_result"
    },
    {
     "data": {
      "image/png": "[encoded data removed]",
      "text/plain": [
       "<Figure size 432x288 with 1 Axes>"
      ]
     },
     "metadata": {},
     "output_type": "display_data"
    }
   ],
   "source": [
    "sns.scatterplot(x=\"Population\", y=\"Profit\", data=data)\n",
    "x_value = [x for x in range(5,25)]\n",
    "y_value = [(x*theta[1]+theta[0]) for x in x_value]\n",
    "plt.plot(x_value,y_value,'b-')\n",
    "plt.xlabel(\"Population in 10000\")\n",
    "plt.ylabel(\"Profit in $10,000.00\")\n",
    "plt.title(\"Linear Regression\")"
   ]
  },
  {
   "cell_type": "markdown",
   "metadata": {},
   "source": [
    "### Inferência usando os valores otimizados de $\\theta$"
   ]
  },
  {
   "cell_type": "markdown",
   "metadata": {},
   "source": [
    "Com $\\theta$ já calculado podemos definir a função que faz as predições para o lucro\n",
    "\n",
    "$$\n",
    "h_{\\theta}(x) = \\theta^T x\n",
    "$$"
   ]
  },
  {
   "cell_type": "code",
   "execution_count": 56,
   "metadata": {},
   "outputs": [],
   "source": [
    "def predict(x,theta):\n",
    "    y_pred = np.dot(theta.transpose(),x)\n",
    "    return y_pred"
   ]
  },
  {
   "cell_type": "markdown",
   "metadata": {},
   "source": [
    "Por exemplo, "
   ]
  },
  {
   "cell_type": "code",
   "execution_count": 61,
   "metadata": {},
   "outputs": [
    {
     "name": "stdout",
     "output_type": "stream",
     "text": [
      "Predição de lucro para uma população de 40000: US$9407.83\n"
     ]
    }
   ],
   "source": [
    "y_pred1 = predict(np.array([1,4]),theta)*10000\n",
    "print(\"Predição de lucro para uma população de 40000: US$\" +str(round(y_pred1,2)))"
   ]
  },
  {
   "cell_type": "code",
   "execution_count": 62,
   "metadata": {},
   "outputs": [
    {
     "name": "stdout",
     "output_type": "stream",
     "text": [
      "Predição de lucro para uma população de 83000: US$60242.97\n"
     ]
    }
   ],
   "source": [
    "y_pred2 = predict(np.array([1,8.3]),theta)*10000\n",
    "print(\"Predição de lucro para uma população de 83000: US$\" +str(round(y_pred2,2)))"
   ]
  },
  {
   "cell_type": "markdown",
   "metadata": {},
   "source": [
    "<h3>Exercícios</h3> "
   ]
  },
  {
   "cell_type": "markdown",
   "metadata": {},
   "source": [
    "**1.** Considere a funções $f(t) = a+bt+ct^2+dt^3+f\\mbox{e}^{-t}$ e $f(t) = a+bt+ct^2+dt^3+f t^4$ e verifique, usando curve_fit, se cada ajuste é melhor ou pior do que o do exemplo para os dados  "
   ]
  },
  {
   "cell_type": "code",
   "execution_count": 2,
   "metadata": {},
   "outputs": [],
   "source": [
    "import numpy as np"
   ]
  },
  {
   "cell_type": "code",
   "execution_count": 3,
   "metadata": {},
   "outputs": [],
   "source": [
    "x = np.array([1., 1.5,2.,3.,4.,5.])\n",
    "y = np.array([5.3,6.4,8.2,7.2,6.6,4.3])"
   ]
  },
  {
   "cell_type": "markdown",
   "metadata": {},
   "source": [
    "**2.** Sejam os pontos: "
   ]
  },
  {
   "cell_type": "code",
   "execution_count": 227,
   "metadata": {},
   "outputs": [],
   "source": [
    "x = np.array([1.1,1.5,2.6, 2.8,3.3,4.3,5.4,6.8,7.3])\n",
    "y = np.array([4.3,5.3,6.4,7.2,7.1,6.3,5.4, 3.5,3.2])"
   ]
  },
  {
   "cell_type": "markdown",
   "metadata": {},
   "source": [
    "Determine uma função (escolha a forma), linear em 4 parâmetros, que se ajuste a estes dados, usando o método dos mínimos quadrados. Use curve_fit."
   ]
  },
  {
   "cell_type": "markdown",
   "metadata": {},
   "source": [
    "**3.** Resolva o problema do ajuste linear \"número de habitantes vs lucro\" usando o método dos mínimos quadrados (curve_fit) e compare com o resultado obtido usando gradientes descendentes."
   ]
  },
  {
   "cell_type": "markdown",
   "metadata": {},
   "source": [
    "**4.** Use os dados de advertising.csv [2] e use o método de gradientes descendentes para determinar os ajustes lineares univariados de vendas por propaganda em (i) TV, (ii) rádio e (iii) jornal."
   ]
  },
  {
   "cell_type": "markdown",
   "metadata": {},
   "source": [
    "### Bibliografia\n",
    "\n",
    "**1.** Snehan Kekre, Linear Regression with NumPy and Python, Coursera Project Network, https://www.coursera.org/projects/linear-regression-numpy-python\n",
    "\n",
    "**2.** Gareth James, Daniela Witten, Trevor Hastie, Robert Tibshirani. An Introduction to Statistical Learning, 2nd ed., Springer, 2021.  https://www.statlearning.com/resources-second-edition"
   ]
  },
  {
   "cell_type": "code",
   "execution_count": null,
   "metadata": {},
   "outputs": [],
   "source": []
  }
 ],
 "metadata": {
  "kernelspec": {
   "display_name": "Python 3",
   "language": "python",
   "name": "python3"
  },
  "language_info": {
   "codemirror_mode": {
    "name": "ipython",
    "version": 3
   },
   "file_extension": ".py",
   "mimetype": "text/x-python",
   "name": "python",
   "nbconvert_exporter": "python",
   "pygments_lexer": "ipython3",
   "version": "3.8.5"
  }
 },
 "nbformat": 4,
 "nbformat_minor": 2
}
