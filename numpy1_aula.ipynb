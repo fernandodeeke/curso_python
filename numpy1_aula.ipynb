{
 "cells": [
  {
   "cell_type": "markdown",
   "metadata": {
    "id": "EcmeLozkEW-5"
   },
   "source": [
    "<center><h1>Aprendendo Matemática com Python</h1></center>\n",
    "<center><h2>Curso de Extensão</h2></center>\n",
    "<center><h3>Sidnei Furtado e Fernando Sasse e </h3></center>\n",
    "<center><h3>CCT - UDESC</h3></center>\n",
    "<center><h2>Introdução ao NumPy: Arrays</h2></center>"
   ]
  },
  {
   "cell_type": "markdown",
   "metadata": {
    "id": "x0TXlWT5EW-7",
    "jp-MarkdownHeadingCollapsed": true
   },
   "source": [
    "### 1. Introdução\n",
    "\n",
    "Apresentaremos neste *notebook* uma introdução à biblioteca do Python chamado NumPy (Numerical Python, que é um pacote de código aberto amplamente utilizado em ciência e engenharia. NumPy é o principal pacote para computação científica em Python. Ele executa uma ampla variedade de operações matemáticas avançadas com alta eficiência. Veja a documentação completa do NumPy [aqui](https://numpy.org/doc/stable/index.html)."
   ]
  },
  {
   "cell_type": "markdown",
   "metadata": {
    "id": "ZidhSiEMEW-8"
   },
   "source": [
    "### 2. Importando a biblioteca Numpy"
   ]
  },
  {
   "cell_type": "markdown",
   "metadata": {
    "id": "UzXeW22qEW-8"
   },
   "source": [
    "Antes de tudo devemos carregar a biblioteca na seção. Um modo de fazer isso é o seguinte:"
   ]
  },
  {
   "cell_type": "code",
   "execution_count": null,
   "metadata": {
    "id": "m_jc0TPyEW-9"
   },
   "outputs": [],
   "source": []
  },
  {
   "cell_type": "markdown",
   "metadata": {
    "id": "PC1FTApOEW--"
   },
   "source": [
    "Notemos no comando acima que o nome np é definido pelo usário. Ele será o prefixo a ser usado em todos os comandos da biblioteca NumPy. O nome np é convencionalmente utilizado."
   ]
  },
  {
   "cell_type": "markdown",
   "metadata": {
    "id": "3GHXlTkGEW--"
   },
   "source": [
    "### 3. Arrays 1-dimensionais básicos\n",
    "\n",
    "O elemento básico do Numpy é um objeto multidimensional chamado *array*. Por exemplo, criemos um array de ordem (*rank*). Um *array* 1-dimensional (1D ou 1-array) do Numpy pode ser criado da seguinte forma:"
   ]
  },
  {
   "cell_type": "code",
   "execution_count": null,
   "metadata": {
    "id": "qRBUSp5jEW--",
    "outputId": "d48990ad-5f22-492c-a6a3-351693a6c4f2"
   },
   "outputs": [],
   "source": []
  },
  {
   "cell_type": "markdown",
   "metadata": {
    "id": "XX4OzZ1pEW-_"
   },
   "source": [
    "Poderíamos também ter escrito:"
   ]
  },
  {
   "cell_type": "code",
   "execution_count": null,
   "metadata": {
    "id": "_StBn5O2EW-_",
    "outputId": "bb684e36-c06c-43b9-bf1c-3a4195e95fd5"
   },
   "outputs": [],
   "source": []
  },
  {
   "cell_type": "markdown",
   "metadata": {
    "id": "5eXkTnKnEW-_"
   },
   "source": [
    "Verifiquemos o tipo de objeto:"
   ]
  },
  {
   "cell_type": "code",
   "execution_count": null,
   "metadata": {
    "id": "cb1Esd2mEW_A",
    "outputId": "cea7c9ad-ee05-4d8e-b01a-ed6a476708ad"
   },
   "outputs": [],
   "source": []
  },
  {
   "cell_type": "markdown",
   "metadata": {
    "id": "ekeaTLhjEW_A"
   },
   "source": [
    "A princípio o 1-array parace similar a uma lista, que é o elemento mais básico do Python:"
   ]
  },
  {
   "cell_type": "code",
   "execution_count": null,
   "metadata": {
    "id": "Ui_QwEIUEW_A",
    "outputId": "ca89a157-2508-4ca7-bb0d-6507c8f97388"
   },
   "outputs": [],
   "source": []
  },
  {
   "cell_type": "markdown",
   "metadata": {
    "id": "EiCf1kuHEW_A"
   },
   "source": [
    "No entanto, como veremos mais adiante, listas possuem diversas limitações para uso em cálculos numéricos. Podemos  criar um array a partir de uma lista:"
   ]
  },
  {
   "cell_type": "code",
   "execution_count": null,
   "metadata": {
    "id": "MJ1i2QuEEW_B"
   },
   "outputs": [],
   "source": []
  },
  {
   "cell_type": "code",
   "execution_count": null,
   "metadata": {
    "id": "oDTykgm5EW_B",
    "outputId": "c8b491c1-c139-49b7-f002-8aa15ba5b3d2"
   },
   "outputs": [],
   "source": []
  },
  {
   "cell_type": "markdown",
   "metadata": {
    "id": "uu4AMa1HEW_B"
   },
   "source": [
    "Consideremos novamente o *1-array* a. Sua forma é"
   ]
  },
  {
   "cell_type": "code",
   "execution_count": null,
   "metadata": {
    "id": "ZzjDCJk3EW_B",
    "outputId": "b1e1b329-e40d-471c-d7e4-4ca064af6a15"
   },
   "outputs": [],
   "source": []
  },
  {
   "cell_type": "markdown",
   "metadata": {
    "id": "A8QPsKhfEW_B"
   },
   "source": [
    "ou seje, ele tem 5 elementos ao longo de um eixo. O índices de um array começam em 0. Por exemplos, selecionemos uma dada componente"
   ]
  },
  {
   "cell_type": "code",
   "execution_count": null,
   "metadata": {
    "id": "qe1Y8-1xEW_B",
    "outputId": "10d77bf0-7a63-4884-d40c-f99d823c00ad"
   },
   "outputs": [],
   "source": []
  },
  {
   "cell_type": "code",
   "execution_count": null,
   "metadata": {
    "id": "0t4urAotEW_C",
    "outputId": "7d00d9aa-25fa-497f-8e33-3baeddd7cd0e"
   },
   "outputs": [],
   "source": []
  },
  {
   "cell_type": "markdown",
   "metadata": {
    "id": "y3XJQfT7EW_C"
   },
   "source": [
    "A indexação é cíclica. Por exemplo:"
   ]
  },
  {
   "cell_type": "code",
   "execution_count": null,
   "metadata": {
    "id": "JiAYSUdHEW_C",
    "outputId": "7c2ec60a-2ff4-4b3d-8b09-136e7b489ad7"
   },
   "outputs": [],
   "source": []
  },
  {
   "cell_type": "markdown",
   "metadata": {
    "id": "KSvwVWQVEW_C"
   },
   "source": [
    "### 4. Arrays n-dimensionais"
   ]
  },
  {
   "cell_type": "markdown",
   "metadata": {
    "id": "ibt6EGkmEW_C"
   },
   "source": [
    "Arrays podem ter um número arbitrário de dimensões e formas. Aqui está um exemplo array de 2 dimensões, de formato $4\\times 3$:"
   ]
  },
  {
   "cell_type": "code",
   "execution_count": null,
   "metadata": {
    "id": "zg6ce8hiEW_C",
    "outputId": "038fb778-3dad-4651-e6b5-e797f2cad59b"
   },
   "outputs": [],
   "source": []
  },
  {
   "cell_type": "markdown",
   "metadata": {
    "id": "H73Qk9ClEW_D"
   },
   "source": [
    "Podemos examinar a forma e a dimensão do array por meio dos chamados atributos:"
   ]
  },
  {
   "cell_type": "code",
   "execution_count": null,
   "metadata": {
    "id": "KyVuvNJgEW_D",
    "outputId": "a8cd581d-143a-4661-e611-aea9b2883b99"
   },
   "outputs": [],
   "source": []
  },
  {
   "cell_type": "code",
   "execution_count": null,
   "metadata": {
    "id": "45yzLBIFEW_D",
    "outputId": "363ab1c0-2f06-474e-9b50-519ad7a44239"
   },
   "outputs": [],
   "source": []
  },
  {
   "cell_type": "markdown",
   "metadata": {
    "id": "xS1V--0bEW_D"
   },
   "source": [
    "As primeira dimensão é composta por pelas 4 listas $[ 1,  2,  3]$,  $[ 4,  5,  6]$, $[ 3,  4,  5]$, $[ 3,  1, -2]$. A segunda dimensão é composta pelos 3 elementos de cada lista. A dimensão é sempre igual ao número de componentes na expressão do formato. Os 2-arrays são de especial interesse em matemática, pois estão associados a matrizes, que trataremos em detalhe no próximo curso."
   ]
  },
  {
   "cell_type": "markdown",
   "metadata": {
    "id": "SsrF3-HmEW_D"
   },
   "source": [
    "O exemplo a seguir é o de um array 3-dimensional de formato $4\\times 2\\times 5$:"
   ]
  },
  {
   "cell_type": "code",
   "execution_count": null,
   "metadata": {
    "id": "GgFOH4zTEW_E"
   },
   "outputs": [],
   "source": [
    "# Cria 4x2x5 3-array\n",
    "array_3d = np.array([[[1, 2, 3, 5, 3],\n",
    "                      [4, 5, 6, 2, 6]],\n",
    "\n",
    "                      [[1, 2, 3, 5, 3],\n",
    "                      [4, 5, 6, 2, 1]],\n",
    "\n",
    "                      [[10, 11, 12, 23, 35],\n",
    "                      [13, 14, 15, 31, 12]],\n",
    "\n",
    "                      [[19, 20, 21, 25, 14],\n",
    "                      [22, 23, 24, -43, 23]]])"
   ]
  },
  {
   "cell_type": "code",
   "execution_count": null,
   "metadata": {
    "id": "SsD8Xuh0EW_E",
    "outputId": "f5608466-564b-453a-ce2d-25cf691709d9"
   },
   "outputs": [],
   "source": []
  },
  {
   "cell_type": "code",
   "execution_count": null,
   "metadata": {
    "id": "Wqn52DvhEW_E",
    "outputId": "281135c9-3f0a-48bd-cafd-4aef3e53874e"
   },
   "outputs": [],
   "source": []
  },
  {
   "cell_type": "markdown",
   "metadata": {
    "id": "UrKzRSRxEW_E"
   },
   "source": [
    "Nesse curso nos dedicaremos aos 1-arrays. É importante notar que"
   ]
  },
  {
   "cell_type": "code",
   "execution_count": null,
   "metadata": {
    "id": "bKM7NTfcEW_E"
   },
   "outputs": [],
   "source": []
  },
  {
   "cell_type": "markdown",
   "metadata": {
    "id": "lr8rZZwQEW_E"
   },
   "source": [
    "é um 1-array:"
   ]
  },
  {
   "cell_type": "code",
   "execution_count": null,
   "metadata": {
    "id": "KCTj1TGgEW_F",
    "outputId": "a7bab32b-2b25-450f-af1d-d5855327a700"
   },
   "outputs": [],
   "source": []
  },
  {
   "cell_type": "markdown",
   "metadata": {
    "id": "MWh3VCGEEW_J"
   },
   "source": [
    "Por outro lado,"
   ]
  },
  {
   "cell_type": "code",
   "execution_count": null,
   "metadata": {
    "id": "4ktRdOryEW_K"
   },
   "outputs": [],
   "source": []
  },
  {
   "cell_type": "markdown",
   "metadata": {
    "id": "SBIk3KzzEW_K"
   },
   "source": [
    "é um 2-array de formato $1\\times 4$:"
   ]
  },
  {
   "cell_type": "code",
   "execution_count": null,
   "metadata": {
    "id": "cpPRD2y5EW_K",
    "outputId": "2ec46c72-8c87-42c3-f30b-250d81bb95a8"
   },
   "outputs": [],
   "source": []
  },
  {
   "cell_type": "markdown",
   "metadata": {
    "id": "6QcBMTsOEW_K"
   },
   "source": [
    "Esse fato será importante quando abordarmos matrizes e sistemas de equações (curso seguinte)."
   ]
  },
  {
   "cell_type": "markdown",
   "metadata": {},
   "source": [
    "### 5. Eixos de arrays\n",
    "\n",
    "Em NumPy, os **eixos (axes)** referem-se às dimensões de um array, ou seja, os \"direcionamentos\" ao longo dos quais os elementos do array estão organizados. Cada eixo representa uma direção ao longo da qual o array possui elementos, e esses eixos são numerados a partir de 0.\n",
    "\n",
    "Um array 1D, ou vetor, tem apenas um eixo (eixo 0). \n",
    "\n",
    "Em um array 2D, como uma matriz, há dois eixos:\n",
    "- **Eixo 0**: representa as linhas.\n",
    "- **Eixo 1**: representa as colunas.\n",
    "\n",
    "Por exemplo, "
   ]
  },
  {
   "cell_type": "code",
   "execution_count": null,
   "metadata": {},
   "outputs": [],
   "source": []
  },
  {
   "cell_type": "markdown",
   "metadata": {},
   "source": [
    "Aqui, o array `b` tem a forma `(2, 3)`:\n",
    "- **Eixo 0**: contém 2 elementos (linhas).\n",
    "- **Eixo 1**: contém 3 elementos (colunas).\n",
    "\n",
    "Um array tridimensional pode ser visualizado como uma coleção de matrizes (ou camadas) e possui três eixos:\n",
    "- **Eixo 0**: geralmente representa a profundidade ou as camadas do array.\n",
    "- **Eixo 1**: representa as linhas.\n",
    "- **Eixo 2**: representa as colunas.\n",
    "\n",
    "Por exemplo, "
   ]
  },
  {
   "cell_type": "code",
   "execution_count": null,
   "metadata": {},
   "outputs": [],
   "source": []
  },
  {
   "cell_type": "markdown",
   "metadata": {},
   "source": [
    "O array `c` tem a forma `(2, 2, 3)`, onde:\n",
    "- **Eixo 0**: contém 2 elementos (camadas).\n",
    "- **Eixo 1**: contém 2 elementos (linhas por camada).\n",
    "- **Eixo 2**: contém 3 elementos (colunas por linha).\n",
    "\n",
    "Ao realizar operações, podemos especificar o eixo ao longo do qual desejamos que a operação aconteça. Por exemplo,"
   ]
  },
  {
   "cell_type": "code",
   "execution_count": null,
   "metadata": {},
   "outputs": [],
   "source": []
  },
  {
   "cell_type": "code",
   "execution_count": null,
   "metadata": {},
   "outputs": [],
   "source": []
  },
  {
   "cell_type": "code",
   "execution_count": null,
   "metadata": {},
   "outputs": [],
   "source": []
  },
  {
   "cell_type": "markdown",
   "metadata": {
    "id": "QDZviARdEW_K"
   },
   "source": [
    "### 6. Criando 1-arrays especiais\n",
    "Podemos criar alguns 1-arrays especiais de forma rápida:"
   ]
  },
  {
   "cell_type": "code",
   "execution_count": null,
   "metadata": {
    "id": "decj6AeDEW_K",
    "outputId": "9b20e2e2-2e02-4740-bc0c-575a13f74340"
   },
   "outputs": [],
   "source": []
  },
  {
   "cell_type": "code",
   "execution_count": null,
   "metadata": {
    "id": "D_yDawpcEW_L",
    "outputId": "42cd75cb-a84b-484b-ae90-43379ed30ff2"
   },
   "outputs": [],
   "source": []
  },
  {
   "cell_type": "code",
   "execution_count": null,
   "metadata": {
    "id": "JlbKNg6-EW_L",
    "outputId": "27b16ea6-a146-4d75-81b5-7fb206bab5ef"
   },
   "outputs": [],
   "source": []
  },
  {
   "cell_type": "code",
   "execution_count": null,
   "metadata": {
    "id": "Bf9My9VdEW_L",
    "outputId": "493d097a-2966-46d6-9659-cde9381aac97"
   },
   "outputs": [],
   "source": []
  },
  {
   "cell_type": "markdown",
   "metadata": {
    "id": "qYCkiVO_EW_L"
   },
   "source": [
    "### 7. Criando 1-arrays com regras de intervalo\n",
    "Para definir um array num dado intervalo, com um número determinado de elementos igualmente espaçados. Suponhamos que queremos um array com 10 elementos igualmente espaçados no intervalo $[0,1]$:"
   ]
  },
  {
   "cell_type": "code",
   "execution_count": null,
   "metadata": {
    "id": "ovQ08Ww7EW_L",
    "outputId": "604b33f2-82fe-4164-f24b-d5a986172c96"
   },
   "outputs": [],
   "source": []
  },
  {
   "cell_type": "markdown",
   "metadata": {
    "id": "GI93VCQJEW_L"
   },
   "source": [
    "Notemos que se permitirmos 11 elementos, o intervalo será $0,1$:"
   ]
  },
  {
   "cell_type": "code",
   "execution_count": null,
   "metadata": {
    "id": "TwnMkkI4EW_L",
    "outputId": "0bf66e4a-e29f-4ae8-8d92-a171638f5706"
   },
   "outputs": [],
   "source": []
  },
  {
   "cell_type": "markdown",
   "metadata": {
    "id": "23N9L8jSEW_M"
   },
   "source": [
    "Veremos mais adiante que o comando acima é útil para construir gráficos."
   ]
  },
  {
   "cell_type": "markdown",
   "metadata": {
    "id": "nVRisjWMEW_M"
   },
   "source": [
    "Suponhamos que queremos agora  criar um array com elementos, de 0 a 1, igualmente espaçados com intervalo 0.1:"
   ]
  },
  {
   "cell_type": "code",
   "execution_count": null,
   "metadata": {
    "id": "guZxgZ_TEW_M",
    "outputId": "7a16dc68-fe3b-4f37-885f-fd8ab237fdee"
   },
   "outputs": [],
   "source": []
  },
  {
   "cell_type": "markdown",
   "metadata": {
    "id": "g9ec4LD3EW_M"
   },
   "source": [
    "Criemos um array de 10 a 0, ordenado de forma decrescente,com passo -1:"
   ]
  },
  {
   "cell_type": "code",
   "execution_count": null,
   "metadata": {
    "id": "srl1K6GiEW_M",
    "outputId": "d348fdcf-248f-4534-a7cb-1ef68e6e0df0"
   },
   "outputs": [],
   "source": []
  },
  {
   "cell_type": "markdown",
   "metadata": {
    "id": "2cLMXWRFEW_M"
   },
   "source": [
    "Nos exemplos acima notamos que o último elemento em arange não é incluído."
   ]
  },
  {
   "cell_type": "markdown",
   "metadata": {
    "id": "SefSKa4CEW_N"
   },
   "source": [
    "### 8.  Indexação e fatiamento de arrays 1D\n",
    "\n",
    "Vejamos em maior detalhe a manipulação de índices de arrays 1-dimensionais. Seja o array:"
   ]
  },
  {
   "cell_type": "code",
   "execution_count": null,
   "metadata": {
    "id": "IudF5h3JEW_N"
   },
   "outputs": [],
   "source": []
  },
  {
   "cell_type": "markdown",
   "metadata": {
    "id": "RPK5DbKuEW_N"
   },
   "source": [
    "O primeiro índice do *array* é 0. Por exemplo,"
   ]
  },
  {
   "cell_type": "code",
   "execution_count": null,
   "metadata": {
    "id": "TrtT9ozEEW_N",
    "outputId": "34c4b0c1-7be1-427a-aa1c-4949c99e888a"
   },
   "outputs": [],
   "source": []
  },
  {
   "cell_type": "markdown",
   "metadata": {
    "id": "Ej1cJ-0IEW_N"
   },
   "source": [
    "No entanto, em alguns problemas é útil especificar componentes por índices negativos. Vejamos alguns exemplos para entender como funcionam:"
   ]
  },
  {
   "cell_type": "code",
   "execution_count": null,
   "metadata": {
    "id": "suIz49G3EW_N",
    "outputId": "0535ad52-9233-40f3-c6cd-df61ea759881"
   },
   "outputs": [],
   "source": []
  },
  {
   "cell_type": "code",
   "execution_count": null,
   "metadata": {
    "id": "6m60QcffEW_N",
    "outputId": "86cb4a73-27bd-4714-c8eb-ad17f838048b"
   },
   "outputs": [],
   "source": []
  },
  {
   "cell_type": "code",
   "execution_count": null,
   "metadata": {
    "id": "cxCYdgbKEW_O",
    "outputId": "a27e23c3-9ff2-4bb6-bd80-f448184c0cd8"
   },
   "outputs": [],
   "source": []
  },
  {
   "cell_type": "code",
   "execution_count": null,
   "metadata": {
    "id": "jkvcJY0REW_O",
    "outputId": "ac8533e1-9bb6-4dcb-8792-5104d42b5b62"
   },
   "outputs": [],
   "source": []
  },
  {
   "cell_type": "markdown",
   "metadata": {
    "id": "e26Khms9EW_O"
   },
   "source": [
    "Suponhamos que queremos listar os elementos de um dado array de *N*-dimensional do elemento *n* até o elemento *m*. Por exemplo se queremos as três primeiras componentes de *a* , começando da segunda componente, procedemos do seguinte modo:"
   ]
  },
  {
   "cell_type": "code",
   "execution_count": null,
   "metadata": {
    "id": "p8k6_mpYEW_O",
    "outputId": "2e1ba596-d59b-4d24-81ff-5f765fd7202a"
   },
   "outputs": [],
   "source": []
  },
  {
   "cell_type": "markdown",
   "metadata": {
    "id": "AQYEA-HeEW_O"
   },
   "source": [
    "Usando índices negativos:"
   ]
  },
  {
   "cell_type": "code",
   "execution_count": null,
   "metadata": {
    "id": "qCb80IpIEW_O",
    "outputId": "b1d49549-f6fd-4939-c055-4d995a4e0f5f"
   },
   "outputs": [],
   "source": []
  },
  {
   "cell_type": "markdown",
   "metadata": {
    "id": "jzwDLxjuEW_O"
   },
   "source": [
    "Se quisermos selecionar as 3 primeiras componentes com incrementos de duas unidades:"
   ]
  },
  {
   "cell_type": "code",
   "execution_count": null,
   "metadata": {
    "id": "cNlsbSniEW_P",
    "outputId": "6697e97e-b529-42fa-aff2-74f2c83c0464"
   },
   "outputs": [],
   "source": []
  },
  {
   "cell_type": "markdown",
   "metadata": {
    "id": "c-dhFYfuEW_P"
   },
   "source": [
    "Algumas técnicas úteis, similares ao Matlab:"
   ]
  },
  {
   "cell_type": "code",
   "execution_count": null,
   "metadata": {
    "id": "chouGZ7LEW_P",
    "outputId": "d3d90e75-06be-44f2-ba5c-ea691be9b323"
   },
   "outputs": [],
   "source": []
  },
  {
   "cell_type": "code",
   "execution_count": null,
   "metadata": {
    "id": "9yYUJ1ADEW_P",
    "outputId": "a12bf2b7-5af5-49f9-99d4-0e991ced7461"
   },
   "outputs": [],
   "source": []
  },
  {
   "cell_type": "code",
   "execution_count": null,
   "metadata": {
    "id": "AiicgXFjEW_P",
    "outputId": "efc86f92-4952-47fd-fa72-6799a7910f43"
   },
   "outputs": [],
   "source": []
  },
  {
   "cell_type": "code",
   "execution_count": null,
   "metadata": {
    "id": "tbdfWawNEW_P",
    "outputId": "38faee99-8f05-48c5-f0a7-b6301cb1918a"
   },
   "outputs": [],
   "source": []
  },
  {
   "cell_type": "code",
   "execution_count": null,
   "metadata": {
    "id": "bookbS26EW_P",
    "outputId": "c93d8f20-30d7-400b-d952-b88e5e7bdc7d"
   },
   "outputs": [],
   "source": []
  },
  {
   "cell_type": "markdown",
   "metadata": {
    "id": "bufLAPXSEW_Q"
   },
   "source": [
    "Podemos concatenar *1-arrays* da seguinte forma:"
   ]
  },
  {
   "cell_type": "code",
   "execution_count": null,
   "metadata": {
    "id": "d_QAxu2kEW_Q"
   },
   "outputs": [],
   "source": [
    "x = np.array([1,2,3,4,5])\n",
    "y = np.array([-1, -2, -3])"
   ]
  },
  {
   "cell_type": "code",
   "execution_count": null,
   "metadata": {
    "id": "lj87eR2oEW_Q",
    "outputId": "2f4d4c0f-cb41-4945-8c89-9fcda9ac8c55"
   },
   "outputs": [],
   "source": [
    "np.concatenate([x,y])"
   ]
  },
  {
   "cell_type": "markdown",
   "metadata": {
    "id": "V3kjQbPZEW_Q"
   },
   "source": [
    "### 9. Operações matemáticas com  arrays 1D"
   ]
  },
  {
   "cell_type": "markdown",
   "metadata": {
    "id": "Yymh_-gpEW_Q"
   },
   "source": [
    "Podemos realizar operações matemáticas sobre 1-arrays, elemento por elemento:"
   ]
  },
  {
   "cell_type": "code",
   "execution_count": null,
   "metadata": {
    "id": "9NHSihs5EW_Q",
    "outputId": "d8d46fe3-3479-4082-ffa5-420eaaf7e83a"
   },
   "outputs": [],
   "source": []
  },
  {
   "cell_type": "code",
   "execution_count": null,
   "metadata": {
    "id": "8oMWKJCLEW_Q",
    "outputId": "bc7287fe-7473-4190-bc37-6c6913f2ba77"
   },
   "outputs": [],
   "source": []
  },
  {
   "cell_type": "markdown",
   "metadata": {
    "id": "dHLBQ7DVEW_R"
   },
   "source": [
    "As operações básicas de 1-arrays de mesma dimensão sãp feitas elemento a elemento por default:"
   ]
  },
  {
   "cell_type": "code",
   "execution_count": null,
   "metadata": {
    "id": "4PQYz06fEW_R",
    "outputId": "6e2a813e-6839-405c-9bc4-2a76c7bb1bbf"
   },
   "outputs": [],
   "source": []
  },
  {
   "cell_type": "code",
   "execution_count": null,
   "metadata": {
    "id": "TO5jAvIuEW_R",
    "outputId": "32d4f461-8aac-4df2-e80c-f366565917a1"
   },
   "outputs": [],
   "source": []
  },
  {
   "cell_type": "code",
   "execution_count": null,
   "metadata": {
    "id": "QdUnxTjQEW_R",
    "outputId": "aedbd308-60bd-437e-de54-4e4ea34477a6"
   },
   "outputs": [],
   "source": []
  },
  {
   "cell_type": "code",
   "execution_count": null,
   "metadata": {
    "id": "YPciv7FCEW_R",
    "outputId": "4b8133b3-60d2-4d13-d400-2eeb2e290a0e"
   },
   "outputs": [],
   "source": []
  },
  {
   "cell_type": "code",
   "execution_count": null,
   "metadata": {
    "id": "J2ktVxsaEW_R",
    "outputId": "cb5e0295-b536-42f4-b8b6-aeff6f2a2797"
   },
   "outputs": [],
   "source": []
  },
  {
   "cell_type": "code",
   "execution_count": null,
   "metadata": {
    "id": "KUOSiq5VEW_R",
    "outputId": "d2e5ced7-c0d1-4569-d467-66a4c149de5f"
   },
   "outputs": [],
   "source": []
  },
  {
   "cell_type": "markdown",
   "metadata": {
    "id": "-6tp41YPEW_R"
   },
   "source": [
    "O produto interno de dois vetores pode ser feito do seguinte modo:"
   ]
  },
  {
   "cell_type": "code",
   "execution_count": null,
   "metadata": {
    "id": "SWCnI1ymEW_S"
   },
   "outputs": [],
   "source": []
  },
  {
   "cell_type": "code",
   "execution_count": null,
   "metadata": {
    "id": "xPmaHU49EW_S",
    "outputId": "1d1a96e9-5a63-493e-b3e2-9d83be5b0a9c"
   },
   "outputs": [],
   "source": []
  },
  {
   "cell_type": "markdown",
   "metadata": {
    "id": "lwAoZnh8EW_S"
   },
   "source": [
    "De forma equivalente,"
   ]
  },
  {
   "cell_type": "code",
   "execution_count": null,
   "metadata": {
    "id": "fxZbfQb6EW_S",
    "outputId": "e0809260-2567-4b04-a496-334275d03172"
   },
   "outputs": [],
   "source": []
  },
  {
   "cell_type": "code",
   "execution_count": null,
   "metadata": {
    "id": "gLIAoNYiEW_S",
    "outputId": "56746ba6-7712-4524-9f07-98d4b45ed8ee"
   },
   "outputs": [],
   "source": []
  },
  {
   "cell_type": "markdown",
   "metadata": {
    "id": "5tmfEJSbEW_S"
   },
   "source": [
    "O produto vetorial (válido somente para 1-arrays de 3 componentes) pode ser obtido da seguinte forma:"
   ]
  },
  {
   "cell_type": "code",
   "execution_count": null,
   "metadata": {
    "id": "4Hlelm2TEW_S",
    "outputId": "9bfa2eeb-d7f1-4fdd-f03d-ed91733e0164"
   },
   "outputs": [],
   "source": []
  },
  {
   "cell_type": "markdown",
   "metadata": {
    "id": "_IOTiIJKEW_S"
   },
   "source": [
    "Algumas outras operações:  "
   ]
  },
  {
   "cell_type": "code",
   "execution_count": null,
   "metadata": {
    "id": "izkW05sBEW_T",
    "outputId": "1fe600ab-d54c-46c6-8078-c889e520f3fb"
   },
   "outputs": [],
   "source": []
  },
  {
   "cell_type": "code",
   "execution_count": null,
   "metadata": {
    "id": "Hdnid43sEW_T",
    "outputId": "d4737dc4-1fca-4f8c-e67b-aeb165b00901"
   },
   "outputs": [],
   "source": []
  },
  {
   "cell_type": "code",
   "execution_count": null,
   "metadata": {
    "id": "GRwqT-yQEW_T",
    "outputId": "af909698-b349-4ce4-8ec7-c87893e85c86"
   },
   "outputs": [],
   "source": []
  },
  {
   "cell_type": "code",
   "execution_count": null,
   "metadata": {
    "id": "pmOsPlbhEW_T",
    "outputId": "e7a18463-6058-4269-b2e5-39dee5acb6d3"
   },
   "outputs": [],
   "source": []
  },
  {
   "cell_type": "code",
   "execution_count": null,
   "metadata": {
    "id": "aCThCJBiEW_T",
    "outputId": "fabe785b-7202-4fc3-8737-9de4165c36e2"
   },
   "outputs": [],
   "source": []
  },
  {
   "cell_type": "code",
   "execution_count": null,
   "metadata": {
    "id": "q8hCix-UEW_T",
    "outputId": "e6466269-ffe9-4ce9-e62d-689100a152dd"
   },
   "outputs": [],
   "source": []
  },
  {
   "cell_type": "code",
   "execution_count": null,
   "metadata": {
    "id": "eCjpzzaREW_T",
    "outputId": "a17b1bd7-48b5-4f71-b2f7-55c1c3147d03"
   },
   "outputs": [],
   "source": []
  },
  {
   "cell_type": "code",
   "execution_count": null,
   "metadata": {
    "id": "zG4NCjisEW_T",
    "outputId": "89798a7a-ba8d-4e1f-f6eb-6f12ab5842e7"
   },
   "outputs": [],
   "source": []
  },
  {
   "cell_type": "code",
   "execution_count": null,
   "metadata": {
    "id": "jUWTmamrEW_U",
    "outputId": "3f015c01-20d5-4ac0-84e7-ffb22c58facb"
   },
   "outputs": [],
   "source": []
  },
  {
   "cell_type": "markdown",
   "metadata": {
    "id": "XeS_ePmuEW_U"
   },
   "source": [
    "Números complexos podem ser representados na forma."
   ]
  },
  {
   "cell_type": "code",
   "execution_count": null,
   "metadata": {
    "id": "KtZwd_2pEW_U"
   },
   "outputs": [],
   "source": []
  },
  {
   "cell_type": "markdown",
   "metadata": {
    "id": "wN6_3sHdEW_U"
   },
   "source": [
    "A operação de conjugação complexa é definida por"
   ]
  },
  {
   "cell_type": "code",
   "execution_count": null,
   "metadata": {
    "id": "VxfJSFOuEW_U",
    "outputId": "a3e3e07b-4ac6-421c-b14d-29e84b21fa3e"
   },
   "outputs": [],
   "source": []
  },
  {
   "cell_type": "markdown",
   "metadata": {
    "id": "afP5cJ0REW_U"
   },
   "source": [
    "Façamos o produto escalar de dois 1-arrays complexos $z_1\\cdot z_2 = (z_1)^{\\dagger} z_2$, sendo que o símbolo $\\dagger$ denota conjugação hermitiana:"
   ]
  },
  {
   "cell_type": "code",
   "execution_count": null,
   "metadata": {
    "id": "KnEXq_b6EW_U"
   },
   "outputs": [],
   "source": []
  },
  {
   "cell_type": "code",
   "execution_count": null,
   "metadata": {
    "id": "Mkj8gAfaEW_U",
    "outputId": "1bc4b05a-36f5-44c4-c8d2-a409d6e2331a"
   },
   "outputs": [],
   "source": []
  },
  {
   "cell_type": "markdown",
   "metadata": {
    "id": "2NV8Q0VFEW_V"
   },
   "source": [
    "### 10.   Arrays 1D booleanos"
   ]
  },
  {
   "cell_type": "markdown",
   "metadata": {
    "id": "gt3NwQupEW_V"
   },
   "source": [
    "Podemos criar um array booleano estabelecendo uma condição sobre cada elemento do array 1D numérico:"
   ]
  },
  {
   "cell_type": "code",
   "execution_count": null,
   "metadata": {
    "id": "URrIVGDeEW_V"
   },
   "outputs": [],
   "source": []
  },
  {
   "cell_type": "code",
   "execution_count": null,
   "metadata": {
    "id": "A7LbXRc7EW_V",
    "outputId": "8dc41694-7e1b-4522-b200-1d96c6991530"
   },
   "outputs": [],
   "source": []
  },
  {
   "cell_type": "markdown",
   "metadata": {
    "id": "bypUmC2BEW_V"
   },
   "source": [
    "Podemos usar o array booleano para fazer seleção de elementos. Por exemplo,"
   ]
  },
  {
   "cell_type": "code",
   "execution_count": null,
   "metadata": {
    "id": "umpBrih7EW_V",
    "outputId": "7ea21999-9671-4805-fd0f-9280e3a6f72e"
   },
   "outputs": [],
   "source": []
  },
  {
   "cell_type": "code",
   "execution_count": null,
   "metadata": {
    "id": "efpeHwBSEW_V",
    "outputId": "882b33af-5168-4c0f-fce1-8cad839a5b21"
   },
   "outputs": [],
   "source": []
  },
  {
   "cell_type": "code",
   "execution_count": null,
   "metadata": {
    "id": "5ptWPFpkEW_W",
    "outputId": "d0ac5d76-6b68-429d-f681-fb21fbe671d5"
   },
   "outputs": [],
   "source": []
  },
  {
   "cell_type": "code",
   "execution_count": null,
   "metadata": {
    "id": "HdueXcWSEW_W",
    "outputId": "b438ebcb-2732-4167-d555-4868881ed090"
   },
   "outputs": [],
   "source": []
  },
  {
   "cell_type": "code",
   "execution_count": null,
   "metadata": {
    "id": "x3RaWrd-EW_W",
    "outputId": "d71afa83-6977-42a1-8e01-c1b72899e897"
   },
   "outputs": [],
   "source": []
  },
  {
   "cell_type": "markdown",
   "metadata": {
    "id": "n2uZpVBZEW_W"
   },
   "source": [
    "Podemos comparar dois arrays, componente a componente:"
   ]
  },
  {
   "cell_type": "code",
   "execution_count": null,
   "metadata": {
    "id": "DRSBXyQAEW_W"
   },
   "outputs": [],
   "source": []
  },
  {
   "cell_type": "code",
   "execution_count": null,
   "metadata": {
    "id": "NQXMI8nOEW_W",
    "outputId": "ea187481-d0d7-4a62-f8ef-e397dfcefe2a"
   },
   "outputs": [],
   "source": []
  },
  {
   "cell_type": "markdown",
   "metadata": {
    "id": "JfKSif-AEW_W"
   },
   "source": [
    "Similarmente para a2:"
   ]
  },
  {
   "cell_type": "code",
   "execution_count": null,
   "metadata": {
    "id": "MZK-9XclEW_W",
    "outputId": "b9dbac34-597f-4209-bd7b-236b29b736e3"
   },
   "outputs": [],
   "source": []
  },
  {
   "cell_type": "markdown",
   "metadata": {
    "id": "zQM-dY1UEW_X"
   },
   "source": [
    "Por exemplo, obtenhamos os elementos de um array que são divisíveis por 4:"
   ]
  },
  {
   "cell_type": "code",
   "execution_count": null,
   "metadata": {
    "id": "tp0qOycREW_X",
    "outputId": "9ab1560a-755e-45b7-d4df-d6eb2aecc059"
   },
   "outputs": [],
   "source": []
  },
  {
   "cell_type": "markdown",
   "metadata": {
    "id": "ozUa0K-wEW_X"
   },
   "source": [
    "Procedimentos relativamente complicados por ser implementados facilmente com Numpy. Por exemplo, Somemos os números inteiros de 0 a 10000, exceto aqueles que podem ser divididos por 4 e 7."
   ]
  },
  {
   "cell_type": "markdown",
   "metadata": {
    "id": "oNIdxrhcEW_X"
   },
   "source": [
    "Inicialmente geramos o array de todos os inteiros de 0 a 10000:"
   ]
  },
  {
   "cell_type": "code",
   "execution_count": null,
   "metadata": {
    "id": "aQ6a253jEW_X",
    "outputId": "20202c85-4523-43b1-cf1c-84251dab1916"
   },
   "outputs": [],
   "source": []
  },
  {
   "cell_type": "markdown",
   "metadata": {
    "id": "KkOKZ2RaEW_X"
   },
   "source": [
    "Formamos duas listas:"
   ]
  },
  {
   "cell_type": "code",
   "execution_count": null,
   "metadata": {
    "id": "heQBk62kEW_X",
    "outputId": "73ca5b2f-bb17-4a27-f5a5-d1730f75294f"
   },
   "outputs": [],
   "source": []
  },
  {
   "cell_type": "code",
   "execution_count": null,
   "metadata": {
    "id": "tOJHtiUaEW_X",
    "outputId": "b29fceb9-6382-493d-ab3d-6ed7610c9356"
   },
   "outputs": [],
   "source": []
  },
  {
   "cell_type": "markdown",
   "metadata": {
    "id": "yQcKAmhPEW_Y"
   },
   "source": [
    "Notemos que as variáveis lógicas *True* e *False* satisfazem as regras lógicas para *AND*. Por exemplo,"
   ]
  },
  {
   "cell_type": "code",
   "execution_count": null,
   "metadata": {
    "id": "A9u_kvbcEW_Y"
   },
   "outputs": [],
   "source": []
  },
  {
   "cell_type": "code",
   "execution_count": null,
   "metadata": {
    "id": "ftFVE2BGEW_Y",
    "outputId": "50608356-7899-45fd-c95d-70e15a7a34db"
   },
   "outputs": [],
   "source": []
  },
  {
   "cell_type": "code",
   "execution_count": null,
   "metadata": {
    "id": "4rVi1Dj-EW_Y",
    "outputId": "2fabc1a7-9c37-46c7-9d5e-9709edd8235e"
   },
   "outputs": [],
   "source": []
  },
  {
   "cell_type": "markdown",
   "metadata": {
    "id": "1M5-v9kZEW_Y"
   },
   "source": [
    "Podemos aplicar esse resultado ao nosso problema:"
   ]
  },
  {
   "cell_type": "code",
   "execution_count": null,
   "metadata": {
    "id": "Q0SDq78ZEW_Y",
    "outputId": "a1a87aee-c1a7-4bbf-b6b8-99d17b8c4026"
   },
   "outputs": [],
   "source": []
  },
  {
   "cell_type": "markdown",
   "metadata": {
    "id": "rSof_5vLEW_Y"
   },
   "source": [
    "Os números que não são divisíveis por 4 e 7 são, portanto, dados por"
   ]
  },
  {
   "cell_type": "code",
   "execution_count": null,
   "metadata": {
    "id": "9ot0szbUEW_Y",
    "outputId": "fd6a925d-155f-48ff-ee31-a022530f3737"
   },
   "outputs": [],
   "source": []
  },
  {
   "cell_type": "markdown",
   "metadata": {
    "id": "B7SGdzJUEW_Z"
   },
   "source": [
    "Examinemos alguns elementos:"
   ]
  },
  {
   "cell_type": "code",
   "execution_count": null,
   "metadata": {
    "id": "hja1NUC4EW_Z",
    "outputId": "3be30812-3fdf-45b0-eb7f-e2a0ed2d7e7b"
   },
   "outputs": [],
   "source": []
  },
  {
   "cell_type": "markdown",
   "metadata": {
    "id": "4B2GtVgiEW_Z"
   },
   "source": [
    "Podemos agora somar os elementos:"
   ]
  },
  {
   "cell_type": "code",
   "execution_count": null,
   "metadata": {
    "id": "jwYpiTzdEW_Z",
    "outputId": "c642c9d3-4aed-44cd-aedf-0cab1df96a3d"
   },
   "outputs": [],
   "source": []
  },
  {
   "cell_type": "markdown",
   "metadata": {
    "id": "yeq24Jn-EW_Z"
   },
   "source": [
    "Vejamos um exemplo usando arrays com strings. Consideremos o problema de selecionar, numa lista de nomes, aqueles que começam com a letra J. Para isso criamos uma função lambda que seleciona o primeiro elemento de um string ou de de um 1-array:"
   ]
  },
  {
   "cell_type": "code",
   "execution_count": null,
   "metadata": {
    "id": "hFWhqXulEW_Z"
   },
   "outputs": [],
   "source": []
  },
  {
   "cell_type": "markdown",
   "metadata": {
    "id": "ek0N7sXkEW_Z"
   },
   "source": [
    "Por exemplo,"
   ]
  },
  {
   "cell_type": "code",
   "execution_count": null,
   "metadata": {
    "id": "86j8yqHSEW_Z",
    "outputId": "3dc90e60-3a08-48f7-8339-b496bcd61149"
   },
   "outputs": [],
   "source": []
  },
  {
   "cell_type": "code",
   "execution_count": null,
   "metadata": {
    "id": "9r88HMSYEW_a",
    "outputId": "658b20e6-b802-4cf3-a01a-dafb20a26b84"
   },
   "outputs": [],
   "source": []
  },
  {
   "cell_type": "code",
   "execution_count": null,
   "metadata": {
    "id": "_HeSkeFEEW_a",
    "outputId": "cbb5851f-75eb-4d35-e680-691cb7c190a6"
   },
   "outputs": [],
   "source": []
  },
  {
   "cell_type": "code",
   "execution_count": null,
   "metadata": {
    "id": "1qIDI1AbEW_a",
    "outputId": "8f6d1745-bd21-4b31-b67a-fdfd1e5b5ec2"
   },
   "outputs": [],
   "source": []
  },
  {
   "cell_type": "markdown",
   "metadata": {
    "id": "fHDbBqegEW_a"
   },
   "source": [
    "Tomemos um array de nomes:"
   ]
  },
  {
   "cell_type": "code",
   "execution_count": null,
   "metadata": {
    "id": "jgi6Y8qGEW_a"
   },
   "outputs": [],
   "source": []
  },
  {
   "cell_type": "markdown",
   "metadata": {
    "id": "TbwiKmH0EW_a"
   },
   "source": [
    "Apliquemos a função `f` a cada elemento do 1-array `nomes`:"
   ]
  },
  {
   "cell_type": "code",
   "execution_count": null,
   "metadata": {
    "id": "Lsbc59DWEW_a",
    "outputId": "3c09e7cc-e5cb-47a0-d7b8-4600bd284878"
   },
   "outputs": [],
   "source": []
  },
  {
   "cell_type": "markdown",
   "metadata": {
    "id": "by-VpdBUEW_b"
   },
   "source": [
    "Geramos o array booleano que verifica se a primeira letra do array `nomes` é J:"
   ]
  },
  {
   "cell_type": "code",
   "execution_count": null,
   "metadata": {
    "id": "Nc_WkMrDEW_b",
    "outputId": "ec1ebcef-b93c-4672-dd70-60d7b0d46edf"
   },
   "outputs": [],
   "source": []
  },
  {
   "cell_type": "markdown",
   "metadata": {
    "id": "qAkL6YGWEW_b"
   },
   "source": [
    "Podemos agora usar esse array booleano para obter os nomes que começam com J:"
   ]
  },
  {
   "cell_type": "code",
   "execution_count": null,
   "metadata": {
    "id": "tCbhTld7EW_b",
    "outputId": "1e0099b4-b97c-441f-f150-a9d867b0d231"
   },
   "outputs": [],
   "source": []
  },
  {
   "cell_type": "markdown",
   "metadata": {
    "id": "EJSfR2IGEW_b"
   },
   "source": [
    "Vejamos mais um exemplo. Seja a lista de nomes: Achlys, Aether, Aion, Ananke, Chaos, Chronos, Erebus, Eros, Gaia, Hemera, Nesoi, Nyx, Ourea, Phanes, Pontus, Tartarus, Thalassa, Uranus, Aia.  Determine os nomes que começam ou terminam com A."
   ]
  },
  {
   "cell_type": "markdown",
   "metadata": {
    "id": "x27voYQrEW_c"
   },
   "source": [
    "Criamos o array com nomes:"
   ]
  },
  {
   "cell_type": "code",
   "execution_count": null,
   "metadata": {
    "id": "Z8mpE7vbEW_c"
   },
   "outputs": [],
   "source": []
  },
  {
   "cell_type": "code",
   "execution_count": null,
   "metadata": {
    "id": "SDg63-j4EW_c"
   },
   "outputs": [],
   "source": []
  },
  {
   "cell_type": "code",
   "execution_count": null,
   "metadata": {
    "id": "7iOL9oKpEW_c"
   },
   "outputs": [],
   "source": []
  },
  {
   "cell_type": "markdown",
   "metadata": {
    "id": "YnAET-pHEW_c"
   },
   "source": [
    "Formamos um 1-array com a primeira letra de cada nome e outro com a última letra:"
   ]
  },
  {
   "cell_type": "code",
   "execution_count": null,
   "metadata": {
    "id": "TKOQ2xnGEW_c",
    "outputId": "e4c06407-ce69-4b25-e617-6cfce4db705c"
   },
   "outputs": [],
   "source": []
  },
  {
   "cell_type": "code",
   "execution_count": null,
   "metadata": {
    "id": "VRA3FXhLEW_c",
    "outputId": "198f7d84-de99-4448-92b7-b9b5e3fa6222"
   },
   "outputs": [],
   "source": []
  },
  {
   "cell_type": "markdown",
   "metadata": {
    "id": "8hNGTNoMEW_c"
   },
   "source": [
    "Definimos o 1-array booleano que verifica, respectivamente, se cada elemento de *primeira_letra* é ou não igual a \"A\":"
   ]
  },
  {
   "cell_type": "code",
   "execution_count": null,
   "metadata": {
    "id": "3l7gwU1aEW_c",
    "outputId": "a200ebb2-a98a-43ab-8248-71ef3e866839"
   },
   "outputs": [],
   "source": []
  },
  {
   "cell_type": "markdown",
   "metadata": {
    "id": "fzx_PDM4EW_d"
   },
   "source": [
    "Similarmente para *ultima_letra*:"
   ]
  },
  {
   "cell_type": "code",
   "execution_count": null,
   "metadata": {
    "id": "GArX5ZWYEW_d",
    "outputId": "d7c8bc2d-e295-4cff-aa3c-faa8196c823c"
   },
   "outputs": [],
   "source": []
  },
  {
   "cell_type": "markdown",
   "metadata": {
    "id": "LSThwR_VEW_d"
   },
   "source": [
    "O seguinte 1-array determina se ao menos um elemento do par ordenado dos 1-arrays *primeira_letra_A* e *ultima_letra_a* é igual a *True*:"
   ]
  },
  {
   "cell_type": "code",
   "execution_count": null,
   "metadata": {
    "id": "Pq8PHi8hEW_d",
    "outputId": "c480431e-844c-4252-ce6e-3c8291695795"
   },
   "outputs": [],
   "source": []
  },
  {
   "cell_type": "markdown",
   "metadata": {
    "id": "WKlcYiGVEW_d"
   },
   "source": [
    "Para encontrar os nomes, basta agora usar esse 1-array booleano como índice de *Nomes*:"
   ]
  },
  {
   "cell_type": "code",
   "execution_count": null,
   "metadata": {
    "id": "OUEXLvkJEW_d",
    "outputId": "81dc787e-6567-4445-b12d-8264819b1a16"
   },
   "outputs": [],
   "source": []
  },
  {
   "cell_type": "markdown",
   "metadata": {
    "id": "nuKKPWrCFZnL"
   },
   "source": [
    "### 11. Regras adicionais para manipulação de arrays\n",
    "\n",
    "#### 11.1 np.reshape\n",
    "\n",
    "A função `numpy.reshape` é uma ferramenta do NumPy que permite alterar a forma de um array existente sem modificar seus dados. Essa função é útil quando você precisa reorganizar os dados para diversos fins, como torná-los compatíveis com outros arrays para cálculos, melhorar a legibilidade ou prepará-los para um tipo específico de processamento.\n",
    "\n",
    "Por exemplo, suponha que você tenha um 1-array com 6 elementos e queira redimensioná-lo para um 2-array com 2 linhas e 3 colunas:"
   ]
  },
  {
   "cell_type": "code",
   "execution_count": null,
   "metadata": {
    "id": "nv2N9liwFn1w"
   },
   "outputs": [],
   "source": []
  },
  {
   "cell_type": "code",
   "execution_count": null,
   "metadata": {
    "id": "Hh_ogEDvHba3"
   },
   "outputs": [],
   "source": []
  },
  {
   "cell_type": "code",
   "execution_count": null,
   "metadata": {
    "colab": {
     "base_uri": "https://localhost:8080/"
    },
    "id": "xBFU1F29Hidc",
    "outputId": "6a7851b9-55b9-4cde-f707-60c1d57577c9"
   },
   "outputs": [],
   "source": []
  },
  {
   "cell_type": "markdown",
   "metadata": {
    "id": "c4I4yQ0sIJur"
   },
   "source": [
    "Podemos permitir que o NumPy determine automaticamente uma dimensão especificando -1. Aqui, vamos converter o array em 3 linhas, permitindo que o NumPy descubra o número de colunas:"
   ]
  },
  {
   "cell_type": "code",
   "execution_count": null,
   "metadata": {
    "colab": {
     "base_uri": "https://localhost:8080/"
    },
    "id": "pFy7u1wfII6V",
    "outputId": "50688742-0659-4ade-dc75-2e4ac5895d76"
   },
   "outputs": [],
   "source": []
  },
  {
   "cell_type": "markdown",
   "metadata": {
    "id": "Guk-tn9YJFtz"
   },
   "source": [
    "O redimensionamento é especialmente útil ao trabalhar com dados multidimensionais, como imagens ou lotes de dados. Por exemplo, vamos pegar um array com a forma (2, 3, 4) e redimensioná-lo para (4, 3, 2):"
   ]
  },
  {
   "cell_type": "code",
   "execution_count": null,
   "metadata": {
    "id": "NNAAPMrJJM9B"
   },
   "outputs": [],
   "source": []
  },
  {
   "cell_type": "code",
   "execution_count": null,
   "metadata": {
    "colab": {
     "base_uri": "https://localhost:8080/"
    },
    "id": "Rx10zLBZJQSD",
    "outputId": "e7810180-3482-4325-f4e7-3d1eb5c28fbd"
   },
   "outputs": [],
   "source": []
  },
  {
   "cell_type": "markdown",
   "metadata": {
    "id": "Hh7TBMMKJu_O"
   },
   "source": [
    " Podemos usar reshape para achatar um array em uma única dimensão. Isso é útil quando você precisa realizar operações que requerem um vetor 1D:"
   ]
  },
  {
   "cell_type": "code",
   "execution_count": null,
   "metadata": {
    "colab": {
     "base_uri": "https://localhost:8080/"
    },
    "id": "5vHgmJQpJ2KW",
    "outputId": "e2c7db19-70f0-44b6-f3d6-ae9559bbb007"
   },
   "outputs": [],
   "source": []
  },
  {
   "cell_type": "code",
   "execution_count": null,
   "metadata": {
    "colab": {
     "base_uri": "https://localhost:8080/"
    },
    "id": "Q97-9uQBKLdn",
    "outputId": "645a3333-9f5a-48cc-cf7c-8d603927289b"
   },
   "outputs": [],
   "source": []
  },
  {
   "cell_type": "markdown",
   "metadata": {},
   "source": [
    "**Exemplo.**  Organizando Dados Meteorológicos. Suponhamos que temos um 1-array que contém as temperaturas médias registradas em uma cidade durante 12 meses, mas cada mês tem 3 valores correspondentes à temperatura média no início, no meio e no final do mês, como mostrado abaixo:"
   ]
  },
  {
   "cell_type": "code",
   "execution_count": null,
   "metadata": {
    "id": "ulWK_ItoEW_d"
   },
   "outputs": [],
   "source": [
    "import numpy as np\n",
    "# Array 1D com as temperaturas médias para 12 meses, cada mês tem 3 valores\n",
    "temperaturas = np.array([22, 24, 23, 18, 19, 20, 15, 16, 15,\n",
    "                         21, 20, 22, 25, 24, 26, 27, 28, 26,\n",
    "                         30, 29, 31, 34, 32, 33, 35, 36, 34,\n",
    "                         28, 27, 26, 24, 23, 22, 21, 22, 23])"
   ]
  },
  {
   "cell_type": "markdown",
   "metadata": {},
   "source": [
    "Converta esse 1-array em uma matriz (2-array), onde cada linha representa um mês e cada coluna corresponde a um período específico do mês e calcule a média de temperatura para cada mês e exiba uma lista das médias mensais."
   ]
  },
  {
   "cell_type": "code",
   "execution_count": null,
   "metadata": {},
   "outputs": [],
   "source": []
  },
  {
   "cell_type": "code",
   "execution_count": null,
   "metadata": {},
   "outputs": [],
   "source": []
  },
  {
   "cell_type": "markdown",
   "metadata": {},
   "source": [
    "**Exemplo.** Transformando uma Imagem em Tons de Cinza. Suponhamos que temos uma imagem em tons de cinza representada por um array 1D com 256 valores de pixel (por exemplo, uma imagem 16x16). Converta esse 1-array em uma matriz  que represente a imagem."
   ]
  },
  {
   "cell_type": "code",
   "execution_count": null,
   "metadata": {},
   "outputs": [],
   "source": []
  },
  {
   "cell_type": "code",
   "execution_count": null,
   "metadata": {},
   "outputs": [],
   "source": []
  },
  {
   "cell_type": "markdown",
   "metadata": {},
   "source": [
    "Podemos ver a imagem com com matplotlib: "
   ]
  },
  {
   "cell_type": "code",
   "execution_count": null,
   "metadata": {},
   "outputs": [],
   "source": []
  },
  {
   "cell_type": "code",
   "execution_count": null,
   "metadata": {},
   "outputs": [],
   "source": []
  },
  {
   "cell_type": "markdown",
   "metadata": {},
   "source": [
    "**Exemplo.** Vamos considerar um exemplo da física experimental que envolva o uso de matrizes para representar dados coletados em uma malha de sensores. Imagine um experimento em que uma superfície é coberta com sensores de temperatura dispostos em uma grade de 10x10, e a cada sensor mede a temperatura em um ponto específico. A partir dos dados coletados, deseja-se gerar uma imagem para visualizar a distribuição de temperatura na superfície. Suponhamos que a leitura dos valores é feita da esquerda para direita, de cima para baixo. \n",
    "\n",
    "- Organizar esses dados em uma matriz 10x10.\n",
    "- Gerar uma imagem que mostre a distribuição de temperatura na superfície.\n",
    "- Identificar a temperatura média da superfície."
   ]
  },
  {
   "cell_type": "code",
   "execution_count": null,
   "metadata": {},
   "outputs": [],
   "source": []
  },
  {
   "cell_type": "markdown",
   "metadata": {},
   "source": [
    "Vamos gerar os valores de temperatura fictícios de forma aleatória usando `np.random.uniform()`\n",
    " para simular leituras de sensores entre 20 e 80 °C."
   ]
  },
  {
   "cell_type": "code",
   "execution_count": null,
   "metadata": {},
   "outputs": [],
   "source": []
  },
  {
   "cell_type": "markdown",
   "metadata": {},
   "source": [
    "A temperatura média é dada por:"
   ]
  },
  {
   "cell_type": "code",
   "execution_count": null,
   "metadata": {},
   "outputs": [],
   "source": []
  },
  {
   "cell_type": "markdown",
   "metadata": {},
   "source": [
    "Transformamos esse array em uma matriz 10 x 10: "
   ]
  },
  {
   "cell_type": "code",
   "execution_count": null,
   "metadata": {},
   "outputs": [],
   "source": []
  },
  {
   "cell_type": "markdown",
   "metadata": {},
   "source": [
    "Podemos gerar uma mapa de cor para a temperatura:"
   ]
  },
  {
   "cell_type": "code",
   "execution_count": null,
   "metadata": {},
   "outputs": [],
   "source": []
  },
  {
   "cell_type": "markdown",
   "metadata": {},
   "source": [
    "#### 11.2 np.stack\n",
    "\n",
    "A função `np.stack`  é usada para juntar (ou empilhar) arrays ao longo de um novo eixo. Por exemplo, para empilhar os 1-arrays ao longo de linhas procedemos da seguinte forma:"
   ]
  },
  {
   "cell_type": "code",
   "execution_count": null,
   "metadata": {},
   "outputs": [],
   "source": []
  },
  {
   "cell_type": "markdown",
   "metadata": {},
   "source": [
    "Por outro lado, podemos empilhar os 1-arrays ao longo de colunas (axis = 1):"
   ]
  },
  {
   "cell_type": "code",
   "execution_count": null,
   "metadata": {},
   "outputs": [],
   "source": []
  },
  {
   "cell_type": "markdown",
   "metadata": {},
   "source": [
    "Podemos empilhar matrizes (por exemplo, cada matriz poderia representar uma imagem), para formar um 3-array:"
   ]
  },
  {
   "cell_type": "code",
   "execution_count": null,
   "metadata": {},
   "outputs": [],
   "source": []
  },
  {
   "cell_type": "code",
   "execution_count": null,
   "metadata": {},
   "outputs": [],
   "source": []
  },
  {
   "cell_type": "markdown",
   "metadata": {},
   "source": [
    "Vejamos a forma do resultado:"
   ]
  },
  {
   "cell_type": "code",
   "execution_count": null,
   "metadata": {},
   "outputs": [],
   "source": []
  },
  {
   "cell_type": "markdown",
   "metadata": {},
   "source": [
    "Agora, images_stack é um 3-array com a forma (3, 32, 32), onde cada \"plano\" ao longo do eixo 0 representa uma imagem. Isso facilita o processamento, pois podemos aplicar operações em todas as imagens ao mesmo tempo, como filtragem, normalização, etc."
   ]
  },
  {
   "cell_type": "markdown",
   "metadata": {},
   "source": [
    "#### 11.3 np.hstack\n",
    "\n",
    "A função `np.hstack` é usada para empilhar (ou concatenar) arrays horizontalmente, ou seja, ao longo do eixo das colunas. Diferente da função stack, que cria uma nova dimensão ao longo do eixo especificado, a função hstack realiza a concatenação dos arrays de forma que as colunas são unidas lado a lado. Por exemplo, "
   ]
  },
  {
   "cell_type": "code",
   "execution_count": null,
   "metadata": {},
   "outputs": [],
   "source": []
  },
  {
   "cell_type": "markdown",
   "metadata": {},
   "source": [
    "Quando lidamos com 2-arrays, `hstack` concatena os arrays ao longo do eixo das colunas:"
   ]
  },
  {
   "cell_type": "code",
   "execution_count": null,
   "metadata": {},
   "outputs": [],
   "source": []
  },
  {
   "cell_type": "markdown",
   "metadata": {},
   "source": [
    "Todos os arrays devem ter o mesmo número de linhas para que hstack funcione corretamente."
   ]
  },
  {
   "cell_type": "markdown",
   "metadata": {},
   "source": [
    "#### 11.4 np.vstack\n",
    "\n",
    "A função `np.vstack` do NumPy é usada para empilhar arrays verticalmente, ou seja, ao longo do eixo das linhas. Isso significa que a função concatena arrays colocando-os um abaixo do outro. Diferente da função hstack, que combina arrays horizontalmente (lado a lado), vstack organiza os arrays de forma que novas linhas são adicionadas ao final. A função é útil para combinar arrays que têm o mesmo número de colunas.\n",
    "\n",
    "Podemos usar essa função para concatenar dois 1-arrays em uma matriz:"
   ]
  },
  {
   "cell_type": "code",
   "execution_count": null,
   "metadata": {},
   "outputs": [],
   "source": []
  },
  {
   "cell_type": "markdown",
   "metadata": {},
   "source": [
    "Podemos empilhar verticalmente duas matrizes:"
   ]
  },
  {
   "cell_type": "code",
   "execution_count": null,
   "metadata": {},
   "outputs": [],
   "source": []
  },
  {
   "cell_type": "markdown",
   "metadata": {},
   "source": [
    "**Exemplo.** Agregando Dados de Vários Experimentos. \n",
    "Suponha que temos dados de vários experimentos realizados separadamente, mas com as mesmas variáveis medidas. Podemos usar vstack para combinar esses dados em um único array, facilitando a análise conjunta:"
   ]
  },
  {
   "cell_type": "code",
   "execution_count": null,
   "metadata": {},
   "outputs": [],
   "source": []
  },
  {
   "cell_type": "markdown",
   "metadata": {},
   "source": [
    "#### 11.5 np.where\n",
    "\n",
    "A função `np.where` é útil para realizar operações condicionais em arrays de forma eficiente. Ela permite selecionar índices de elementos, ou os próprios elementos de um array com base em uma condição booleana. Por exemplo, "
   ]
  },
  {
   "cell_type": "code",
   "execution_count": null,
   "metadata": {},
   "outputs": [],
   "source": [
    "import numpy as np"
   ]
  },
  {
   "cell_type": "code",
   "execution_count": null,
   "metadata": {},
   "outputs": [],
   "source": []
  },
  {
   "cell_type": "markdown",
   "metadata": {},
   "source": [
    "Para selecionar diretamente os elementos que satisfazem a condição: "
   ]
  },
  {
   "cell_type": "code",
   "execution_count": null,
   "metadata": {},
   "outputs": [],
   "source": []
  },
  {
   "cell_type": "markdown",
   "metadata": {},
   "source": [
    "Podemos substituir valores de um array dependendo de uma condição:"
   ]
  },
  {
   "cell_type": "code",
   "execution_count": null,
   "metadata": {},
   "outputs": [],
   "source": []
  },
  {
   "cell_type": "markdown",
   "metadata": {},
   "source": [
    "Aqui, a função substitui os valores por 1 onde a condição `arr > 25` é verdadeira e por 0 onde é falsa.\n",
    "\n",
    "Podemos combinar np.where com operações lógicas para definir condições mais complexas:"
   ]
  },
  {
   "cell_type": "code",
   "execution_count": null,
   "metadata": {},
   "outputs": [],
   "source": []
  },
  {
   "cell_type": "markdown",
   "metadata": {},
   "source": [
    "Nesse exemplo, o `np.where` substitui os valores que estão entre 15 e 45 pelo próprio valor, enquanto os demais valores são substituídos por 0."
   ]
  },
  {
   "cell_type": "markdown",
   "metadata": {},
   "source": [
    "**Exemplo.**  Uma das técnicas mais comuns para tratar valores NaN em um array 1D é substituir os NaN pela média ou mediana de todos os valores não NaN no array. Essa abordagem é útil quando se deseja manter a média geral dos dados estável:"
   ]
  },
  {
   "cell_type": "code",
   "execution_count": null,
   "metadata": {},
   "outputs": [],
   "source": []
  },
  {
   "cell_type": "code",
   "execution_count": null,
   "metadata": {},
   "outputs": [],
   "source": []
  },
  {
   "cell_type": "markdown",
   "metadata": {},
   "source": [
    "No exemplo acima usamos `np.nanmean`, que calcula a média do array 1D sem levar em conta os elementos NaN. Se a mediana for preferível (menos afetada por valores extremos), podemos usar `np.nanmedian`:"
   ]
  },
  {
   "cell_type": "code",
   "execution_count": null,
   "metadata": {},
   "outputs": [],
   "source": []
  },
  {
   "cell_type": "markdown",
   "metadata": {},
   "source": [
    "Se queremos substituir `NaN` por um valor fixo: "
   ]
  },
  {
   "cell_type": "code",
   "execution_count": null,
   "metadata": {},
   "outputs": [],
   "source": []
  },
  {
   "cell_type": "markdown",
   "metadata": {},
   "source": [
    "A técnica chamada de *forward fill* (preencher com o valor anterior) ou *backward fill* (preencher com o valor seguinte) é comumente usada em séries temporais, onde a continuidade entre os dados adjacentes é importante:"
   ]
  },
  {
   "cell_type": "code",
   "execution_count": null,
   "metadata": {},
   "outputs": [],
   "source": []
  },
  {
   "cell_type": "markdown",
   "metadata": {},
   "source": [
    "Note que este loop não é eficiente para arrays 1D muito longos. Em tal caso, é preferível uma forma vetorizada, que envolve funções que não estudamos aqui. "
   ]
  },
  {
   "cell_type": "markdown",
   "metadata": {
    "id": "m6u6BmNlEW_d"
   },
   "source": [
    "### 12. Exercícios\n",
    "\n",
    "1. Crie um array usando a função `np.arange` que contenha todos os números inteiros de 0 a 20.\n",
    "\n",
    "2. Crie um array com 15 números igualmente espaçados entre 0 e 1 (inclusive) usando `np.linspace`.\n",
    "\n",
    "3. Dado o array `arr = np.arange(10)`, obtenha um subarray que contenha os três primeiros elementos de `arr`.\n",
    "\n",
    "4. Utilize o array do exercício anterior e obtenha um novo array que contenha apenas os elementos ímpares.\n",
    "\n",
    "5. Dado um array qualquer (por exemplo de 10 componentes) no qual as componentes são ângulos em radianos, determine o correspondente array com ângulos dados em graus.\n",
    "\n",
    "6. Dado o array `a = np.array([1, 2, 3, 4, 5])`, crie um array booleano que identifique quais elementos de `a` são maiores que 3.\n",
    "\n",
    "7. Utilizando o array `A = np.array([10, 22, 33, 44, 55, 66, 77, 88, 99]`, crie um array booleano que identifique os elementos maiores que 15 e menores que 120. Use este array booleano para filtrar os elementos correspondentes do array A.\n",
    "\n",
    "8. Dado o array `B = np.array([3, 6, 9, 12, 15, 18, 21, 24, 27, 30]`, crie um array booleano para selecionar apenas os elementos que são múltiplos de 5.\n",
    "\n",
    "9. Utilize o array do exercício anterior e obtenha um novo array que contenha apenas os elementos ímpares.\n",
    "\n",
    "10. Crie dois arrays, um com números pares de 2 a 20 e outro com números ímpares de 1 a 19. Concatene-os em um único array ordenado.\n",
    "\n",
    "11. Crie dois arrays `a = np.arange(5)` e `b = np.arange(5, 10)`. Calcule a soma elemento a elemento desses dois arrays na forma $\\sqrt{a^2+b^2}$.\n",
    "\n",
    "12. Crie dois arrays, `a = np.array([1, 2, 3])` e `b = np.array([4, 5, 6])`. Concatene-os em um único array.\n",
    "\n",
    "13. Usando arrays booleanos determine todos o inteiros menores que 200 que são divisíveis por 2 e 3.\n",
    "\n",
    "14. Crie uma lista com 20 nomes de pessoas (só primeiro nome). Usando arrays booleanos determine os nomes que começam com uma vogal e terminam com a letra \"e\".\n",
    "\n",
    "15. Crie um array 1D com números de 1 a 12. Em seguida, use `np.reshape` para reorganizá-lo em um array 2D com 3 linhas e 4 colunas. Finalmente, altere o formato para ter 4 linhas e 3 colunas.\n",
    "\n",
    "16.  Crie dois arrays 1D, cada um com 5 elementos à sua escolha. Use `np.stack` para empilhá-los de forma a obter um array 2D (ou seja, uma matriz) com duas linhas e cinco colunas. Em seguida, use `np.stack` novamente para obter um array 3D.\n",
    "\n",
    "17. Crie dois arrays 2D, ambos com 2 linhas e 3 colunas, contendo números inteiros à sua escolha. Use `np.vstack` para empilhar esses dois arrays verticalmente e formar um novo array com 4 linhas e 3 colunas.\n",
    "\n",
    "18. Crie três arrays 1D com 4 elementos cada. Use `np.hstack` para combiná-los horizontalmente em um único array 2D com 4 linhas e 3 colunas.\n",
    "\n",
    "19. Considere um array 1D com 10 elementos, contendo números inteiros entre 1 e 20. Use `np.where` para substituir todos os valores maiores que 10 por 10 e todos os valores menores ou iguais a 10 por 0.\n",
    "\n",
    "20. Temos uma lista de medidas horárias de temperatura coletadas ao longo de uma semana."
   ]
  },
  {
   "cell_type": "code",
   "execution_count": null,
   "metadata": {},
   "outputs": [],
   "source": [
    "temperaturas = np.array([23.2, 25.7, 24.0, np.nan, 21.4, np.nan, 21.6, 28.4, 29.5, 20.8, 26.9,\n",
    "        np.nan, 23.5, 28.9, 16.1, 16.3, 15.3, 27.5, 26.7, 28.1, 29.7, 27.0,\n",
    "       21.9, 26.7, 16.8, 24.6, 17.2, 29.2, 22.8, 21.2, np.nan, 26.6, 21.8,\n",
    "       23.5, 15.3, 24.3, np.nan, np.nan, 29.2, 25.2, 20.4, 21.6, 25.5, 15.9,\n",
    "       25.0, 25.1, np.nan, 16.9, 19.7, 20.5, 23.6, 21.6, 29.8, 16.5, 18.1,\n",
    "       17.4, 24.8, 18.8, 22.0, 18.7, 17.4, 16.7, 24.8, 17.1, 17.9, np.nan,\n",
    "       27.3, 16.5, 27.6, 16.4, 29.6, 22.0, 29.7, 24.1, 26.1, 15.6, 19.2,\n",
    "       16.8, 19.4, 16.8, 19.8, 21.2, 16.0, 25.4, 23.5, 19.0, 22.8, np.nan,\n",
    "       23.6, 28.9, 19.8, 25.0, 17.0, 25.7, np.nan, 17.7, 23.8, 15.3, 27.4,\n",
    "       15.1, np.nan, 19.1, 26.0, 29.4, 18.7, 23.6, 23.9, 23.6, 18.3, 29.3,\n",
    "       21.7, 27.7, 25.5, 19.5, 27.2, np.nan, 28.2, 23.7, 28.2, 25.4, 25.9,\n",
    "       22.5, 29.3, 24.7, 21.4, 24.1, 15.3, 19.5, np.nan, 19.4, 24.3, 21.4,\n",
    "       17.0, 19.5, 23.5, np.nan, 23.6, 24.8, 24.8, np.nan, 28.4, np.nan, 21.5,\n",
    "       28.4, np.nan, np.nan, 16.5, 28.8, 25.7, 30.0, 17.2, 28.0, 17.4, 24.2,\n",
    "       np.nan, 27.7, 27.1, 23.5, 21.1, 16.0, 25.5, 21.8, 25.8, 28.0, np.nan,\n",
    "       27.8, 15.2, 20.4])"
   ]
  },
  {
   "cell_type": "markdown",
   "metadata": {},
   "source": [
    "(i) Use a técnica de *forward fill* para substituir todos os valores NaN do array temperaturas pelo último valor válido anterior. "
   ]
  },
  {
   "cell_type": "markdown",
   "metadata": {},
   "source": [
    "(ii) Reorganize o array temperaturas para que ele tenha uma estrutura de 7 linhas e 24 colunas, representando uma matriz com os dias da semana (linhas) e as horas do dia (colunas). Sug.: use `np.reshape`. \n",
    "\n",
    "(iii) Divida o array `temperaturas` em duas partes, uma para a primeira metade da semana e outra para a segunda metade. Em seguida, empilhe essas duas partes verticalmente usando `np.vstack`."
   ]
  },
  {
   "cell_type": "markdown",
   "metadata": {},
   "source": [
    "(iv) Divida o array `temperaturas` em sete arrays de 24 elementos, representando cada dia da semana. Use `np.hstack` para empilhar esses sete arrays horizontalmente."
   ]
  },
  {
   "cell_type": "markdown",
   "metadata": {},
   "source": [
    "(v) Crie um novo array onde os valores de temperatura são categorizados. Use `np.where` para definir os valores maiores que 25 como 1 (representando \"Alta Temperatura\") e os valores menores ou iguais a 25 como 0 (representando \"Baixa Temperatura\"). Ignore os valores NaN nesta categorização."
   ]
  }
 ],
 "metadata": {
  "colab": {
   "include_colab_link": true,
   "provenance": []
  },
  "kernelspec": {
   "display_name": "Python 3 (ipykernel)",
   "language": "python",
   "name": "python3"
  },
  "language_info": {
   "codemirror_mode": {
    "name": "ipython",
    "version": 3
   },
   "file_extension": ".py",
   "mimetype": "text/x-python",
   "name": "python",
   "nbconvert_exporter": "python",
   "pygments_lexer": "ipython3",
   "version": "3.12.4"
  }
 },
 "nbformat": 4,
 "nbformat_minor": 4
}
